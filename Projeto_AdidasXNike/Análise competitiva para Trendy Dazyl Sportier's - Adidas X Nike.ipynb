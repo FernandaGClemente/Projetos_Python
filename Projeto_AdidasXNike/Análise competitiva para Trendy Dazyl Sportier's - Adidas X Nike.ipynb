{
 "cells": [
  {
   "cell_type": "markdown",
   "id": "eaa8ef1a",
   "metadata": {},
   "source": [
    "# Análise competitiva para Trendy Dazyl Sportier's"
   ]
  },
  {
   "cell_type": "markdown",
   "id": "f3235753",
   "metadata": {},
   "source": [
    "> https://medium.com/data4fashion/competitive-analysis-for-trendy-dazyl-sportiers-88e9f0cfa543 <br>\n",
    "> https://www.kaggle.com/datasets/kaushiksuresh147/adidas-vs-nike?resource=download"
   ]
  },
  {
   "cell_type": "code",
   "execution_count": null,
   "id": "8ec2037c",
   "metadata": {},
   "outputs": [],
   "source": []
  }
 ],
 "metadata": {
  "kernelspec": {
   "display_name": "Python 3 (ipykernel)",
   "language": "python",
   "name": "python3"
  },
  "language_info": {
   "codemirror_mode": {
    "name": "ipython",
    "version": 3
   },
   "file_extension": ".py",
   "mimetype": "text/x-python",
   "name": "python",
   "nbconvert_exporter": "python",
   "pygments_lexer": "ipython3",
   "version": "3.9.16"
  }
 },
 "nbformat": 4,
 "nbformat_minor": 5
}
