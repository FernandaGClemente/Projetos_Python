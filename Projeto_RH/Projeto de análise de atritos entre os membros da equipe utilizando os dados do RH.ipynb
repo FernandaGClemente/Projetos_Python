{
 "cells": [
  {
   "cell_type": "markdown",
   "id": "ac4bdea0",
   "metadata": {},
   "source": [
    "<center><img width=\"25%\" src=\"https://www.camaramirimdoce.sc.gov.br/media/noticia/resumo-da-sessao-10-06-2019-111.png?w=848&h=450&t=P&c=f0f0f0&q=80&v=2\"></center>\n",
    "\n",
    "---\n",
    "\n",
    "<br>\n",
    "\n",
    "# Projeto de análise de atritos entre os membros da equipe utilizando os dados do RH\n",
    "\n",
    "<br>"
   ]
  },
  {
   "cell_type": "markdown",
   "id": "af8ee0ec",
   "metadata": {},
   "source": [
    "### A análise de Recursos Humanos (RH) consiste na coleta e análise de dados relevantes para aprimorar o desempenho da equipe de trabalho. Esses dados são coletados de forma contínua pelo departamento de RH e utilizados tanto para atingir os objetivos do RH quanto para beneficiar a organização como um todo. Ao fornecer uma visão embasada em dados, essa análise possibilita identificar o que é eficaz e o que não é dentro da empresa, com base em métricas estabelecidas. <br>\n",
    "\n",
    "### Objetivo: Essa iniciativa visa examinar e compreender padrões e causas de conflitos internos na organização, fornecendo informações relevantes para compreender a taxa e tendência de atrito entre os membros da equipe. <br>\n",
    "\n",
    "### Dataset: Os dados usados para a análise foram obtidos de terceiros do Kaggle."
   ]
  },
  {
   "cell_type": "markdown",
   "id": "b52f013d",
   "metadata": {},
   "source": [
    "### Passo 1 - Importando as bibliotecas"
   ]
  },
  {
   "cell_type": "code",
   "execution_count": 3,
   "id": "3b9794b9",
   "metadata": {},
   "outputs": [],
   "source": [
    "import pandas as pd\n",
    "import numpy as np\n",
    "\n",
    "import matplotlib.pyplot as plt\n",
    "import seaborn as sns\n",
    "import plotly.express as px "
   ]
  },
  {
   "cell_type": "markdown",
   "id": "c7d8c94b",
   "metadata": {},
   "source": [
    "### Passo 2 - Lendo os 2 arquivos em CSV e transformando-os em DataFrame do Pandas"
   ]
  },
  {
   "cell_type": "code",
   "execution_count": 4,
   "id": "98463a47",
   "metadata": {},
   "outputs": [],
   "source": [
    "df_funcionario = pd.read_csv(\"empregados.csv\", encoding='latin-1')\n",
    "df_nivel_educacional = pd.read_csv(\"nivel_de_educacao.csv\", encoding='latin-1')"
   ]
  },
  {
   "cell_type": "markdown",
   "id": "0567ed4e",
   "metadata": {},
   "source": [
    "### Passo 3 - Conhecendo e entendendo os dados das duas tabelas"
   ]
  },
  {
   "cell_type": "code",
   "execution_count": 5,
   "id": "d10cae1d",
   "metadata": {},
   "outputs": [
    {
     "data": {
      "text/html": [
       "<div>\n",
       "<style scoped>\n",
       "    .dataframe tbody tr th:only-of-type {\n",
       "        vertical-align: middle;\n",
       "    }\n",
       "\n",
       "    .dataframe tbody tr th {\n",
       "        vertical-align: top;\n",
       "    }\n",
       "\n",
       "    .dataframe thead th {\n",
       "        text-align: right;\n",
       "    }\n",
       "</style>\n",
       "<table border=\"1\" class=\"dataframe\">\n",
       "  <thead>\n",
       "    <tr style=\"text-align: right;\">\n",
       "      <th></th>\n",
       "      <th>ID do Empregado</th>\n",
       "      <th>Primeiro nome</th>\n",
       "      <th>Sobrenome</th>\n",
       "      <th>Gênero</th>\n",
       "      <th>Idade</th>\n",
       "      <th>Viagem de negócios</th>\n",
       "      <th>Departamento</th>\n",
       "      <th>Distância de Casa (KM)</th>\n",
       "      <th>Estado</th>\n",
       "      <th>Etnia</th>\n",
       "      <th>...</th>\n",
       "      <th>Estado civil</th>\n",
       "      <th>Salário</th>\n",
       "      <th>Nível de opção de ações</th>\n",
       "      <th>Ao longo do tempo</th>\n",
       "      <th>Data de contratação</th>\n",
       "      <th>Atrito</th>\n",
       "      <th>Anos na empresa</th>\n",
       "      <th>Anos na função mais recente</th>\n",
       "      <th>Anos desde a última promoção</th>\n",
       "      <th>Anos com gerente atual</th>\n",
       "    </tr>\n",
       "  </thead>\n",
       "  <tbody>\n",
       "    <tr>\n",
       "      <th>0</th>\n",
       "      <td>3012-1A41</td>\n",
       "      <td>Leonelle</td>\n",
       "      <td>Simco</td>\n",
       "      <td>Feminino</td>\n",
       "      <td>30</td>\n",
       "      <td>Algumas viagens</td>\n",
       "      <td>Vendas</td>\n",
       "      <td>27</td>\n",
       "      <td>Illinois</td>\n",
       "      <td>Branco</td>\n",
       "      <td>...</td>\n",
       "      <td>Divorciado</td>\n",
       "      <td>102059</td>\n",
       "      <td>1</td>\n",
       "      <td>Não</td>\n",
       "      <td>40911</td>\n",
       "      <td>Não</td>\n",
       "      <td>10</td>\n",
       "      <td>4</td>\n",
       "      <td>9</td>\n",
       "      <td>7</td>\n",
       "    </tr>\n",
       "    <tr>\n",
       "      <th>1</th>\n",
       "      <td>CBCB-9C9D</td>\n",
       "      <td>Leonerd</td>\n",
       "      <td>Aland</td>\n",
       "      <td>Masculino</td>\n",
       "      <td>38</td>\n",
       "      <td>Algumas viagens</td>\n",
       "      <td>Vendas</td>\n",
       "      <td>23</td>\n",
       "      <td>California</td>\n",
       "      <td>Branco</td>\n",
       "      <td>...</td>\n",
       "      <td>Solteiro</td>\n",
       "      <td>157718</td>\n",
       "      <td>0</td>\n",
       "      <td>Sim</td>\n",
       "      <td>40912</td>\n",
       "      <td>Não</td>\n",
       "      <td>10</td>\n",
       "      <td>6</td>\n",
       "      <td>10</td>\n",
       "      <td>0</td>\n",
       "    </tr>\n",
       "    <tr>\n",
       "      <th>2</th>\n",
       "      <td>95D7-1CE9</td>\n",
       "      <td>Ahmed</td>\n",
       "      <td>Sykes</td>\n",
       "      <td>Masculino</td>\n",
       "      <td>43</td>\n",
       "      <td>Algumas viagens</td>\n",
       "      <td>Recursos Humanos</td>\n",
       "      <td>29</td>\n",
       "      <td>California</td>\n",
       "      <td>Asiático ou Asiático Americano</td>\n",
       "      <td>...</td>\n",
       "      <td>Casado</td>\n",
       "      <td>309964</td>\n",
       "      <td>1</td>\n",
       "      <td>Não</td>\n",
       "      <td>40912</td>\n",
       "      <td>Não</td>\n",
       "      <td>10</td>\n",
       "      <td>6</td>\n",
       "      <td>10</td>\n",
       "      <td>8</td>\n",
       "    </tr>\n",
       "    <tr>\n",
       "      <th>3</th>\n",
       "      <td>47A0-559B</td>\n",
       "      <td>Ermentrude</td>\n",
       "      <td>Berrie</td>\n",
       "      <td>Não-binário</td>\n",
       "      <td>39</td>\n",
       "      <td>Algumas viagens</td>\n",
       "      <td>Tecnologia</td>\n",
       "      <td>12</td>\n",
       "      <td>Illinois</td>\n",
       "      <td>Branco</td>\n",
       "      <td>...</td>\n",
       "      <td>Casado</td>\n",
       "      <td>293132</td>\n",
       "      <td>0</td>\n",
       "      <td>Não</td>\n",
       "      <td>40913</td>\n",
       "      <td>Não</td>\n",
       "      <td>10</td>\n",
       "      <td>10</td>\n",
       "      <td>10</td>\n",
       "      <td>0</td>\n",
       "    </tr>\n",
       "    <tr>\n",
       "      <th>4</th>\n",
       "      <td>42CC-040A</td>\n",
       "      <td>Stace</td>\n",
       "      <td>Savege</td>\n",
       "      <td>Feminino</td>\n",
       "      <td>29</td>\n",
       "      <td>Algumas viagens</td>\n",
       "      <td>Recursos Humanos</td>\n",
       "      <td>29</td>\n",
       "      <td>California</td>\n",
       "      <td>Branco</td>\n",
       "      <td>...</td>\n",
       "      <td>Solteiro</td>\n",
       "      <td>49606</td>\n",
       "      <td>0</td>\n",
       "      <td>Não</td>\n",
       "      <td>40913</td>\n",
       "      <td>Sim</td>\n",
       "      <td>6</td>\n",
       "      <td>1</td>\n",
       "      <td>1</td>\n",
       "      <td>6</td>\n",
       "    </tr>\n",
       "  </tbody>\n",
       "</table>\n",
       "<p>5 rows × 23 columns</p>\n",
       "</div>"
      ],
      "text/plain": [
       "  ID do Empregado Primeiro nome Sobrenome       Gênero  Idade  \\\n",
       "0       3012-1A41      Leonelle     Simco     Feminino     30   \n",
       "1       CBCB-9C9D       Leonerd     Aland    Masculino     38   \n",
       "2       95D7-1CE9         Ahmed     Sykes    Masculino     43   \n",
       "3       47A0-559B    Ermentrude    Berrie  Não-binário     39   \n",
       "4       42CC-040A         Stace    Savege     Feminino     29   \n",
       "\n",
       "  Viagem de negócios      Departamento  Distância de Casa (KM)      Estado  \\\n",
       "0    Algumas viagens            Vendas                      27    Illinois   \n",
       "1    Algumas viagens            Vendas                      23  California   \n",
       "2    Algumas viagens  Recursos Humanos                      29  California   \n",
       "3    Algumas viagens        Tecnologia                      12    Illinois   \n",
       "4    Algumas viagens  Recursos Humanos                      29  California   \n",
       "\n",
       "                            Etnia  ...  Estado civil Salário  \\\n",
       "0                          Branco  ...    Divorciado  102059   \n",
       "1                          Branco  ...      Solteiro  157718   \n",
       "2  Asiático ou Asiático Americano  ...        Casado  309964   \n",
       "3                          Branco  ...        Casado  293132   \n",
       "4                          Branco  ...      Solteiro   49606   \n",
       "\n",
       "  Nível de opção de ações Ao longo do tempo  Data de contratação  Atrito  \\\n",
       "0                       1               Não                40911     Não   \n",
       "1                       0               Sim                40912     Não   \n",
       "2                       1               Não                40912     Não   \n",
       "3                       0               Não                40913     Não   \n",
       "4                       0               Não                40913     Sim   \n",
       "\n",
       "  Anos na empresa  Anos na função mais recente Anos desde a última promoção  \\\n",
       "0              10                            4                            9   \n",
       "1              10                            6                           10   \n",
       "2              10                            6                           10   \n",
       "3              10                           10                           10   \n",
       "4               6                            1                            1   \n",
       "\n",
       "   Anos com gerente atual  \n",
       "0                       7  \n",
       "1                       0  \n",
       "2                       8  \n",
       "3                       0  \n",
       "4                       6  \n",
       "\n",
       "[5 rows x 23 columns]"
      ]
     },
     "metadata": {},
     "output_type": "display_data"
    }
   ],
   "source": [
    "# Mostrando as 5 primeiras linhas do Dataframe dos empregados\n",
    "display(df_funcionario.head())"
   ]
  },
  {
   "cell_type": "code",
   "execution_count": 6,
   "id": "36a5b5bf",
   "metadata": {},
   "outputs": [
    {
     "name": "stdout",
     "output_type": "stream",
     "text": [
      "<class 'pandas.core.frame.DataFrame'>\n",
      "RangeIndex: 1470 entries, 0 to 1469\n",
      "Data columns (total 23 columns):\n",
      " #   Column                        Non-Null Count  Dtype \n",
      "---  ------                        --------------  ----- \n",
      " 0   ID do Empregado               1470 non-null   object\n",
      " 1   Primeiro nome                 1470 non-null   object\n",
      " 2   Sobrenome                     1470 non-null   object\n",
      " 3   Gênero                        1470 non-null   object\n",
      " 4   Idade                         1470 non-null   int64 \n",
      " 5   Viagem de negócios            1470 non-null   object\n",
      " 6   Departamento                  1470 non-null   object\n",
      " 7   Distância de Casa (KM)        1470 non-null   int64 \n",
      " 8   Estado                        1470 non-null   object\n",
      " 9   Etnia                         1470 non-null   object\n",
      " 10  Educação                      1470 non-null   int64 \n",
      " 11  Campo da educação             1470 non-null   object\n",
      " 12  Cargo de Trabalho             1470 non-null   object\n",
      " 13  Estado civil                  1470 non-null   object\n",
      " 14  Salário                       1470 non-null   int64 \n",
      " 15  Nível de opção de ações       1470 non-null   int64 \n",
      " 16  Ao longo do tempo             1470 non-null   object\n",
      " 17  Data de contratação           1470 non-null   int64 \n",
      " 18  Atrito                        1470 non-null   object\n",
      " 19  Anos na empresa               1470 non-null   int64 \n",
      " 20  Anos na função mais recente   1470 non-null   int64 \n",
      " 21  Anos desde a última promoção  1470 non-null   int64 \n",
      " 22  Anos com gerente atual        1470 non-null   int64 \n",
      "dtypes: int64(10), object(13)\n",
      "memory usage: 264.3+ KB\n",
      "None\n"
     ]
    }
   ],
   "source": [
    "# Mostrando as informações do Dataframe dos empregados\n",
    "print(df_funcionario.info())"
   ]
  },
  {
   "cell_type": "markdown",
   "id": "f7a5aeb9",
   "metadata": {},
   "source": [
    "#### Observasse que a tabela de funcionários não possui valores nulos e que possue 23 colunas e 1.470 linhas. E que a coluna Data de Contratação está com o tipo de dado inteiro em vez de Datetime (Data). Será realizado a conversão da coluna de Data de Contratação para o tipo correto. "
   ]
  },
  {
   "cell_type": "code",
   "execution_count": 7,
   "id": "222f887d",
   "metadata": {},
   "outputs": [],
   "source": [
    "# Importação da biblioteca datetime\n",
    "from datetime import datetime\n",
    "\n",
    "# Transformação da coluna Data de Contratação em um coluna no tipo Datetime, especificando qual será o formato em Ano-Mês-Dia. \n",
    "df_funcionario['Data de contratação'] = pd.to_datetime(df_funcionario['Data de contratação'], origin='1899-12-30', unit='D')"
   ]
  },
  {
   "cell_type": "code",
   "execution_count": 8,
   "id": "f7f176be",
   "metadata": {},
   "outputs": [
    {
     "name": "stdout",
     "output_type": "stream",
     "text": [
      "2022-12-31 00:00:00\n",
      "2012-01-03 00:00:00\n"
     ]
    }
   ],
   "source": [
    "# Identificando qual é a data de início e data final do Dataframe dos empregados\n",
    "maior_data = df_funcionario['Data de contratação'].max()\n",
    "menor_data = df_funcionario['Data de contratação'].min()\n",
    "print(f'{maior_data}\\n{menor_data}')"
   ]
  },
  {
   "cell_type": "code",
   "execution_count": 9,
   "id": "579d7785",
   "metadata": {},
   "outputs": [
    {
     "name": "stdout",
     "output_type": "stream",
     "text": [
      "             Idade  Distância de Casa (KM)     Educação        Salário  \\\n",
      "count  1470.000000             1470.000000  1470.000000    1470.000000   \n",
      "mean     28.989796               22.502721     2.912925  112956.497959   \n",
      "std       7.993055               12.811124     1.024165  103342.889222   \n",
      "min      18.000000                1.000000     1.000000   20387.000000   \n",
      "25%      23.000000               12.000000     2.000000   43580.500000   \n",
      "50%      26.000000               22.000000     3.000000   71199.500000   \n",
      "75%      34.000000               33.000000     4.000000  142055.750000   \n",
      "max      51.000000               45.000000     5.000000  547204.000000   \n",
      "\n",
      "       Nível de opção de ações  Anos na empresa  Anos na função mais recente  \\\n",
      "count              1470.000000      1470.000000                  1470.000000   \n",
      "mean                  0.793878         4.562585                     2.293197   \n",
      "std                   0.852077         3.288048                     2.539093   \n",
      "min                   0.000000         0.000000                     0.000000   \n",
      "25%                   0.000000         2.000000                     0.000000   \n",
      "50%                   1.000000         4.000000                     1.000000   \n",
      "75%                   1.000000         7.000000                     4.000000   \n",
      "max                   3.000000        10.000000                    10.000000   \n",
      "\n",
      "       Anos desde a última promoção  Anos com gerente atual  \n",
      "count                   1470.000000             1470.000000  \n",
      "mean                       3.440816                2.239456  \n",
      "std                        2.945194                2.505774  \n",
      "min                        0.000000                0.000000  \n",
      "25%                        1.000000                0.000000  \n",
      "50%                        3.000000                1.000000  \n",
      "75%                        6.000000                4.000000  \n",
      "max                       10.000000               10.000000  \n"
     ]
    }
   ],
   "source": [
    "# Mostrando as estatísticas descritivas de todas as colunas numéricas do Dataframe\n",
    "print(df_funcionario.describe())"
   ]
  },
  {
   "cell_type": "code",
   "execution_count": 10,
   "id": "2eb257b9",
   "metadata": {},
   "outputs": [
    {
     "data": {
      "text/plain": [
       "0"
      ]
     },
     "execution_count": 10,
     "metadata": {},
     "output_type": "execute_result"
    }
   ],
   "source": [
    "# Verificando se existe linhas duplicadas no Dataframe dos empregados\n",
    "var_copia = df_funcionario.duplicated()\n",
    "var_copia.sum()"
   ]
  },
  {
   "cell_type": "markdown",
   "id": "505cdd2b",
   "metadata": {},
   "source": [
    "#### Não foi encontrado nenhuma linha duplicada no Dataframe dos empregados."
   ]
  },
  {
   "cell_type": "code",
   "execution_count": 11,
   "id": "fbd88d85",
   "metadata": {},
   "outputs": [
    {
     "data": {
      "text/plain": [
       "(1470, 23)"
      ]
     },
     "execution_count": 11,
     "metadata": {},
     "output_type": "execute_result"
    }
   ],
   "source": [
    "# Verificando a quantidade de linhas e colunas\n",
    "df_funcionario.shape"
   ]
  },
  {
   "cell_type": "markdown",
   "id": "8ebd434e",
   "metadata": {},
   "source": [
    "#### Como não foi necessário realizar nenhuma exclusão de linhas ou colunas no Dataframe dos empregados, por não conter valores ausentes ou duplicados, o conjunto de dados permaneceu com 1.470 linhas e 23 colunas. "
   ]
  },
  {
   "cell_type": "code",
   "execution_count": 12,
   "id": "6062b6fe",
   "metadata": {},
   "outputs": [
    {
     "data": {
      "text/html": [
       "<div>\n",
       "<style scoped>\n",
       "    .dataframe tbody tr th:only-of-type {\n",
       "        vertical-align: middle;\n",
       "    }\n",
       "\n",
       "    .dataframe tbody tr th {\n",
       "        vertical-align: top;\n",
       "    }\n",
       "\n",
       "    .dataframe thead th {\n",
       "        text-align: right;\n",
       "    }\n",
       "</style>\n",
       "<table border=\"1\" class=\"dataframe\">\n",
       "  <thead>\n",
       "    <tr style=\"text-align: right;\">\n",
       "      <th></th>\n",
       "      <th>ID do Nível de Educação</th>\n",
       "      <th>Nível de Educação</th>\n",
       "    </tr>\n",
       "  </thead>\n",
       "  <tbody>\n",
       "    <tr>\n",
       "      <th>0</th>\n",
       "      <td>1</td>\n",
       "      <td>Sem qualificações formais</td>\n",
       "    </tr>\n",
       "    <tr>\n",
       "      <th>1</th>\n",
       "      <td>2</td>\n",
       "      <td>Ensino médio</td>\n",
       "    </tr>\n",
       "    <tr>\n",
       "      <th>2</th>\n",
       "      <td>3</td>\n",
       "      <td>Bacharéis</td>\n",
       "    </tr>\n",
       "    <tr>\n",
       "      <th>3</th>\n",
       "      <td>4</td>\n",
       "      <td>Mestres</td>\n",
       "    </tr>\n",
       "    <tr>\n",
       "      <th>4</th>\n",
       "      <td>5</td>\n",
       "      <td>Doutorado</td>\n",
       "    </tr>\n",
       "  </tbody>\n",
       "</table>\n",
       "</div>"
      ],
      "text/plain": [
       "   ID do Nível de Educação          Nível de Educação\n",
       "0                        1  Sem qualificações formais\n",
       "1                        2               Ensino médio\n",
       "2                        3                  Bacharéis\n",
       "3                        4                    Mestres\n",
       "4                        5                  Doutorado"
      ]
     },
     "metadata": {},
     "output_type": "display_data"
    },
    {
     "name": "stdout",
     "output_type": "stream",
     "text": [
      "<class 'pandas.core.frame.DataFrame'>\n",
      "RangeIndex: 5 entries, 0 to 4\n",
      "Data columns (total 2 columns):\n",
      " #   Column                   Non-Null Count  Dtype \n",
      "---  ------                   --------------  ----- \n",
      " 0   ID do Nível de Educação  5 non-null      int64 \n",
      " 1   Nível de Educação        5 non-null      object\n",
      "dtypes: int64(1), object(1)\n",
      "memory usage: 208.0+ bytes\n",
      "None\n"
     ]
    },
    {
     "data": {
      "text/plain": [
       "(5, 2)"
      ]
     },
     "execution_count": 12,
     "metadata": {},
     "output_type": "execute_result"
    }
   ],
   "source": [
    "# Mostrando todas as linhas do Dataframe de Nível Educaional e suas informações\n",
    "display(df_nivel_educacional)\n",
    "print(df_nivel_educacional.info())\n",
    "df_nivel_educacional.shape"
   ]
  },
  {
   "cell_type": "markdown",
   "id": "169d39ce",
   "metadata": {},
   "source": [
    "#### Observasse que o Dataframe do Nível Educacional não possui valores nulos e que possue 2 colunas e 5 linhas. Não é necessário fazer uma verificação de linhas duplicadas, por se tratar de um conjunto de dados pequeno, onde é possivel verificar visualmente e nem realizar uma análise estatísticas descritivas de suas colunas."
   ]
  },
  {
   "cell_type": "code",
   "execution_count": 13,
   "id": "cfc78355",
   "metadata": {},
   "outputs": [
    {
     "name": "stdout",
     "output_type": "stream",
     "text": [
      "<class 'pandas.core.frame.DataFrame'>\n",
      "RangeIndex: 1470 entries, 0 to 1469\n",
      "Data columns (total 23 columns):\n",
      " #   Column                        Non-Null Count  Dtype         \n",
      "---  ------                        --------------  -----         \n",
      " 0   ID do Empregado               1470 non-null   object        \n",
      " 1   Primeiro nome                 1470 non-null   object        \n",
      " 2   Sobrenome                     1470 non-null   object        \n",
      " 3   Gênero                        1470 non-null   object        \n",
      " 4   Idade                         1470 non-null   int64         \n",
      " 5   Viagem de negócios            1470 non-null   object        \n",
      " 6   Departamento                  1470 non-null   object        \n",
      " 7   Distância de Casa (KM)        1470 non-null   int64         \n",
      " 8   Estado                        1470 non-null   object        \n",
      " 9   Etnia                         1470 non-null   object        \n",
      " 10  Educação                      1470 non-null   int64         \n",
      " 11  Campo da educação             1470 non-null   object        \n",
      " 12  Cargo de Trabalho             1470 non-null   object        \n",
      " 13  Estado civil                  1470 non-null   object        \n",
      " 14  Salário                       1470 non-null   int64         \n",
      " 15  Nível de opção de ações       1470 non-null   int64         \n",
      " 16  Ao longo do tempo             1470 non-null   object        \n",
      " 17  Data de contratação           1470 non-null   datetime64[ns]\n",
      " 18  Atrito                        1470 non-null   object        \n",
      " 19  Anos na empresa               1470 non-null   int64         \n",
      " 20  Anos na função mais recente   1470 non-null   int64         \n",
      " 21  Anos desde a última promoção  1470 non-null   int64         \n",
      " 22  Anos com gerente atual        1470 non-null   int64         \n",
      "dtypes: datetime64[ns](1), int64(9), object(13)\n",
      "memory usage: 264.3+ KB\n",
      "None\n"
     ]
    }
   ],
   "source": [
    "print(df_funcionario.info())"
   ]
  },
  {
   "cell_type": "markdown",
   "id": "6cf1f07f",
   "metadata": {},
   "source": [
    "### Passo 4 - Análise Exploratória dos Dados <br>\n",
    "Colunas qualitativas:  \n",
    "* Gênero                                      \n",
    "* Viagem de negócios           \n",
    "* Departamento                      \n",
    "* Estado                        \n",
    "* Etnia                         \n",
    "* Educação          \n",
    "* Campo da educação  \n",
    "* Cargo de Trabalho             \n",
    "* Estado civil \n",
    "* Ao longo do tempo            \n",
    "* Data de contratação  \n",
    "<br>\n",
    "\n",
    "Colunas quantitativas:\n",
    "* Distância de Casa (KM)\n",
    "* Idade            \n",
    "* Salário                      \n",
    "* Nível de opção de ações                \n",
    "* Atrito                        \n",
    "* Anos na empresa              \n",
    "* Anos na função mais recente   \n",
    "* Anos desde a última promoção  \n",
    "* Anos com gerente atual         "
   ]
  },
  {
   "cell_type": "markdown",
   "id": "d3c4a6f7",
   "metadata": {},
   "source": [
    "#### a) Coluna Atrito (Taxa de desgaste entre os membros da equipe)"
   ]
  },
  {
   "cell_type": "code",
   "execution_count": 12,
   "id": "ec6684df",
   "metadata": {},
   "outputs": [
    {
     "data": {
      "image/png": "[encoded data removed]",
      "text/plain": [
       "<Figure size 640x480 with 1 Axes>"
      ]
     },
     "metadata": {},
     "output_type": "display_data"
    }
   ],
   "source": [
    "# Verificando qual é a taxa de desgate na empresa\n",
    "\n",
    "# Quantidade de valor sim e não = df_funcionario.Atrito.value_counts() >>> Resposta: Não = 1233 e Sim = 237\n",
    "# Total de funcionarios = len(df_funcionario) >>> Resposta: 1470\n",
    "# % = (1233/1470) x 100 e (237/1470) x 100\n",
    "df_funcionario.Atrito.value_counts()/len(df_funcionario)*100\n",
    "\n",
    "# Agrupando pela coluna Atrito e realizando a contagem da quantidade dos seus valores  \n",
    "# Mostra a quantidade de funcionário agrupados pela existencia de atrito ou não\n",
    "df_atrito = df_funcionario.groupby('Atrito')['Atrito'].count()\n",
    "\n",
    "# Grafico de pizza ilustrando o agrupamento da coluna Atrito com base na contagem dos seus valores\n",
    "plt.pie(df_atrito, explode=[0.05,0.1], labels=['Não', 'Sim'], radius=1.0, autopct='%1.1f%%', shadow=False);\n",
    "# explode = Destacando a fatia menor\n",
    "# labels = Legenda de cada fatia\n",
    "# radius = Valor do raio \n",
    "# autopct = formato da porcentagem\n",
    "# shadow = Sem sombra no grafico"
   ]
  },
  {
   "cell_type": "markdown",
   "id": "f03a971c",
   "metadata": {},
   "source": [
    "#### Análise: A coluna Atrito é composta por dois valores: \"NÃO\", indicando que o funcionário não experimentou nenhum tipo de desgaste na empresa, e \"SIM\", representando o caso contrário, em que o funcionário teve algum tipo de desgaste. De acordo com o cálculo realizado no período de 03/01/2012 a 31/12/2022, foi constatado um índice de atrito de 16,12%, correspondendo a um total de 1.470 funcionários."
   ]
  },
  {
   "cell_type": "markdown",
   "id": "052f6c7c",
   "metadata": {},
   "source": [
    "#### b) Criação da função para transformar os valores da coluna Atrito (Sim = 1 e Não = 0) e aplicação na coluna Atrito"
   ]
  },
  {
   "cell_type": "code",
   "execution_count": 13,
   "id": "441c1a17",
   "metadata": {},
   "outputs": [
    {
     "data": {
      "text/plain": [
       "0    0\n",
       "1    0\n",
       "2    0\n",
       "3    0\n",
       "4    1\n",
       "Name: Atrito, dtype: int64"
      ]
     },
     "execution_count": 13,
     "metadata": {},
     "output_type": "execute_result"
    }
   ],
   "source": [
    "# Se o valor for igual a Sim retorna 1, caso o valor seja igual a Não retorne 0\n",
    "def sim_nao_para_1_0(valor):\n",
    "    if valor == 'Sim':\n",
    "        return 1\n",
    "    elif valor == 'Não':\n",
    "        return 0\n",
    "    else:\n",
    "        return valor\n",
    "    \n",
    "# Aplicando a função sim_nao_para_1_0 na coluna de Atrito e seu armazenamento em um novo dataframe\n",
    "df_funcionario['Atrito'] = df_funcionario['Atrito'].map(sim_nao_para_1_0)\n",
    "df_funcionario['Atrito'].head()\n",
    "# A função map está aplicando a função sim_nao_para_1_0 criada em todas as linhas da coluna Atrito. "
   ]
  },
  {
   "cell_type": "markdown",
   "id": "217ead24",
   "metadata": {},
   "source": [
    "#### c) Coluna de gênero"
   ]
  },
  {
   "cell_type": "code",
   "execution_count": 14,
   "id": "a9f5d5fa",
   "metadata": {},
   "outputs": [
    {
     "data": {
      "text/plain": [
       "Gênero\n",
       "Feminino             675\n",
       "Masculino            651\n",
       "Não-binário          124\n",
       "Prefiro não dizer     20\n",
       "Name: Gênero, dtype: int64"
      ]
     },
     "metadata": {},
     "output_type": "display_data"
    },
    {
     "data": {
      "image/png": "[encoded data removed]",
      "text/plain": [
       "<Figure size 640x480 with 1 Axes>"
      ]
     },
     "metadata": {},
     "output_type": "display_data"
    }
   ],
   "source": [
    "# Agrupando pela coluna Gênero e realizando a contagem de seus valores  \n",
    "# Mostra a quantidade de funcionário agrupados por gênero\n",
    "df_genero = df_funcionario.groupby('Gênero')['Gênero'].count()\n",
    "display(df_genero)\n",
    "\n",
    "# Visualizando a proporção de gênero através do gráfico de contagem\n",
    "sns.countplot(data = df_funcionario, x = 'Gênero')\n",
    "plt.title('Proporção de gênero');"
   ]
  },
  {
   "cell_type": "code",
   "execution_count": 16,
   "id": "5d2b43d5",
   "metadata": {},
   "outputs": [
    {
     "data": {
      "text/html": [
       "<div>\n",
       "<style scoped>\n",
       "    .dataframe tbody tr th:only-of-type {\n",
       "        vertical-align: middle;\n",
       "    }\n",
       "\n",
       "    .dataframe tbody tr th {\n",
       "        vertical-align: top;\n",
       "    }\n",
       "\n",
       "    .dataframe thead th {\n",
       "        text-align: right;\n",
       "    }\n",
       "</style>\n",
       "<table border=\"1\" class=\"dataframe\">\n",
       "  <thead>\n",
       "    <tr style=\"text-align: right;\">\n",
       "      <th></th>\n",
       "      <th></th>\n",
       "      <th>Gênero</th>\n",
       "    </tr>\n",
       "    <tr>\n",
       "      <th>Gênero</th>\n",
       "      <th>Atrito</th>\n",
       "      <th></th>\n",
       "    </tr>\n",
       "  </thead>\n",
       "  <tbody>\n",
       "    <tr>\n",
       "      <th rowspan=\"2\" valign=\"top\">Feminino</th>\n",
       "      <th>0</th>\n",
       "      <td>571</td>\n",
       "    </tr>\n",
       "    <tr>\n",
       "      <th>1</th>\n",
       "      <td>104</td>\n",
       "    </tr>\n",
       "    <tr>\n",
       "      <th rowspan=\"2\" valign=\"top\">Masculino</th>\n",
       "      <th>0</th>\n",
       "      <td>537</td>\n",
       "    </tr>\n",
       "    <tr>\n",
       "      <th>1</th>\n",
       "      <td>114</td>\n",
       "    </tr>\n",
       "    <tr>\n",
       "      <th rowspan=\"2\" valign=\"top\">Não-binário</th>\n",
       "      <th>0</th>\n",
       "      <td>105</td>\n",
       "    </tr>\n",
       "    <tr>\n",
       "      <th>1</th>\n",
       "      <td>19</td>\n",
       "    </tr>\n",
       "    <tr>\n",
       "      <th>Prefiro não dizer</th>\n",
       "      <th>0</th>\n",
       "      <td>20</td>\n",
       "    </tr>\n",
       "  </tbody>\n",
       "</table>\n",
       "</div>"
      ],
      "text/plain": [
       "                          Gênero\n",
       "Gênero            Atrito        \n",
       "Feminino          0          571\n",
       "                  1          104\n",
       "Masculino         0          537\n",
       "                  1          114\n",
       "Não-binário       0          105\n",
       "                  1           19\n",
       "Prefiro não dizer 0           20"
      ]
     },
     "execution_count": 16,
     "metadata": {},
     "output_type": "execute_result"
    }
   ],
   "source": [
    "# Agrupando pelas colunas Gênero e Atrito e realizando a contagem da quantidade de Gênero. Exibindo como tabela (to_frame)\n",
    "df_funcionario.groupby(['Gênero', 'Atrito'])['Gênero'].count().to_frame() "
   ]
  },
  {
   "cell_type": "code",
   "execution_count": 30,
   "id": "eacff38b",
   "metadata": {},
   "outputs": [
    {
     "data": {
      "text/html": [
       "<div>\n",
       "<style scoped>\n",
       "    .dataframe tbody tr th:only-of-type {\n",
       "        vertical-align: middle;\n",
       "    }\n",
       "\n",
       "    .dataframe tbody tr th {\n",
       "        vertical-align: top;\n",
       "    }\n",
       "\n",
       "    .dataframe thead th {\n",
       "        text-align: right;\n",
       "    }\n",
       "</style>\n",
       "<table border=\"1\" class=\"dataframe\">\n",
       "  <thead>\n",
       "    <tr style=\"text-align: right;\">\n",
       "      <th></th>\n",
       "      <th>Atrito</th>\n",
       "    </tr>\n",
       "    <tr>\n",
       "      <th>Gênero</th>\n",
       "      <th></th>\n",
       "    </tr>\n",
       "  </thead>\n",
       "  <tbody>\n",
       "    <tr>\n",
       "      <th>Masculino</th>\n",
       "      <td>0.175115</td>\n",
       "    </tr>\n",
       "    <tr>\n",
       "      <th>Feminino</th>\n",
       "      <td>0.154074</td>\n",
       "    </tr>\n",
       "    <tr>\n",
       "      <th>Não-binário</th>\n",
       "      <td>0.153226</td>\n",
       "    </tr>\n",
       "    <tr>\n",
       "      <th>Prefiro não dizer</th>\n",
       "      <td>0.000000</td>\n",
       "    </tr>\n",
       "  </tbody>\n",
       "</table>\n",
       "</div>"
      ],
      "text/plain": [
       "                     Atrito\n",
       "Gênero                     \n",
       "Masculino          0.175115\n",
       "Feminino           0.154074\n",
       "Não-binário        0.153226\n",
       "Prefiro não dizer  0.000000"
      ]
     },
     "execution_count": 30,
     "metadata": {},
     "output_type": "execute_result"
    }
   ],
   "source": [
    "# Agrupando pela coluna Gênero e realizando a média dos valores da coluna atritos. Exibindo como tabela (to_frame)\n",
    "# sort_values('Atrito', ascending=False) = ordenando pelos valores da coluna de atrito na ordem decrescente\n",
    "# Usar a média em vez da contagem remove o ruiod e fornece informações mais claras sobre os dados com base na proporção de gênero.\n",
    "df_funcionario.groupby('Gênero')['Atrito'].mean().to_frame().sort_values('Atrito', ascending=False)  "
   ]
  },
  {
   "cell_type": "code",
   "execution_count": 20,
   "id": "bcdd0c6d",
   "metadata": {},
   "outputs": [
    {
     "data": {
      "text/html": [
       "<div>\n",
       "<style scoped>\n",
       "    .dataframe tbody tr th:only-of-type {\n",
       "        vertical-align: middle;\n",
       "    }\n",
       "\n",
       "    .dataframe tbody tr th {\n",
       "        vertical-align: top;\n",
       "    }\n",
       "\n",
       "    .dataframe thead th {\n",
       "        text-align: right;\n",
       "    }\n",
       "</style>\n",
       "<table border=\"1\" class=\"dataframe\">\n",
       "  <thead>\n",
       "    <tr style=\"text-align: right;\">\n",
       "      <th></th>\n",
       "      <th></th>\n",
       "      <th>Renda mensal</th>\n",
       "    </tr>\n",
       "    <tr>\n",
       "      <th>Gênero</th>\n",
       "      <th>Atrito</th>\n",
       "      <th></th>\n",
       "    </tr>\n",
       "  </thead>\n",
       "  <tbody>\n",
       "    <tr>\n",
       "      <th rowspan=\"2\" valign=\"top\">Feminino</th>\n",
       "      <th>0</th>\n",
       "      <td>10103.004962</td>\n",
       "    </tr>\n",
       "    <tr>\n",
       "      <th>1</th>\n",
       "      <td>6154.488782</td>\n",
       "    </tr>\n",
       "    <tr>\n",
       "      <th rowspan=\"2\" valign=\"top\">Masculino</th>\n",
       "      <th>0</th>\n",
       "      <td>9730.863128</td>\n",
       "    </tr>\n",
       "    <tr>\n",
       "      <th>1</th>\n",
       "      <td>7353.119883</td>\n",
       "    </tr>\n",
       "    <tr>\n",
       "      <th rowspan=\"2\" valign=\"top\">Não-binário</th>\n",
       "      <th>0</th>\n",
       "      <td>9568.923016</td>\n",
       "    </tr>\n",
       "    <tr>\n",
       "      <th>1</th>\n",
       "      <td>7702.631579</td>\n",
       "    </tr>\n",
       "    <tr>\n",
       "      <th>Prefiro não dizer</th>\n",
       "      <th>0</th>\n",
       "      <td>10673.612500</td>\n",
       "    </tr>\n",
       "  </tbody>\n",
       "</table>\n",
       "</div>"
      ],
      "text/plain": [
       "                          Renda mensal\n",
       "Gênero            Atrito              \n",
       "Feminino          0       10103.004962\n",
       "                  1        6154.488782\n",
       "Masculino         0        9730.863128\n",
       "                  1        7353.119883\n",
       "Não-binário       0        9568.923016\n",
       "                  1        7702.631579\n",
       "Prefiro não dizer 0       10673.612500"
      ]
     },
     "execution_count": 20,
     "metadata": {},
     "output_type": "execute_result"
    }
   ],
   "source": [
    "# Criando uma coluna de Renda mensal do salário\n",
    "df_funcionario['Renda mensal'] = df_funcionario['Salário'] / 12\n",
    "\n",
    "# Agrupando pelas colunas Gênero e Atrito e realizando a média da Renda Mensal. Exibindo como tabela (to_frame)\n",
    "df_funcionario.groupby(['Gênero', 'Atrito'])['Renda mensal'].mean().to_frame() "
   ]
  },
  {
   "cell_type": "markdown",
   "id": "a979b22d",
   "metadata": {},
   "source": [
    "#### Análise: De acordo com os cálculos realizados no período de 03/01/2012 a 31/12/2022, foi constatado que os funcionários do gênero Masculino estão deixando a empresa mais do que os funcionários do gênero feminino. E que ambos os gêneros que saem da organização (Atrito = 1) possuem uma renda média mensal inferior em comparação com os funcionarios que permanecem (Sem atrito = 0)."
   ]
  },
  {
   "cell_type": "markdown",
   "id": "eef70d5c",
   "metadata": {},
   "source": [
    "#### d) Coluna de Departamento"
   ]
  },
  {
   "cell_type": "code",
   "execution_count": 32,
   "id": "9be034cf",
   "metadata": {},
   "outputs": [
    {
     "data": {
      "text/html": [
       "<div>\n",
       "<style scoped>\n",
       "    .dataframe tbody tr th:only-of-type {\n",
       "        vertical-align: middle;\n",
       "    }\n",
       "\n",
       "    .dataframe tbody tr th {\n",
       "        vertical-align: top;\n",
       "    }\n",
       "\n",
       "    .dataframe thead th {\n",
       "        text-align: right;\n",
       "    }\n",
       "</style>\n",
       "<table border=\"1\" class=\"dataframe\">\n",
       "  <thead>\n",
       "    <tr style=\"text-align: right;\">\n",
       "      <th></th>\n",
       "      <th>Departamento</th>\n",
       "      <th>Quantidade</th>\n",
       "    </tr>\n",
       "  </thead>\n",
       "  <tbody>\n",
       "    <tr>\n",
       "      <th>1</th>\n",
       "      <td>Tecnologia</td>\n",
       "      <td>961</td>\n",
       "    </tr>\n",
       "    <tr>\n",
       "      <th>2</th>\n",
       "      <td>Vendas</td>\n",
       "      <td>446</td>\n",
       "    </tr>\n",
       "    <tr>\n",
       "      <th>0</th>\n",
       "      <td>Recursos Humanos</td>\n",
       "      <td>63</td>\n",
       "    </tr>\n",
       "  </tbody>\n",
       "</table>\n",
       "</div>"
      ],
      "text/plain": [
       "       Departamento  Quantidade\n",
       "1        Tecnologia         961\n",
       "2            Vendas         446\n",
       "0  Recursos Humanos          63"
      ]
     },
     "metadata": {},
     "output_type": "display_data"
    },
    {
     "data": {
      "image/png": "[encoded data removed]",
      "text/plain": [
       "<Figure size 640x480 with 1 Axes>"
      ]
     },
     "metadata": {},
     "output_type": "display_data"
    }
   ],
   "source": [
    "# Agrupando pela coluna Departamento e realizando a contagem da quantidade de funcionários. Ordenando pela quantidade em ordem decrescente\n",
    "# Mostra a quantidade de funcionário agrupados por Departamento\n",
    "df_departamento = df_funcionario.groupby('Departamento').size().reset_index(name='Quantidade')\n",
    "df_departamento_ordenado = df_departamento.sort_values(by='Quantidade', ascending=False)\n",
    "display(df_departamento_ordenado)\n",
    "\n",
    "# Visualizando a proporção de Departamento atraves do gráfico de contagem\n",
    "sns.countplot(data = df_funcionario, x = 'Departamento')\n",
    "plt.title('Contagem de departamento');"
   ]
  },
  {
   "cell_type": "code",
   "execution_count": 18,
   "id": "494e8a07",
   "metadata": {},
   "outputs": [
    {
     "data": {
      "text/html": [
       "<div>\n",
       "<style scoped>\n",
       "    .dataframe tbody tr th:only-of-type {\n",
       "        vertical-align: middle;\n",
       "    }\n",
       "\n",
       "    .dataframe tbody tr th {\n",
       "        vertical-align: top;\n",
       "    }\n",
       "\n",
       "    .dataframe thead th {\n",
       "        text-align: right;\n",
       "    }\n",
       "</style>\n",
       "<table border=\"1\" class=\"dataframe\">\n",
       "  <thead>\n",
       "    <tr style=\"text-align: right;\">\n",
       "      <th></th>\n",
       "      <th>Atrito</th>\n",
       "    </tr>\n",
       "    <tr>\n",
       "      <th>Departamento</th>\n",
       "      <th></th>\n",
       "    </tr>\n",
       "  </thead>\n",
       "  <tbody>\n",
       "    <tr>\n",
       "      <th>Vendas</th>\n",
       "      <td>0.206278</td>\n",
       "    </tr>\n",
       "    <tr>\n",
       "      <th>Recursos Humanos</th>\n",
       "      <td>0.190476</td>\n",
       "    </tr>\n",
       "    <tr>\n",
       "      <th>Tecnologia</th>\n",
       "      <td>0.138398</td>\n",
       "    </tr>\n",
       "  </tbody>\n",
       "</table>\n",
       "</div>"
      ],
      "text/plain": [
       "                    Atrito\n",
       "Departamento              \n",
       "Vendas            0.206278\n",
       "Recursos Humanos  0.190476\n",
       "Tecnologia        0.138398"
      ]
     },
     "execution_count": 18,
     "metadata": {},
     "output_type": "execute_result"
    }
   ],
   "source": [
    "# Agrupando pela coluna Departamento e realizando a média dos valores da coluna Atrito. Exibindo como tabela (to_frame)  \n",
    "# sort_values('Atrito', ascending=False) = ordenando pelos valores da coluna de atrito na ordem decrescente\n",
    "df_funcionario.groupby('Departamento')['Atrito'].mean().to_frame().sort_values('Atrito', ascending=False) "
   ]
  },
  {
   "cell_type": "code",
   "execution_count": 19,
   "id": "24e4728c",
   "metadata": {},
   "outputs": [
    {
     "data": {
      "text/html": [
       "<div>\n",
       "<style scoped>\n",
       "    .dataframe tbody tr th:only-of-type {\n",
       "        vertical-align: middle;\n",
       "    }\n",
       "\n",
       "    .dataframe tbody tr th {\n",
       "        vertical-align: top;\n",
       "    }\n",
       "\n",
       "    .dataframe thead th {\n",
       "        text-align: right;\n",
       "    }\n",
       "</style>\n",
       "<table border=\"1\" class=\"dataframe\">\n",
       "  <thead>\n",
       "    <tr style=\"text-align: right;\">\n",
       "      <th></th>\n",
       "      <th></th>\n",
       "      <th>Departamento</th>\n",
       "    </tr>\n",
       "    <tr>\n",
       "      <th>Departamento</th>\n",
       "      <th>Atrito</th>\n",
       "      <th></th>\n",
       "    </tr>\n",
       "  </thead>\n",
       "  <tbody>\n",
       "    <tr>\n",
       "      <th rowspan=\"2\" valign=\"top\">Recursos Humanos</th>\n",
       "      <th>0</th>\n",
       "      <td>51</td>\n",
       "    </tr>\n",
       "    <tr>\n",
       "      <th>1</th>\n",
       "      <td>12</td>\n",
       "    </tr>\n",
       "    <tr>\n",
       "      <th rowspan=\"2\" valign=\"top\">Tecnologia</th>\n",
       "      <th>0</th>\n",
       "      <td>828</td>\n",
       "    </tr>\n",
       "    <tr>\n",
       "      <th>1</th>\n",
       "      <td>133</td>\n",
       "    </tr>\n",
       "    <tr>\n",
       "      <th rowspan=\"2\" valign=\"top\">Vendas</th>\n",
       "      <th>0</th>\n",
       "      <td>354</td>\n",
       "    </tr>\n",
       "    <tr>\n",
       "      <th>1</th>\n",
       "      <td>92</td>\n",
       "    </tr>\n",
       "  </tbody>\n",
       "</table>\n",
       "</div>"
      ],
      "text/plain": [
       "                         Departamento\n",
       "Departamento     Atrito              \n",
       "Recursos Humanos 0                 51\n",
       "                 1                 12\n",
       "Tecnologia       0                828\n",
       "                 1                133\n",
       "Vendas           0                354\n",
       "                 1                 92"
      ]
     },
     "execution_count": 19,
     "metadata": {},
     "output_type": "execute_result"
    }
   ],
   "source": [
    "# Agrupando pelas colunas Departamento e Atrito e realizando a contagem dos valores da coluna Departamento. Exibindo como tabela (to_frame)  \n",
    "df_funcionario.groupby(['Departamento', 'Atrito'])['Departamento'].count().to_frame() "
   ]
  },
  {
   "cell_type": "markdown",
   "id": "e0d84b94",
   "metadata": {},
   "source": [
    "#### Análise: Após realizar os cálculos referentes ao período de 03/01/2012 a 31/12/2022, constatou-se que o Departamento de Vendas apresenta o maior índice de atrito dentro da empresa. Isso é particularmente interessante, considerando que o departamento de Vendas é o segundo maior em termos de número de funcionários, enquanto o departamento de Tecnologia possui mais colaboradores, porém menos casos de atrito."
   ]
  },
  {
   "cell_type": "markdown",
   "id": "be4b38b8",
   "metadata": {},
   "source": [
    "#### e) Coluna Campo da educação"
   ]
  },
  {
   "cell_type": "code",
   "execution_count": 28,
   "id": "801e4589",
   "metadata": {},
   "outputs": [
    {
     "data": {
      "text/html": [
       "<div>\n",
       "<style scoped>\n",
       "    .dataframe tbody tr th:only-of-type {\n",
       "        vertical-align: middle;\n",
       "    }\n",
       "\n",
       "    .dataframe tbody tr th {\n",
       "        vertical-align: top;\n",
       "    }\n",
       "\n",
       "    .dataframe thead th {\n",
       "        text-align: right;\n",
       "    }\n",
       "</style>\n",
       "<table border=\"1\" class=\"dataframe\">\n",
       "  <thead>\n",
       "    <tr style=\"text-align: right;\">\n",
       "      <th></th>\n",
       "      <th>Campo da educação</th>\n",
       "      <th>Quantidade</th>\n",
       "    </tr>\n",
       "  </thead>\n",
       "  <tbody>\n",
       "    <tr>\n",
       "      <th>0</th>\n",
       "      <td>Ciência da Computação</td>\n",
       "      <td>440</td>\n",
       "    </tr>\n",
       "    <tr>\n",
       "      <th>7</th>\n",
       "      <td>Sistemas de informação</td>\n",
       "      <td>363</td>\n",
       "    </tr>\n",
       "    <tr>\n",
       "      <th>4</th>\n",
       "      <td>Marketing</td>\n",
       "      <td>325</td>\n",
       "    </tr>\n",
       "    <tr>\n",
       "      <th>1</th>\n",
       "      <td>Economia</td>\n",
       "      <td>101</td>\n",
       "    </tr>\n",
       "    <tr>\n",
       "      <th>2</th>\n",
       "      <td>Estudos de Negócios</td>\n",
       "      <td>94</td>\n",
       "    </tr>\n",
       "    <tr>\n",
       "      <th>5</th>\n",
       "      <td>Outro</td>\n",
       "      <td>82</td>\n",
       "    </tr>\n",
       "    <tr>\n",
       "      <th>3</th>\n",
       "      <td>Graduação Técnica</td>\n",
       "      <td>38</td>\n",
       "    </tr>\n",
       "    <tr>\n",
       "      <th>6</th>\n",
       "      <td>Recursos Humanos</td>\n",
       "      <td>27</td>\n",
       "    </tr>\n",
       "  </tbody>\n",
       "</table>\n",
       "</div>"
      ],
      "text/plain": [
       "        Campo da educação  Quantidade\n",
       "0   Ciência da Computação         440\n",
       "7  Sistemas de informação         363\n",
       "4               Marketing         325\n",
       "1                Economia         101\n",
       "2     Estudos de Negócios          94\n",
       "5                   Outro          82\n",
       "3       Graduação Técnica          38\n",
       "6        Recursos Humanos          27"
      ]
     },
     "execution_count": 28,
     "metadata": {},
     "output_type": "execute_result"
    }
   ],
   "source": [
    "# Agrupando pela coluna Campo da educação e realizando a contagem da quantidade de funcionários. Ordenando pela quantidade em ordem decrescente\n",
    "# Mostra a quantidade de funcionário agrupados por Campo de educação\n",
    "\n",
    "resultado = df_funcionario.groupby('Campo da educação').size().reset_index(name='Quantidade')\n",
    "resultado_ordenado = resultado.sort_values(by='Quantidade', ascending=False)\n",
    "resultado_ordenado"
   ]
  },
  {
   "cell_type": "code",
   "execution_count": 22,
   "id": "61cbf943",
   "metadata": {},
   "outputs": [
    {
     "data": {
      "text/html": [
       "<div>\n",
       "<style scoped>\n",
       "    .dataframe tbody tr th:only-of-type {\n",
       "        vertical-align: middle;\n",
       "    }\n",
       "\n",
       "    .dataframe tbody tr th {\n",
       "        vertical-align: top;\n",
       "    }\n",
       "\n",
       "    .dataframe thead th {\n",
       "        text-align: right;\n",
       "    }\n",
       "</style>\n",
       "<table border=\"1\" class=\"dataframe\">\n",
       "  <thead>\n",
       "    <tr style=\"text-align: right;\">\n",
       "      <th></th>\n",
       "      <th>Atrito</th>\n",
       "    </tr>\n",
       "    <tr>\n",
       "      <th>Campo da educação</th>\n",
       "      <th></th>\n",
       "    </tr>\n",
       "  </thead>\n",
       "  <tbody>\n",
       "    <tr>\n",
       "      <th>Graduação Técnica</th>\n",
       "      <td>0.315789</td>\n",
       "    </tr>\n",
       "    <tr>\n",
       "      <th>Recursos Humanos</th>\n",
       "      <td>0.259259</td>\n",
       "    </tr>\n",
       "    <tr>\n",
       "      <th>Estudos de Negócios</th>\n",
       "      <td>0.212766</td>\n",
       "    </tr>\n",
       "    <tr>\n",
       "      <th>Marketing</th>\n",
       "      <td>0.200000</td>\n",
       "    </tr>\n",
       "    <tr>\n",
       "      <th>Economia</th>\n",
       "      <td>0.158416</td>\n",
       "    </tr>\n",
       "    <tr>\n",
       "      <th>Outro</th>\n",
       "      <td>0.134146</td>\n",
       "    </tr>\n",
       "    <tr>\n",
       "      <th>Ciência da Computação</th>\n",
       "      <td>0.134091</td>\n",
       "    </tr>\n",
       "    <tr>\n",
       "      <th>Sistemas de informação</th>\n",
       "      <td>0.129477</td>\n",
       "    </tr>\n",
       "  </tbody>\n",
       "</table>\n",
       "</div>"
      ],
      "text/plain": [
       "                          Atrito\n",
       "Campo da educação               \n",
       "Graduação Técnica       0.315789\n",
       "Recursos Humanos        0.259259\n",
       "Estudos de Negócios     0.212766\n",
       "Marketing               0.200000\n",
       "Economia                0.158416\n",
       "Outro                   0.134146\n",
       "Ciência da Computação   0.134091\n",
       "Sistemas de informação  0.129477"
      ]
     },
     "execution_count": 22,
     "metadata": {},
     "output_type": "execute_result"
    }
   ],
   "source": [
    "# Agrupando pelas colunas Campo da educação e Atrito e realizando a média dos valores da coluna Atrito. Exibindo como tabela (to_frame)  \n",
    "# sort_values('Atrito', ascending=False) = ordenando pelos valores da coluna de Atrito na ordem decrescente\n",
    "df_funcionario.groupby('Campo da educação')['Atrito'].mean().to_frame().sort_values('Atrito', ascending=False) "
   ]
  },
  {
   "cell_type": "markdown",
   "id": "eabf2ecc",
   "metadata": {},
   "source": [
    "#### Análise: "
   ]
  },
  {
   "cell_type": "code",
   "execution_count": 33,
   "id": "bfb06adc",
   "metadata": {},
   "outputs": [
    {
     "data": {
      "text/html": [
       "<div>\n",
       "<style scoped>\n",
       "    .dataframe tbody tr th:only-of-type {\n",
       "        vertical-align: middle;\n",
       "    }\n",
       "\n",
       "    .dataframe tbody tr th {\n",
       "        vertical-align: top;\n",
       "    }\n",
       "\n",
       "    .dataframe thead th {\n",
       "        text-align: right;\n",
       "    }\n",
       "</style>\n",
       "<table border=\"1\" class=\"dataframe\">\n",
       "  <thead>\n",
       "    <tr style=\"text-align: right;\">\n",
       "      <th></th>\n",
       "      <th>Atrito</th>\n",
       "    </tr>\n",
       "    <tr>\n",
       "      <th>Cargo de Trabalho</th>\n",
       "      <th></th>\n",
       "    </tr>\n",
       "  </thead>\n",
       "  <tbody>\n",
       "    <tr>\n",
       "      <th>Representante de vendas</th>\n",
       "      <td>0.397590</td>\n",
       "    </tr>\n",
       "    <tr>\n",
       "      <th>Recrutador</th>\n",
       "      <td>0.375000</td>\n",
       "    </tr>\n",
       "    <tr>\n",
       "      <th>Cientista de dados</th>\n",
       "      <td>0.237548</td>\n",
       "    </tr>\n",
       "    <tr>\n",
       "      <th>Executivo de vendas</th>\n",
       "      <td>0.174312</td>\n",
       "    </tr>\n",
       "    <tr>\n",
       "      <th>Engenheiro de software</th>\n",
       "      <td>0.159864</td>\n",
       "    </tr>\n",
       "  </tbody>\n",
       "</table>\n",
       "</div>"
      ],
      "text/plain": [
       "                           Atrito\n",
       "Cargo de Trabalho                \n",
       "Representante de vendas  0.397590\n",
       "Recrutador               0.375000\n",
       "Cientista de dados       0.237548\n",
       "Executivo de vendas      0.174312\n",
       "Engenheiro de software   0.159864"
      ]
     },
     "execution_count": 33,
     "metadata": {},
     "output_type": "execute_result"
    }
   ],
   "source": [
    "# Agrupando pela coluna Cargo de Trabalho e realizando a média da quantidade de Atrito\n",
    "# sort_values('Atrito', ascending=False) = ordenando pelos valores da coluna de atrito na ordem decrescente\n",
    "df_cargo = df_funcionario.groupby('Cargo de Trabalho')['Atrito'].mean().to_frame().sort_values('Atrito', ascending=False) # to_frame = Mostrando com tabela\n",
    "df_cargo.head()"
   ]
  },
  {
   "cell_type": "code",
   "execution_count": 34,
   "id": "9651174f",
   "metadata": {},
   "outputs": [
    {
     "data": {
      "text/html": [
       "<div>\n",
       "<style scoped>\n",
       "    .dataframe tbody tr th:only-of-type {\n",
       "        vertical-align: middle;\n",
       "    }\n",
       "\n",
       "    .dataframe tbody tr th {\n",
       "        vertical-align: top;\n",
       "    }\n",
       "\n",
       "    .dataframe thead th {\n",
       "        text-align: right;\n",
       "    }\n",
       "</style>\n",
       "<table border=\"1\" class=\"dataframe\">\n",
       "  <thead>\n",
       "    <tr style=\"text-align: right;\">\n",
       "      <th></th>\n",
       "      <th></th>\n",
       "      <th>Cargo de Trabalho</th>\n",
       "    </tr>\n",
       "    <tr>\n",
       "      <th>Cargo de Trabalho</th>\n",
       "      <th>Atrito</th>\n",
       "      <th></th>\n",
       "    </tr>\n",
       "  </thead>\n",
       "  <tbody>\n",
       "    <tr>\n",
       "      <th rowspan=\"2\" valign=\"top\">Cientista de dados</th>\n",
       "      <th>0</th>\n",
       "      <td>199</td>\n",
       "    </tr>\n",
       "    <tr>\n",
       "      <th>1</th>\n",
       "      <td>62</td>\n",
       "    </tr>\n",
       "    <tr>\n",
       "      <th rowspan=\"2\" valign=\"top\">Engenheiro de aprendizado de máquina</th>\n",
       "      <th>0</th>\n",
       "      <td>136</td>\n",
       "    </tr>\n",
       "    <tr>\n",
       "      <th>1</th>\n",
       "      <td>10</td>\n",
       "    </tr>\n",
       "    <tr>\n",
       "      <th rowspan=\"2\" valign=\"top\">Engenheiro de software</th>\n",
       "      <th>0</th>\n",
       "      <td>247</td>\n",
       "    </tr>\n",
       "    <tr>\n",
       "      <th>1</th>\n",
       "      <td>47</td>\n",
       "    </tr>\n",
       "    <tr>\n",
       "      <th rowspan=\"2\" valign=\"top\">Engenheiro de software senior</th>\n",
       "      <th>0</th>\n",
       "      <td>123</td>\n",
       "    </tr>\n",
       "    <tr>\n",
       "      <th>1</th>\n",
       "      <td>9</td>\n",
       "    </tr>\n",
       "    <tr>\n",
       "      <th rowspan=\"2\" valign=\"top\">Executivo de RH</th>\n",
       "      <th>0</th>\n",
       "      <td>25</td>\n",
       "    </tr>\n",
       "    <tr>\n",
       "      <th>1</th>\n",
       "      <td>3</td>\n",
       "    </tr>\n",
       "    <tr>\n",
       "      <th rowspan=\"2\" valign=\"top\">Executivo de vendas</th>\n",
       "      <th>0</th>\n",
       "      <td>270</td>\n",
       "    </tr>\n",
       "    <tr>\n",
       "      <th>1</th>\n",
       "      <td>57</td>\n",
       "    </tr>\n",
       "    <tr>\n",
       "      <th rowspan=\"2\" valign=\"top\">Gerente</th>\n",
       "      <th>0</th>\n",
       "      <td>35</td>\n",
       "    </tr>\n",
       "    <tr>\n",
       "      <th>1</th>\n",
       "      <td>2</td>\n",
       "    </tr>\n",
       "    <tr>\n",
       "      <th rowspan=\"2\" valign=\"top\">Gerente de análise</th>\n",
       "      <th>0</th>\n",
       "      <td>49</td>\n",
       "    </tr>\n",
       "    <tr>\n",
       "      <th>1</th>\n",
       "      <td>3</td>\n",
       "    </tr>\n",
       "    <tr>\n",
       "      <th rowspan=\"2\" valign=\"top\">Gerente de engenharia</th>\n",
       "      <th>0</th>\n",
       "      <td>73</td>\n",
       "    </tr>\n",
       "    <tr>\n",
       "      <th>1</th>\n",
       "      <td>2</td>\n",
       "    </tr>\n",
       "    <tr>\n",
       "      <th>Gestor de RH</th>\n",
       "      <th>0</th>\n",
       "      <td>4</td>\n",
       "    </tr>\n",
       "    <tr>\n",
       "      <th>RH parceiro de negócios</th>\n",
       "      <th>0</th>\n",
       "      <td>7</td>\n",
       "    </tr>\n",
       "    <tr>\n",
       "      <th rowspan=\"2\" valign=\"top\">Recrutador</th>\n",
       "      <th>0</th>\n",
       "      <td>15</td>\n",
       "    </tr>\n",
       "    <tr>\n",
       "      <th>1</th>\n",
       "      <td>9</td>\n",
       "    </tr>\n",
       "    <tr>\n",
       "      <th rowspan=\"2\" valign=\"top\">Representante de vendas</th>\n",
       "      <th>0</th>\n",
       "      <td>50</td>\n",
       "    </tr>\n",
       "    <tr>\n",
       "      <th>1</th>\n",
       "      <td>33</td>\n",
       "    </tr>\n",
       "  </tbody>\n",
       "</table>\n",
       "</div>"
      ],
      "text/plain": [
       "                                             Cargo de Trabalho\n",
       "Cargo de Trabalho                    Atrito                   \n",
       "Cientista de dados                   0                     199\n",
       "                                     1                      62\n",
       "Engenheiro de aprendizado de máquina 0                     136\n",
       "                                     1                      10\n",
       "Engenheiro de software               0                     247\n",
       "                                     1                      47\n",
       "Engenheiro de software senior        0                     123\n",
       "                                     1                       9\n",
       "Executivo de RH                      0                      25\n",
       "                                     1                       3\n",
       "Executivo de vendas                  0                     270\n",
       "                                     1                      57\n",
       "Gerente                              0                      35\n",
       "                                     1                       2\n",
       "Gerente de análise                   0                      49\n",
       "                                     1                       3\n",
       "Gerente de engenharia                0                      73\n",
       "                                     1                       2\n",
       "Gestor de RH                         0                       4\n",
       "RH parceiro de negócios              0                       7\n",
       "Recrutador                           0                      15\n",
       "                                     1                       9\n",
       "Representante de vendas              0                      50\n",
       "                                     1                      33"
      ]
     },
     "execution_count": 34,
     "metadata": {},
     "output_type": "execute_result"
    }
   ],
   "source": [
    "# Agrupando pelas colunas Cargo de Trabalho e Atrito e realizando a contagem da quantidade de Cargo de Trabalho\n",
    "df_funcionario.groupby(['Cargo de Trabalho', 'Atrito'])['Cargo de Trabalho'].count().to_frame() # to_frame = Mostrando com tabela"
   ]
  },
  {
   "cell_type": "code",
   "execution_count": 35,
   "id": "b30b8fa6",
   "metadata": {},
   "outputs": [
    {
     "data": {
      "text/html": [
       "<div>\n",
       "<style scoped>\n",
       "    .dataframe tbody tr th:only-of-type {\n",
       "        vertical-align: middle;\n",
       "    }\n",
       "\n",
       "    .dataframe tbody tr th {\n",
       "        vertical-align: top;\n",
       "    }\n",
       "\n",
       "    .dataframe thead th {\n",
       "        text-align: right;\n",
       "    }\n",
       "</style>\n",
       "<table border=\"1\" class=\"dataframe\">\n",
       "  <thead>\n",
       "    <tr style=\"text-align: right;\">\n",
       "      <th></th>\n",
       "      <th></th>\n",
       "      <th>Renda mensal</th>\n",
       "    </tr>\n",
       "    <tr>\n",
       "      <th>Cargo de Trabalho</th>\n",
       "      <th>Atrito</th>\n",
       "      <th></th>\n",
       "    </tr>\n",
       "  </thead>\n",
       "  <tbody>\n",
       "    <tr>\n",
       "      <th rowspan=\"2\" valign=\"top\">Cientista de dados</th>\n",
       "      <th>0</th>\n",
       "      <td>4802.715243</td>\n",
       "    </tr>\n",
       "    <tr>\n",
       "      <th>1</th>\n",
       "      <td>4257.881720</td>\n",
       "    </tr>\n",
       "    <tr>\n",
       "      <th rowspan=\"2\" valign=\"top\">Engenheiro de aprendizado de máquina</th>\n",
       "      <th>0</th>\n",
       "      <td>10928.809436</td>\n",
       "    </tr>\n",
       "    <tr>\n",
       "      <th>1</th>\n",
       "      <td>9735.141667</td>\n",
       "    </tr>\n",
       "    <tr>\n",
       "      <th rowspan=\"2\" valign=\"top\">Engenheiro de software</th>\n",
       "      <th>0</th>\n",
       "      <td>4524.210189</td>\n",
       "    </tr>\n",
       "    <tr>\n",
       "      <th>1</th>\n",
       "      <td>3313.039007</td>\n",
       "    </tr>\n",
       "    <tr>\n",
       "      <th rowspan=\"2\" valign=\"top\">Engenheiro de software senior</th>\n",
       "      <th>0</th>\n",
       "      <td>10369.120596</td>\n",
       "    </tr>\n",
       "    <tr>\n",
       "      <th>1</th>\n",
       "      <td>12485.824074</td>\n",
       "    </tr>\n",
       "    <tr>\n",
       "      <th rowspan=\"2\" valign=\"top\">Executivo de RH</th>\n",
       "      <th>0</th>\n",
       "      <td>7387.953333</td>\n",
       "    </tr>\n",
       "    <tr>\n",
       "      <th>1</th>\n",
       "      <td>11826.638889</td>\n",
       "    </tr>\n",
       "    <tr>\n",
       "      <th rowspan=\"2\" valign=\"top\">Executivo de vendas</th>\n",
       "      <th>0</th>\n",
       "      <td>9552.320062</td>\n",
       "    </tr>\n",
       "    <tr>\n",
       "      <th>1</th>\n",
       "      <td>10779.859649</td>\n",
       "    </tr>\n",
       "    <tr>\n",
       "      <th rowspan=\"2\" valign=\"top\">Gerente</th>\n",
       "      <th>0</th>\n",
       "      <td>26324.964286</td>\n",
       "    </tr>\n",
       "    <tr>\n",
       "      <th>1</th>\n",
       "      <td>28840.166667</td>\n",
       "    </tr>\n",
       "    <tr>\n",
       "      <th rowspan=\"2\" valign=\"top\">Gerente de análise</th>\n",
       "      <th>0</th>\n",
       "      <td>28784.227891</td>\n",
       "    </tr>\n",
       "    <tr>\n",
       "      <th>1</th>\n",
       "      <td>30334.833333</td>\n",
       "    </tr>\n",
       "    <tr>\n",
       "      <th rowspan=\"2\" valign=\"top\">Gerente de engenharia</th>\n",
       "      <th>0</th>\n",
       "      <td>23545.696347</td>\n",
       "    </tr>\n",
       "    <tr>\n",
       "      <th>1</th>\n",
       "      <td>35139.916667</td>\n",
       "    </tr>\n",
       "    <tr>\n",
       "      <th>Gestor de RH</th>\n",
       "      <th>0</th>\n",
       "      <td>37444.229167</td>\n",
       "    </tr>\n",
       "    <tr>\n",
       "      <th>RH parceiro de negócios</th>\n",
       "      <th>0</th>\n",
       "      <td>26166.869048</td>\n",
       "    </tr>\n",
       "    <tr>\n",
       "      <th rowspan=\"2\" valign=\"top\">Recrutador</th>\n",
       "      <th>0</th>\n",
       "      <td>3277.511111</td>\n",
       "    </tr>\n",
       "    <tr>\n",
       "      <th>1</th>\n",
       "      <td>2903.592593</td>\n",
       "    </tr>\n",
       "    <tr>\n",
       "      <th rowspan=\"2\" valign=\"top\">Representante de vendas</th>\n",
       "      <th>0</th>\n",
       "      <td>3619.773333</td>\n",
       "    </tr>\n",
       "    <tr>\n",
       "      <th>1</th>\n",
       "      <td>3036.916667</td>\n",
       "    </tr>\n",
       "  </tbody>\n",
       "</table>\n",
       "</div>"
      ],
      "text/plain": [
       "                                             Renda mensal\n",
       "Cargo de Trabalho                    Atrito              \n",
       "Cientista de dados                   0        4802.715243\n",
       "                                     1        4257.881720\n",
       "Engenheiro de aprendizado de máquina 0       10928.809436\n",
       "                                     1        9735.141667\n",
       "Engenheiro de software               0        4524.210189\n",
       "                                     1        3313.039007\n",
       "Engenheiro de software senior        0       10369.120596\n",
       "                                     1       12485.824074\n",
       "Executivo de RH                      0        7387.953333\n",
       "                                     1       11826.638889\n",
       "Executivo de vendas                  0        9552.320062\n",
       "                                     1       10779.859649\n",
       "Gerente                              0       26324.964286\n",
       "                                     1       28840.166667\n",
       "Gerente de análise                   0       28784.227891\n",
       "                                     1       30334.833333\n",
       "Gerente de engenharia                0       23545.696347\n",
       "                                     1       35139.916667\n",
       "Gestor de RH                         0       37444.229167\n",
       "RH parceiro de negócios              0       26166.869048\n",
       "Recrutador                           0        3277.511111\n",
       "                                     1        2903.592593\n",
       "Representante de vendas              0        3619.773333\n",
       "                                     1        3036.916667"
      ]
     },
     "execution_count": 35,
     "metadata": {},
     "output_type": "execute_result"
    }
   ],
   "source": [
    "# Agrupando pelas colunas Cargo de Trabalho e Atrito e realizando a média da quantidade de Renda mensal\n",
    "df_funcionario.groupby(['Cargo de Trabalho', 'Atrito'])['Renda mensal'].mean().to_frame() # to_frame = Mostrando com tabela"
   ]
  },
  {
   "cell_type": "markdown",
   "id": "392f4cfb",
   "metadata": {},
   "source": [
    "#### Análise: Correspondendo à taxa de desgaste do departamento, os representantes de vendas tendem a deixar a empresa mais do que outros cargos."
   ]
  },
  {
   "cell_type": "code",
   "execution_count": 36,
   "id": "af08e5ac",
   "metadata": {},
   "outputs": [
    {
     "data": {
      "image/png": "[encoded data removed]",
      "text/plain": [
       "<Figure size 1400x600 with 1 Axes>"
      ]
     },
     "metadata": {},
     "output_type": "display_data"
    }
   ],
   "source": [
    "#a distância afeta o atrito\n",
    "var_paleta = sns.color_palette(\"RdBu\", n_colors=2)\n",
    "\n",
    "plt.figure(figsize = (14, 6))\n",
    "sns.barplot(x='Departamento', y='Distância de Casa (KM)', data=df_funcionario, hue='Atrito', palette= var_paleta);"
   ]
  },
  {
   "cell_type": "markdown",
   "id": "ec0f2636",
   "metadata": {},
   "source": [
    "#### Análise: A maior parte do desgaste do departamento de RH foi influenciada pela distância da empresa de sua casa."
   ]
  },
  {
   "cell_type": "code",
   "execution_count": 37,
   "id": "92f7958b",
   "metadata": {},
   "outputs": [
    {
     "data": {
      "text/plain": [
       "Atrito\n",
       "0    29.460665\n",
       "1    26.540084\n",
       "Name: Idade, dtype: float64"
      ]
     },
     "execution_count": 37,
     "metadata": {},
     "output_type": "execute_result"
    }
   ],
   "source": [
    "# Agrupando pela coluna Atrito e realizando a média por idade\n",
    "df_funcionario.groupby('Atrito')['Idade'].mean()"
   ]
  },
  {
   "cell_type": "code",
   "execution_count": 38,
   "id": "7b6c0825",
   "metadata": {},
   "outputs": [
    {
     "data": {
      "image/png": "[encoded data removed]",
      "text/plain": [
       "<Figure size 640x480 with 1 Axes>"
      ]
     },
     "metadata": {},
     "output_type": "display_data"
    }
   ],
   "source": [
    "df_funcionario.groupby('Atrito').Idade.hist(bins=10);"
   ]
  },
  {
   "cell_type": "markdown",
   "id": "b2c6688b",
   "metadata": {},
   "source": [
    "#### Análise: Os mais jovens tendem a sair em comparação com os mais velhos."
   ]
  },
  {
   "cell_type": "code",
   "execution_count": null,
   "id": "4a530b9c",
   "metadata": {},
   "outputs": [],
   "source": [
    "# Agrupando pelas colunas Etnia e Atrito e realizando a média da Renda mensal\n",
    "# sort_values(['Atrito', 'Renda mensal'], ascending=False) = ordenando pelos valores das colunas de Atrito e Renda Mensal na ordem decrescente\n",
    "df_funcionario.groupby(['Etnia', 'Atrito'])['Renda mensal'].mean().to_frame().sort_values(['Atrito', 'Renda mensal'], ascending=False) # to_frame = Mostrando com tabela"
   ]
  },
  {
   "cell_type": "code",
   "execution_count": null,
   "id": "ebdefc7e",
   "metadata": {},
   "outputs": [],
   "source": [
    "# Chave pprimária da tabela Nivel de educação é a coluna ID do Nível de Educação\n",
    "display(df_nivel_educacional)\n",
    "\n",
    "# Chave estrangeira da tabela Nivel de educação é a coluna Educação da tabela Educação\n",
    "valor_contagens = df_funcionario['Educação'].value_counts()\n",
    "print(valor_contagens)"
   ]
  },
  {
   "cell_type": "code",
   "execution_count": null,
   "id": "48733ad7",
   "metadata": {},
   "outputs": [],
   "source": [
    "# Criação da função nivel_educacao para conectar os valores do Dataframe de df_funcionario e df_nivel_educacional\n",
    "\n",
    "def nivel_educacao(ID_nivel):\n",
    "    if ID_nivel == 1:\n",
    "        return 'Sem qualificações formais'\n",
    "    elif ID_nivel == 2:\n",
    "        return 'Ensino médio'\n",
    "    elif ID_nivel == 3:\n",
    "        return 'Bacharéis'\n",
    "    elif ID_nivel == 4:\n",
    "        return 'Mestres'\n",
    "    else:\n",
    "        return 'Doutorado'\n",
    "    \n",
    "# Criação da Dataframe Educacao usando o valor da coluna Educação e aplicando a função nivel_educacao\n",
    "df_educacao = df_funcionario['Educação'].map(nivel_educacao)\n",
    "\n",
    "# Criação da coluna Nova educação utilizando o Dataframe Educacao\n",
    "df_funcionario['Nova_educação'] = df_educacao\n",
    "\n",
    "# Mostra os valores da coluna Educação com os valores do Dataframe df_nivel_educacional \n",
    "display(df_funcionario['Nova_educação'].head(3))"
   ]
  },
  {
   "cell_type": "code",
   "execution_count": null,
   "id": "637ca0bf",
   "metadata": {},
   "outputs": [],
   "source": [
    "# Agrupando pelas colunas Nova_educação e Atrito e realizando a média pela quantidade de atrito\n",
    "# sort_values('Atrito', ascending=False) = ordenando pelo valor da coluna de Atrito na ordem decrescente\n",
    "df_funcionario.groupby('Nova_educação')['Atrito'].mean().to_frame().sort_values('Atrito', ascending=False) # to_frame = Mostrando com tabela"
   ]
  },
  {
   "cell_type": "code",
   "execution_count": null,
   "id": "e45ffeff",
   "metadata": {},
   "outputs": [],
   "source": [
    "# Agrupando pelas colunas Nova_educação e Atrito e realizando a contagem pela quantidade de atrito\n",
    "df_funcionario.groupby(['Nova_educação', 'Atrito'])['Atrito'].count().to_frame() # to_frame = Mostrando com tabela"
   ]
  },
  {
   "cell_type": "code",
   "execution_count": null,
   "id": "6e381b34",
   "metadata": {},
   "outputs": [],
   "source": [
    "# Agrupando pela coluna Nova_educação e realizando a média da Renda mensal\n",
    "# sort_values('Renda mensal') = ordenando pelo valor da coluna da Renda mensal na ordem crescente\n",
    "df_funcionario.groupby('Nova_educação')['Renda mensal'].mean().to_frame().sort_values('Renda mensal') # to_frame = Mostrando com tabela"
   ]
  },
  {
   "cell_type": "code",
   "execution_count": null,
   "id": "36b3c8e1",
   "metadata": {},
   "outputs": [],
   "source": [
    "# Agrupando pela coluna Anos na empresa e realizando a média da quantidade de Atrito\n",
    "# sort_values('Atrito', ascending=False) = ordenando pelo valor da coluna Atrito na ordem decrescente\n",
    "df_funcionario.groupby('Anos na empresa')['Atrito'].mean().to_frame().sort_values('Atrito', ascending=False) # to_frame = Mostrando com tabela"
   ]
  }
 ],
 "metadata": {
  "kernelspec": {
   "display_name": "Python 3 (ipykernel)",
   "language": "python",
   "name": "python3"
  },
  "language_info": {
   "codemirror_mode": {
    "name": "ipython",
    "version": 3
   },
   "file_extension": ".py",
   "mimetype": "text/x-python",
   "name": "python",
   "nbconvert_exporter": "python",
   "pygments_lexer": "ipython3",
   "version": "3.9.16"
  }
 },
 "nbformat": 4,
 "nbformat_minor": 5
}
