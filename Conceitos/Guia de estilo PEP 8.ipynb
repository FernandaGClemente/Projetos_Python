{
 "cells": [
  {
   "cell_type": "markdown",
   "id": "54f75ace",
   "metadata": {},
   "source": [
    "<center><img width=\"25%\" src=\"https://www.camaramirimdoce.sc.gov.br/media/noticia/resumo-da-sessao-10-06-2019-111.png?w=848&h=450&t=P&c=f0f0f0&q=80&v=2\"></center>\n",
    "\n",
    "--- \n",
    "<br>"
   ]
  },
  {
   "cell_type": "markdown",
   "id": "83614b7d",
   "metadata": {},
   "source": [
    "# <u>**Guia de estilo PEP 8**</u> <br>\n",
    "> https://peps.python.org/pep-0008/\n",
    "<br>\n",
    "<br>\n",
    "### O que é? \n",
    "##### Este documento fornece convenções de codificação para o código Python que compreende a biblioteca padrão na distribuição principal do Python."
   ]
  }
 ],
 "metadata": {
  "kernelspec": {
   "display_name": "Python 3 (ipykernel)",
   "language": "python",
   "name": "python3"
  },
  "language_info": {
   "codemirror_mode": {
    "name": "ipython",
    "version": 3
   },
   "file_extension": ".py",
   "mimetype": "text/x-python",
   "name": "python",
   "nbconvert_exporter": "python",
   "pygments_lexer": "ipython3",
   "version": "3.9.12"
  }
 },
 "nbformat": 4,
 "nbformat_minor": 5
}
