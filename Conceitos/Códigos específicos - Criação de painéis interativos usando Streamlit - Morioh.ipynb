{
 "cells": [
  {
   "cell_type": "markdown",
   "id": "d31b9da1",
   "metadata": {},
   "source": [
    "## Criação de painéis interativos usando Streamlit\n",
    "> https://morioh.com/p/1b979f624c1f?f=5c21fb01c16e2556b555ab32 <br>\n",
    "> https://github.com/Sven-Bo/streamlit-sales-dashboard?ref=morioh.com&utm_source=morioh.com <br>\n",
    "> https://pythonandvba.com/mytoolbelt/?ref=morioh.com&utm_source=morioh.com <br>\n",
    "> https://morioh.com/p/4772174bf08c <br>\n",
    "> https://morioh.com/p/2e267dcb7254 <br>\n",
    "> https://www.youtube.com/watch?v=Sb0A9i6d320&ab_channel=CodingIsFun"
   ]
  },
  {
   "cell_type": "markdown",
   "id": "4e905362",
   "metadata": {},
   "source": [
    "## Criação de painel analítico de site usando Streamlit\n",
    "> https://morioh.com/p/fdea27ab2c22?f=5e44c59998b8037d03aa8178 <br>\n",
    "> https://www.youtube.com/watch?v=pWxDxhWXJos&ab_channel=swahiliICTtutorials <br>\n",
    "> https://github.com/shamiraty/Streamlit-Dashboard-Descriptive-Analytics-with-MYSQL?ref=morioh.com&utm_source=morioh.com <br>\n",
    "> https://icons.getbootstrap.com/?ref=morioh.com&utm_source=morioh.com <br>\n",
    "> https://www.webfx.com/tools/emoji-cheat-sheet/?ref=morioh.com&utm_source=morioh.com"
   ]
  }
 ],
 "metadata": {
  "kernelspec": {
   "display_name": "Python 3 (ipykernel)",
   "language": "python",
   "name": "python3"
  },
  "language_info": {
   "codemirror_mode": {
    "name": "ipython",
    "version": 3
   },
   "file_extension": ".py",
   "mimetype": "text/x-python",
   "name": "python",
   "nbconvert_exporter": "python",
   "pygments_lexer": "ipython3",
   "version": "3.9.16"
  }
 },
 "nbformat": 4,
 "nbformat_minor": 5
}
