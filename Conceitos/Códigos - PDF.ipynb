{
 "cells": [
  {
   "cell_type": "markdown",
   "id": "bebe459c",
   "metadata": {},
   "source": [
    "\n",
    "<center><img width=\"25%\" src=\"https://www.camaramirimdoce.sc.gov.br/media/noticia/resumo-da-sessao-10-06-2019-111.png?w=848&h=450&t=P&c=f0f0f0&q=80&v=2\"></center>\n",
    "\n",
    "---\n",
    "\n",
    "<br>\n",
    "\n",
    "# Crie um arquivo PDF\n",
    "\n",
    "<br>\n",
    "\n",
    "> https://www.reportlab.com/docs/reportlab-userguide.pdf"
   ]
  },
  {
   "cell_type": "code",
   "execution_count": 2,
   "id": "4996c6a7",
   "metadata": {},
   "outputs": [],
   "source": [
    "from reportlab.pdfgen import canvas\n",
    "\n",
    "# Para criar o novo arquivo PDF\n",
    "arquivo_pdf = canvas.Canvas('Exemplo.pdf')\n",
    "\n",
    "# Para adicionar os textos no arquivo em PDF\n",
    "arquivo_pdf.drawString(72,720,\"Título: Olá, Mundo\")\n",
    "arquivo_pdf.drawString(72,700,\"Parágrafo: Exemplo de criação de um arquivo em PDF usando Python\")\n",
    "arquivo_pdf.drawString(72,680,\"Parágrafo: Arquivo criado no dia 02/04/2023.\")\n",
    "arquivo_pdf.drawString(72,660,\"Parágrafo: Faz parte do estudo de Python.\")\n",
    "arquivo_pdf.drawString(72,640,\"Parágrafo: :) \")\n",
    "\n",
    "# Salvar o arquivo em PDF\n",
    "arquivo_pdf.save()"
   ]
  },
  {
   "cell_type": "markdown",
   "id": "563603ec",
   "metadata": {},
   "source": [
    "<img width=\"50%\" src=\"ExemploPDF.png\">"
   ]
  }
 ],
 "metadata": {
  "kernelspec": {
   "display_name": "Python 3 (ipykernel)",
   "language": "python",
   "name": "python3"
  },
  "language_info": {
   "codemirror_mode": {
    "name": "ipython",
    "version": 3
   },
   "file_extension": ".py",
   "mimetype": "text/x-python",
   "name": "python",
   "nbconvert_exporter": "python",
   "pygments_lexer": "ipython3",
   "version": "3.9.12"
  }
 },
 "nbformat": 4,
 "nbformat_minor": 5
}
