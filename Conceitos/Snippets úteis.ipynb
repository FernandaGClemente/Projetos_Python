{
 "cells": [
  {
   "cell_type": "markdown",
   "id": "b755c443",
   "metadata": {},
   "source": [
    "<center><img width=\"25%\" src=\"https://www.camaramirimdoce.sc.gov.br/media/noticia/resumo-da-sessao-10-06-2019-111.png?w=848&h=450&t=P&c=f0f0f0&q=80&v=2\"></center>\n",
    "\n",
    "--- \n",
    "\n",
    "<br>\n",
    "<br>\n",
    "\n",
    "# **Snippets úteis** <br>\n",
    "#### Snippet é um termo de programação para uma pequena região de código-fonte reutilizável, código de máquina ou texto. Normalmente, estas são unidades operacionais formalmente definidas para serem incorporadas em módulos de programação maiores.\n",
    "\n",
    "<br>"
   ]
  },
  {
   "cell_type": "markdown",
   "id": "4553dfb0",
   "metadata": {},
   "source": [
    "# **Sumário:**\n",
    "* [Encontrando elementos únicos em uma string](#Encontrando-elementos-únicos-em-uma-string)\n",
    "* [Usando a caixa de título (primeira letra maiúscula)](#Usando-a-caixa-de-título-(primeira-letra-maiúscula))\n",
    "* [Invertendo uma String](#Invertendo-uma-String)\n",
    "* [Imprimindo uma String ou uma Lista n Vezes](#Imprimindo-uma-String-ou-uma-Lista-n-Vezes)\n",
    "* [Combinando uma lista de strings em uma única string](#Combinando-uma-lista-de-strings-em-uma-única-string)\n",
    "* [Trocar valores entre duas variáveis](#Trocar-valores-entre-duas-variáveis)\n",
    "* [Divida uma string em uma lista de substrings](#Divida-uma-string-em-uma-lista-de-substrings)\n",
    "* [Compreensão da Lista (Criar listas com base em outras listas)](#Compreensão-da-Lista-(Criar-listas-com-base-em-outras-listas))\n",
    "* [Verifique se uma determinada string é um palíndromo ou não ](#Verifique-se-uma-determinada-string-é-um-palíndromo-ou-não)\n",
    "* [Usando Enumerate para obter pares de índice/valor](#Usando-Enumerate-para-obter-pares-de-índice/valor)\n",
    "* [Descubra se duas strings são anagramas](#Descubra-se-duas-strings-são-anagramas)\n",
    "* [Usando o bloco try/except/else para tratamento de erros](#Usando-o-bloco-try/except/else-para-tratamento-de-erros)\n",
    "* [Frequência de Elementos em uma Lista](#Frequência-de-Elementos-em-uma-Lista)\n",
    "* [Verifique o uso de memória de um objeto](#Verifique-o-uso-de-memória-de-um-objeto)\n",
    "* [Amostragem de uma lista](#Amostragem-de-uma-lista)\n",
    "* [Tempo necessário para executar um pedaço de código](#Tempo-necessário-para-executar-um-pedaço-de-código)\n",
    "* [Achatando uma lista de listas](#Achatando-uma-lista-de-listas)\n",
    "* [Mesclando dois dicionários](#Mesclando-dois-dicionários)\n",
    "* [Mapas de árvore](#Mapas-de-árvore)\n",
    "* [Descompacte arquivos](#Descompacte-arquivos)\n",
    "* [Formatação como moeda](#Formatação-como-moeda)\n",
    "* [Mostre o resultado em uma linha](#Mostre-o-resultado-em-uma-linha)\n",
    "* [Detalhes de um país](#Detalhes-de-um-país)"
   ]
  },
  {
   "cell_type": "markdown",
   "id": "db377d70",
   "metadata": {},
   "source": [
    "## Encontrando elementos únicos em uma string \n",
    "[&#x1F53C;](#Sumário:) Clique para voltar para o sumário"
   ]
  },
  {
   "cell_type": "code",
   "execution_count": 2,
   "id": "08fc52a1",
   "metadata": {},
   "outputs": [
    {
     "name": "stdout",
     "output_type": "stream",
     "text": [
      "eadvc\n"
     ]
    }
   ],
   "source": [
    "# Usado para localizar todos os elementos exclusivos em uma string. Usamos a propriedade de que todos os elementos de um conjunto são únicos.\n",
    "\n",
    "v_string = \"aavvccccddddeee\"\n",
    "\n",
    "# convertendo a string em um conjunto\n",
    "v_conjunto = set(v_string)\n",
    "\n",
    "# costura definida em uma string usando join\n",
    "v_nova_string = ''.join(v_conjunto)\n",
    "print(v_nova_string)"
   ]
  },
  {
   "cell_type": "markdown",
   "id": "982f30e5",
   "metadata": {},
   "source": [
    "## Usando a caixa de título (primeira letra maiúscula) \n",
    "[&#x1F53C;](#Sumário:) Clique para voltar para o sumário"
   ]
  },
  {
   "cell_type": "code",
   "execution_count": 3,
   "id": "673de88e",
   "metadata": {},
   "outputs": [
    {
     "name": "stdout",
     "output_type": "stream",
     "text": [
      "My Name Is Chaitanya Baweja\n"
     ]
    }
   ],
   "source": [
    "# Usado para converter uma string em maiúsculas e minúsculas. Isso é feito usando o método title() da classe string.\n",
    "\n",
    "v_string = \"my name is chaitanya baweja\"\n",
    "\n",
    "# usando a função title() da classe string\n",
    "v_nova_string = v_string.title()\n",
    "print(v_nova_string)"
   ]
  },
  {
   "cell_type": "markdown",
   "id": "d705f398",
   "metadata": {},
   "source": [
    "## Invertendo uma String \n",
    "[&#x1F53C;](#Sumário:) Clique para voltar para o sumário"
   ]
  },
  {
   "cell_type": "code",
   "execution_count": 4,
   "id": "b97af58c",
   "metadata": {},
   "outputs": [
    {
     "name": "stdout",
     "output_type": "stream",
     "text": [
      "EDCBA\n"
     ]
    }
   ],
   "source": [
    "# Invertendo uma string usando fatiamento\n",
    "\n",
    "v_string = \"ABCDE\"\n",
    "\n",
    "v_string_invertido = v_string[::-1]\n",
    "\n",
    "print(v_string_invertido)"
   ]
  },
  {
   "cell_type": "markdown",
   "id": "c83d5168",
   "metadata": {},
   "source": [
    "## Imprimindo uma String ou uma Lista n Vezes \n",
    "[&#x1F53C;](#Sumário:) Clique para voltar para o sumário"
   ]
  },
  {
   "cell_type": "code",
   "execution_count": 5,
   "id": "bf080af0",
   "metadata": {},
   "outputs": [
    {
     "name": "stdout",
     "output_type": "stream",
     "text": [
      "abcdabcdabcd\n",
      "[1, 2, 3, 1, 2, 3, 1, 2, 3]\n",
      "[0, 0, 0, 0]\n"
     ]
    }
   ],
   "source": [
    "# Usando a multiplicação ( * ) com strings ou listas. \n",
    "\n",
    "n = 3 # número de repetições\n",
    "\n",
    "v_string = \"abcd\"\n",
    "lista_string = [1,2,3]\n",
    "\n",
    "print(v_string*n)\n",
    "print(lista_string*n)\n",
    "\n",
    "# Um caso de uso interessante disso poderia ser definir uma lista com um valor constante — digamos zero.\n",
    "n = 4\n",
    "lista_string = [0]*n # n denota o comprimento da lista necessária\n",
    "print(lista_string)"
   ]
  },
  {
   "cell_type": "markdown",
   "id": "e2f48c93",
   "metadata": {},
   "source": [
    "## Combinando uma lista de strings em uma única string \n",
    "[&#x1F53C;](#Sumário:) Clique para voltar para o sumário"
   ]
  },
  {
   "cell_type": "code",
   "execution_count": 6,
   "id": "6df32a04",
   "metadata": {},
   "outputs": [
    {
     "name": "stdout",
     "output_type": "stream",
     "text": [
      "My,name,is,Chaitanya,Baweja\n"
     ]
    }
   ],
   "source": [
    "# O método join() combina uma lista de strings passadas como argumento em uma única string. No nosso caso, nós os separamos usando o separador de vírgulas.\n",
    "lista_string = ['My', 'name', 'is', 'Chaitanya', 'Baweja']\n",
    "\n",
    "# Usando join com o separador de vírgulas\n",
    "print(','.join(lista_string))"
   ]
  },
  {
   "cell_type": "markdown",
   "id": "f5d2c48f",
   "metadata": {},
   "source": [
    "## Trocar valores entre duas variáveis \n",
    "[&#x1F53C;](#Sumário:) Clique para voltar para o sumário"
   ]
  },
  {
   "cell_type": "code",
   "execution_count": 7,
   "id": "d84c472a",
   "metadata": {},
   "outputs": [
    {
     "name": "stdout",
     "output_type": "stream",
     "text": [
      "2\n",
      "1\n"
     ]
    }
   ],
   "source": [
    "a = 1\n",
    "b = 2\n",
    "\n",
    "a, b = b, a\n",
    "\n",
    "print(a) \n",
    "print(b) "
   ]
  },
  {
   "cell_type": "markdown",
   "id": "55b014b8",
   "metadata": {},
   "source": [
    "## Divida uma string em uma lista de substrings \n",
    "[&#x1F53C;](#Sumário:) Clique para voltar para o sumário"
   ]
  },
  {
   "cell_type": "code",
   "execution_count": 8,
   "id": "e23c6874",
   "metadata": {},
   "outputs": [
    {
     "name": "stdout",
     "output_type": "stream",
     "text": [
      "['My', 'name', 'is', 'Chaitanya', 'Baweja']\n",
      "['sample', ' string 2']\n"
     ]
    }
   ],
   "source": [
    "# Podemos dividir uma string em uma lista de substrings usando o método split() na classe string. Você também pode passar como argumento o separador no qual deseja dividir.\n",
    "string_1 = \"My name is Chaitanya Baweja\"\n",
    "string_2 = \"sample/ string 2\"\n",
    "\n",
    "# separador padrão ' '\n",
    "print(string_1.split())\n",
    "\n",
    "# definindo separador como '/'\n",
    "print(string_2.split('/'))"
   ]
  },
  {
   "cell_type": "markdown",
   "id": "d5dc7227",
   "metadata": {},
   "source": [
    "## Compreensão da Lista \n",
    "[&#x1F53C;](#Sumário:) Clique para voltar para o sumário"
   ]
  },
  {
   "cell_type": "code",
   "execution_count": 7,
   "id": "f549c256",
   "metadata": {},
   "outputs": [
    {
     "name": "stdout",
     "output_type": "stream",
     "text": [
      "[2, 4, 6, 8]\n"
     ]
    }
   ],
   "source": [
    "# A compreensão de listas nos fornece uma maneira elegante de criar listas com base em outras listas. \n",
    "\n",
    "# Multiplicando cada elemento em uma lista por 2\n",
    "lista_original = [1,2,3,4]\n",
    "\n",
    "nova_lista = [2 * x for x in lista_original]\n",
    "\n",
    "print(nova_lista)"
   ]
  },
  {
   "cell_type": "markdown",
   "id": "898b5184",
   "metadata": {},
   "source": [
    "## Verifique se uma determinada string é um palíndromo ou não \n",
    "[&#x1F53C;](#Sumário:) Clique para voltar para o sumário"
   ]
  },
  {
   "cell_type": "code",
   "execution_count": 8,
   "id": "9ecefe04",
   "metadata": {},
   "outputs": [
    {
     "name": "stdout",
     "output_type": "stream",
     "text": [
      "palíndromo\n"
     ]
    }
   ],
   "source": [
    "v_string = \"abcba\"\n",
    "\n",
    "if v_string == v_string[::-1]:\n",
    "    print(\"palíndromo\")\n",
    "else:\n",
    "    print(\"Não palíndromo\")"
   ]
  },
  {
   "cell_type": "markdown",
   "id": "539a58f4",
   "metadata": {},
   "source": [
    "## Usando Enumerate para obter pares de índice/valor \n",
    "[&#x1F53C;](#Sumário:) Clique para voltar para o sumário"
   ]
  },
  {
   "cell_type": "code",
   "execution_count": 9,
   "id": "bdc10e0d",
   "metadata": {},
   "outputs": [
    {
     "name": "stdout",
     "output_type": "stream",
     "text": [
      "0: a\n",
      "1: b\n",
      "2: c\n",
      "3: d\n",
      "4: e\n"
     ]
    }
   ],
   "source": [
    "lista = ['a', 'b', 'c', 'd', 'e']\n",
    "\n",
    "for index, valor in enumerate(lista):\n",
    "    print('{0}: {1}'.format(index, valor))"
   ]
  },
  {
   "cell_type": "markdown",
   "id": "9ae4df2b",
   "metadata": {},
   "source": [
    "## Descubra se duas strings são anagramas \n",
    "[&#x1F53C;](#Sumário:) Clique para voltar para o sumário"
   ]
  },
  {
   "cell_type": "code",
   "execution_count": 10,
   "id": "5e9e38fa",
   "metadata": {},
   "outputs": [
    {
     "name": "stdout",
     "output_type": "stream",
     "text": [
      "1 e 2 anagrama\n"
     ]
    }
   ],
   "source": [
    "# Um anagrama é uma palavra ou frase formada pela reorganização das letras de uma palavra ou frase diferente.\n",
    "# Se os objetos Counter de duas strings são iguais, então eles são anagramas.\n",
    "\n",
    "from collections import Counter\n",
    "\n",
    "str_1, str_2, str_3 = \"acbde\", \"abced\", \"abcda\"\n",
    "cnt_1, cnt_2, cnt_3  = Counter(str_1), Counter(str_2), Counter(str_3)\n",
    "\n",
    "# Se cnt_1 for igual a cnt_2 então é um anagrama\n",
    "if cnt_1 == cnt_2:\n",
    "    print('1 e 2 anagrama')\n",
    "# se cnt_1 for igual a cnt_3 então é um anagrama    \n",
    "if cnt_1 == cnt_3:\n",
    "    print('1 e 3 anagrama')"
   ]
  },
  {
   "cell_type": "markdown",
   "id": "594294ff",
   "metadata": {},
   "source": [
    "## Usando o bloco try/except/else para tratamento de erros\n",
    "[&#x1F53C;](#Sumário:) Clique para voltar para o sumário"
   ]
  },
  {
   "cell_type": "code",
   "execution_count": 11,
   "id": "2941d14f",
   "metadata": {},
   "outputs": [
    {
     "name": "stdout",
     "output_type": "stream",
     "text": [
      "divisão por zero\n",
      "Execute isso sempre\n"
     ]
    }
   ],
   "source": [
    "a, b = 1,0\n",
    "\n",
    "try:\n",
    "    print(a/b)\n",
    "   # exceção levantada quando b é 0\n",
    "except ZeroDivisionError:\n",
    "    print(\"divisão por zero\")\n",
    "else:\n",
    "    print(\"nenhuma exceção levantada\")\n",
    "finally:\n",
    "    print(\"Execute isso sempre\")"
   ]
  },
  {
   "cell_type": "markdown",
   "id": "e733376b",
   "metadata": {},
   "source": [
    "## Frequência de Elementos em uma Lista \n",
    "[&#x1F53C;](#Sumário:) Clique para voltar para o sumário"
   ]
  },
  {
   "cell_type": "code",
   "execution_count": 15,
   "id": "c2829cde",
   "metadata": {},
   "outputs": [
    {
     "name": "stdout",
     "output_type": "stream",
     "text": [
      "Counter({'d': 5, 'b': 3, 'a': 2, 'c': 1})\n",
      "3\n",
      "[('d', 5)]\n"
     ]
    }
   ],
   "source": [
    "from collections import Counter\n",
    "\n",
    "# encontrando a frequência de cada elemento em uma lista\n",
    "lista = ['a','a','b','b','b','c','d','d','d','d','d']\n",
    "\n",
    "# Counter() retorna um dicionário com elementos como chaves e frequência como valores.\n",
    "contador = Counter(lista) # definindo um objeto contador\n",
    "\n",
    "print(contador) # de todos os elementos\n",
    "print(contador['b']) # de elemento individual\n",
    "print(contador.most_common(1)) # a função most_common() obtem o elemento mais frequente na lista. "
   ]
  },
  {
   "cell_type": "markdown",
   "id": "95595dea",
   "metadata": {},
   "source": [
    "## Verifique o uso de memória de um objeto \n",
    "[&#x1F53C;](#Sumário:) Clique para voltar para o sumário"
   ]
  },
  {
   "cell_type": "code",
   "execution_count": 12,
   "id": "2473edba",
   "metadata": {},
   "outputs": [
    {
     "name": "stdout",
     "output_type": "stream",
     "text": [
      "28\n"
     ]
    }
   ],
   "source": [
    "import sys\n",
    "\n",
    "num = 21\n",
    "\n",
    "print(sys.getsizeof(num))"
   ]
  },
  {
   "cell_type": "markdown",
   "id": "f8c5bfe4",
   "metadata": {},
   "source": [
    "## Amostragem de uma lista \n",
    "[&#x1F53C;](#Sumário:) Clique para voltar para o sumário"
   ]
  },
  {
   "cell_type": "code",
   "execution_count": 13,
   "id": "f7d618c7",
   "metadata": {},
   "outputs": [
    {
     "name": "stdout",
     "output_type": "stream",
     "text": [
      "['a', 'c']\n"
     ]
    }
   ],
   "source": [
    "import random\n",
    "\n",
    "lista = ['a', 'b', 'c', 'd', 'e']\n",
    "numero_amostras = 2\n",
    "\n",
    "# sample = Gera um número de amostras aleatórias de uma determinada lista\n",
    "amostras = random.sample(lista,numero_amostras)\n",
    "print(amostras)  # isso terá 2 valores aleatórios"
   ]
  },
  {
   "cell_type": "code",
   "execution_count": 14,
   "id": "19d98907",
   "metadata": {},
   "outputs": [
    {
     "name": "stdout",
     "output_type": "stream",
     "text": [
      "['c', 'd']\n"
     ]
    }
   ],
   "source": [
    "# biblioteca de secrets gera amostras aleatórias para fins de criptografia.\n",
    "import secrets         \n",
    "\n",
    "# cria um objeto aleatório seguro.\n",
    "aleatorio_seguro = secrets.SystemRandom()     \n",
    "\n",
    "lista = ['a','b','c','d','e']\n",
    "numero_amostras = 2\n",
    "\n",
    "# sample = Gera um número de amostras aleatórias de uma determinada lista\n",
    "amostras = aleatorio_seguro.sample(lista, numero_amostras)\n",
    "print(amostras)"
   ]
  },
  {
   "cell_type": "markdown",
   "id": "5e757828",
   "metadata": {},
   "source": [
    "## Tempo necessário para executar um pedaço de código \n",
    "[&#x1F53C;](#Sumário:) Clique para voltar para o sumário"
   ]
  },
  {
   "cell_type": "code",
   "execution_count": 16,
   "id": "5875e10a",
   "metadata": {},
   "outputs": [
    {
     "name": "stdout",
     "output_type": "stream",
     "text": [
      "Tempo gasto em micro_segundos: 0.0 ms\n"
     ]
    }
   ],
   "source": [
    "# Biblioteca time é usada para calcular o tempo necessário para executar um trecho de código.\n",
    "import time\n",
    "\n",
    "time_inicial = time.time()\n",
    "# Código para verificar segue abaixo:\n",
    "a, b = 1,2\n",
    "c = a + b\n",
    "# Código para checar termina\n",
    "time_final = time.time()\n",
    "time_levado_em_micro = (time_final - time_inicial)*(10**6)\n",
    "\n",
    "print(\"Tempo gasto em micro_segundos: {0} ms\".format(time_levado_em_micro))"
   ]
  },
  {
   "cell_type": "markdown",
   "id": "e41f1cdc",
   "metadata": {},
   "source": [
    "## Achatando uma lista de listas \n",
    "[&#x1F53C;](#Sumário:) Clique para voltar para o sumário"
   ]
  },
  {
   "cell_type": "code",
   "execution_count": 18,
   "id": "3f96a58e",
   "metadata": {},
   "outputs": [
    {
     "name": "stdout",
     "output_type": "stream",
     "text": [
      "[1, 2, 3, 3]\n",
      "[1, 2, 3, 4, 5, 6, 7, 8, 9, 10]\n"
     ]
    }
   ],
   "source": [
    "# Importação da biblioteca\n",
    "from iteration_utilities import deepflatten\n",
    "\n",
    "# se você tiver apenas uma lista \"lista aninhada\" de profundidade, use isso\n",
    "def flatten(l):\n",
    "    return [item for sublista in lista for item in sublista]\n",
    "\n",
    "lista = [[1,2,3],[3]]\n",
    "print(flatten(lista))\n",
    "\n",
    "# se você não souber a profundidade da lista aninhada\n",
    "lista = [[1,2,3],[4,[5],[6,7]],[8,[9,[10]]]]\n",
    "\n",
    "# depth = profundidade\n",
    "print(list(deepflatten(lista, depth=3)))"
   ]
  },
  {
   "cell_type": "markdown",
   "id": "c4973d7b",
   "metadata": {},
   "source": [
    "## Mesclando dois dicionários \n",
    "[&#x1F53C;](#Sumário:) Clique para voltar para o sumário"
   ]
  },
  {
   "cell_type": "code",
   "execution_count": 17,
   "id": "3384bd7f",
   "metadata": {},
   "outputs": [
    {
     "name": "stdout",
     "output_type": "stream",
     "text": [
      "{'apple': 9, 'banana': 4, 'orange': 8}\n"
     ]
    }
   ],
   "source": [
    "dicionario_1 = {'apple': 9, 'banana': 6}\n",
    "dicionario_2 = {'banana': 4, 'orange': 8}\n",
    "\n",
    "# Os valores do segundo dicionário são usados em caso de interseções.\n",
    "combinando = {**dicionario_1, **dicionario_2}\n",
    "\n",
    "print(combinando)"
   ]
  },
  {
   "cell_type": "markdown",
   "id": "e480444a",
   "metadata": {},
   "source": [
    "## Mapas de árvore \n",
    "[&#x1F53C;](#Sumário:) Clique para voltar para o sumário"
   ]
  },
  {
   "cell_type": "code",
   "execution_count": 5,
   "id": "c23e5425",
   "metadata": {},
   "outputs": [
    {
     "data": {
      "image/png": "[encoded data removed]",
      "text/plain": [
       "<Figure size 432x288 with 1 Axes>"
      ]
     },
     "metadata": {
      "needs_background": "light"
     },
     "output_type": "display_data"
    }
   ],
   "source": [
    "# Importação das bibliotecas\n",
    "import matplotlib.pyplot as plt\n",
    "import squarify\n",
    "import seaborn as sb\n",
    "\n",
    "valor = [250,120,280,320,140,95]\n",
    "\n",
    "legenda = ['Grupo A\\n 200','Grupo C\\n 100','Grupo F\\n 250',\n",
    "          'Grupo B\\n 350','Grupo D\\n 140','Grupo E\\n 195']\n",
    "\n",
    "squarify.plot(sizes = valor, label = legenda,\n",
    "             pad = 0.2,\n",
    "             text_kwargs = {'fontsize':10,'color':'white'},\n",
    "             color = sb.color_palette('bright',len(valor)))\n",
    "plt.axis('off')\n",
    "plt.show()"
   ]
  },
  {
   "cell_type": "markdown",
   "id": "f34a20cb",
   "metadata": {},
   "source": [
    "## Descompacte arquivos \n",
    "[&#x1F53C;](#Sumário:) Clique para voltar para o sumário"
   ]
  },
  {
   "cell_type": "code",
   "execution_count": 5,
   "id": "94fefacf",
   "metadata": {},
   "outputs": [
    {
     "name": "stdout",
     "output_type": "stream",
     "text": [
      "['classe-pessoa/', 'classe-pessoa/main.py', 'classe-pessoa/pessoa.py']\n"
     ]
    }
   ],
   "source": [
    "# Importação da biblioteca\n",
    "# https://docs.python.org/pt-br/3/library/zipfile.html#zipfile-objects\n",
    "from zipfile import ZipFile\n",
    "\n",
    "with ZipFile(r'C:\\Users\\fmga8\\OneDrive\\Estudos em Python\\Meus programas\\Classes e Métodos\\classe-pessoa.zip','r') as zip_objeto:\n",
    "    zip_objeto.extractall( path = r'C:\\Users\\fmga8\\OneDrive\\Estudos em Python\\Meus programas\\Classes e Métodos')\n",
    "\n",
    "print(zip_objeto.namelist())"
   ]
  },
  {
   "cell_type": "markdown",
   "id": "30c39310",
   "metadata": {},
   "source": [
    "## Formatação como moeda\n",
    "[&#x1F53C;](#Sumário:) Clique para voltar para o sumário"
   ]
  },
  {
   "cell_type": "code",
   "execution_count": 1,
   "id": "5ad45b3a",
   "metadata": {},
   "outputs": [],
   "source": [
    "def formata_texto(valor):\n",
    "    valor = '{:_.2f}'.format(valor).replace('.',',').replace('_','.')\n",
    "    return valor"
   ]
  },
  {
   "cell_type": "markdown",
   "id": "bba0df52",
   "metadata": {},
   "source": [
    "## Mostre o resultado em uma linha \n",
    "[&#x1F53C;](#Sumário:) Clique para voltar para o sumário"
   ]
  },
  {
   "cell_type": "code",
   "execution_count": 8,
   "id": "557a1788",
   "metadata": {},
   "outputs": [
    {
     "name": "stdout",
     "output_type": "stream",
     "text": [
      "1 2 4 8 16 32 64 128 256 512 "
     ]
    }
   ],
   "source": [
    "for n in range(10):\n",
    "    print(2 ** n, end=\" \")"
   ]
  },
  {
   "cell_type": "code",
   "execution_count": 12,
   "id": "f65a2f36",
   "metadata": {},
   "outputs": [
    {
     "name": "stdout",
     "output_type": "stream",
     "text": [
      "0 i 2 i 4 i 6 i 8 i 10 i 12 i 14 i 16 i 18 i "
     ]
    }
   ],
   "source": [
    "for x in range(20):\n",
    "    if x % 2 == 0: \n",
    "        print(x, end=\" \")    \n",
    "    else: \n",
    "        print('i', end=\" \")"
   ]
  },
  {
   "cell_type": "markdown",
   "id": "733a8394",
   "metadata": {},
   "source": [
    "## Detalhes de um país\n",
    "[&#x1F53C;](#Sumário:) Clique para voltar para o sumário"
   ]
  },
  {
   "cell_type": "code",
   "execution_count": 13,
   "id": "de66159d",
   "metadata": {},
   "outputs": [
    {
     "name": "stdout",
     "output_type": "stream",
     "text": [
      "Escreva seu país: Brasil\n",
      "Detalhes do Brasil =\n",
      "Capital: Brasília\n",
      "Moeda:['BRL']\n",
      "Lingua:['pt']\n",
      "Fronteiras:['ARG', 'BOL', 'COL', 'GUF', 'GUY', 'PRY', 'PER', 'SUR', 'URY', 'VEN']\n",
      "Conhecido como:['BR', 'Brasil', 'Federative Republic of Brazil', 'República Federativa do Brasil']\n"
     ]
    }
   ],
   "source": [
    "from countryinfo import CountryInfo\n",
    "\n",
    "pais = input('Escreva seu país: ')\n",
    "\n",
    "detalhes_pais = CountryInfo(pais)\n",
    "print(f'Detalhes do {pais} =\\nCapital: {detalhes_pais.capital()}\\nMoeda:{detalhes_pais.currencies()}\\nLingua:{detalhes_pais.languages()}\\nFronteiras:{detalhes_pais.borders()}\\nConhecido como:{detalhes_pais.alt_spellings()}')"
   ]
  }
 ],
 "metadata": {
  "kernelspec": {
   "display_name": "Python 3 (ipykernel)",
   "language": "python",
   "name": "python3"
  },
  "language_info": {
   "codemirror_mode": {
    "name": "ipython",
    "version": 3
   },
   "file_extension": ".py",
   "mimetype": "text/x-python",
   "name": "python",
   "nbconvert_exporter": "python",
   "pygments_lexer": "ipython3",
   "version": "3.9.16"
  }
 },
 "nbformat": 4,
 "nbformat_minor": 5
}
