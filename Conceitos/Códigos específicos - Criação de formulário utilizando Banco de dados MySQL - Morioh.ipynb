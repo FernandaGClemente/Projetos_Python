{
 "cells": [
  {
   "cell_type": "markdown",
   "id": "28146787",
   "metadata": {},
   "source": [
    "## Criação de um formulário com Tkinter com Banco de Dados MySQL - Morioh\n",
    "> https://morioh.com/p/61813199cccc?f=5e44c59998b8037d03aa8178 <br>\n",
    "> https://www.youtube.com/watch?v=ZM6OQROkwjQ&t=1067s&ab_channel=1BestCsharpblog <br>\n",
    "> https://1bestcsharp.blogspot.com/2022/05/python-login-and-register-form.html?ref=morioh.com&utm_source=morioh.com <br>\n",
    "> https://www.youtube.com/watch?v=t_NjQkHjyKk&ab_channel=1BestCsharpblog"
   ]
  },
  {
   "cell_type": "markdown",
   "id": "c52ae6ec",
   "metadata": {},
   "source": [
    "## Criação de um gerenciamento de folha de pagamento com Banco de dados MySQL - Morioh\n",
    "> https://www.youtube.com/watch?v=F7RpDM8Dwj4&ab_channel=DJOamen <br>\n",
    "> https://morioh.com/p/8f70015c89d9?f=5c21fb01c16e2556b555ab32"
   ]
  }
 ],
 "metadata": {
  "kernelspec": {
   "display_name": "Python 3 (ipykernel)",
   "language": "python",
   "name": "python3"
  },
  "language_info": {
   "codemirror_mode": {
    "name": "ipython",
    "version": 3
   },
   "file_extension": ".py",
   "mimetype": "text/x-python",
   "name": "python",
   "nbconvert_exporter": "python",
   "pygments_lexer": "ipython3",
   "version": "3.9.16"
  }
 },
 "nbformat": 4,
 "nbformat_minor": 5
}
