{
 "cells": [
  {
   "cell_type": "markdown",
   "id": "6d34f664",
   "metadata": {},
   "source": [
    "<center><img width=\"25%\" src=\"https://www.camaramirimdoce.sc.gov.br/media/noticia/resumo-da-sessao-10-06-2019-111.png?w=848&h=450&t=P&c=f0f0f0&q=80&v=2\"></center>\n",
    "\n",
    "---\n",
    "\n",
    "<br>\n",
    "\n",
    "# **Códigos - Outlook**\n",
    "\n",
    "<br>"
   ]
  },
  {
   "cell_type": "markdown",
   "id": "2097996e",
   "metadata": {},
   "source": [
    "## **Solicitado ao ChatGPT:** <br>\n",
    "\n",
    "<br>\n",
    "\n",
    "<img width=\"50%\" src=\"ChatGPT - Escreva um código em Python que envie um arquivo em excel pelo Outlook - Parte 1.png\">\n",
    "<img width=\"50%\" src=\"ChatGPT - Escreva um código em Python que envie um arquivo em excel pelo Outlook - Parte 2.png\">"
   ]
  },
  {
   "cell_type": "code",
   "execution_count": null,
   "id": "356fb667",
   "metadata": {},
   "outputs": [],
   "source": [
    "# !pip install pywin32\n",
    "import win32com.client as win32\n",
    "\n",
    "# caminho do arquivo a ser enviado\n",
    "caminho_arquivo = \"Caminho/para/o/arquivo.xlsx\"\n",
    "\n",
    "# inicializa o Outlook\n",
    "outlook = win32.Dispatch('outlook.application')\n",
    "\n",
    "# cria um email\n",
    "email = outlook.CreateItem(0)\n",
    "email.Subject = \"Assunto do email\"\n",
    "email.Body = \"Mensagem do email\"\n",
    "\n",
    "# anexa o arquivo\n",
    "anexo = email.Attachments.Add(caminho_arquivo)\n",
    "\n",
    "# adiciona o destinatário\n",
    "email.To = \"destinatario@email.com\"\n",
    "\n",
    "# envia o email\n",
    "email.Send()\n",
    "\n",
    "# fecha o Outlook\n",
    "outlook.Quit()"
   ]
  },
  {
   "cell_type": "code",
   "execution_count": 5,
   "id": "69e14029",
   "metadata": {},
   "outputs": [
    {
     "name": "stdout",
     "output_type": "stream",
     "text": [
      "Email enviado\n"
     ]
    }
   ],
   "source": [
    "import win32com.client as win32\n",
    "\n",
    "# inicializa o Outlook\n",
    "outlook = win32.Dispatch('outlook.application')\n",
    "# cria um email\n",
    "mail = outlook.CreateItem(0)\n",
    "mail.Subject = 'Email vindo pelo Outlook'\n",
    "mail.Body = 'Texto do Email'\n",
    "# adiciona o destinatário\n",
    "mail.To = 'cientista.de.decisao@gmail.com'\n",
    "# caminho do arquivo a ser enviado\n",
    "attachment = r'C:\\Users\\fmga8\\Documents\\Portfolio\\Estudos\\Projetos_Python\\Conceitos\\Indicadores.txt'\n",
    "# anexa o arquivo\n",
    "mail.Attachments.Add(attachment)\n",
    "# envia o email\n",
    "mail.Send()\n",
    "print('Email enviado')\n",
    "\n",
    "# fecha o Outlook\n",
    "outlook.Quit()"
   ]
  },
  {
   "cell_type": "markdown",
   "id": "624532ae",
   "metadata": {},
   "source": [
    "<img width=\"70%\" src=\"Email enviado.png\">"
   ]
  },
  {
   "cell_type": "markdown",
   "id": "dabfeac1",
   "metadata": {},
   "source": [
    "## <u>Localizar emails de um remetente para um destinatário</u><br>\n",
    "\n",
    "### 1 - Importar a Biblioteca\n",
    "\n",
    "    from imap_tools import MailBox, AND\n",
    "    \n",
    "<br>\n",
    "\n",
    "### 2 - Definição do email e da senha\n",
    "\n",
    "    username = 'Email'\n",
    "    password = 'Senha'\n",
    "\n",
    "<br>\n",
    "\n",
    "### 3 - Conectando o email e senha com o servidor\n",
    "\n",
    "    meu_email = MailBox('imap.\"Tipos_de_servidores\".com').login(username,password)\n",
    "\n",
    "* Tipos de servidores (IMAP) - lista de imaps: https://www.systoolsgroup.com/imap/\n",
    "    - mail.com = imap.mail.com\n",
    "    - gmail = imap.gmail.com\n",
    "    - aol = imap.aol.com\n",
    "    - outlook = imap-mail.outlook.com\n",
    "    - office365 = outlook.office365.com\n",
    "    - btconnect = imap4.btconnect.com\n",
    "    - yahoo = imap.mail.yahoo.com\n",
    "    - yahoo plus = plus.imap.mail.yahoo.com\n",
    "\n",
    "<br>\n",
    "\n",
    "### 4 - Criação de uma lista que armazenará os emails do remetente e do destinatário escolhidos\n",
    "\n",
    "    lista_emails = meu_email.fetch(AND(from_='remetente', to='destinatario')) \n",
    "\n",
    "<br>\n",
    "\n",
    "### 5 - Para cada email da lista de email, exiba essa \"Chave\". \n",
    "##### Exemplo: email.subject = Será exibido o assunto do(s) e-mail(s)    \n",
    "\n",
    "    for email in lista_emails:\n",
    "        print(email.\"Tipos_de_chaves\")\n",
    "    \n",
    "*  Tipos de chaves - https://github.com/ikvk/imap_tools#search-criteria\n",
    "    - email . subject = string\n",
    "    - email . text = string\n",
    "    - email . from_ = string        \n",
    "    - email . to = tupla \n",
    "    - email . cc = tupla\n",
    "    - email . bcc = tupla\n",
    "    - email . reply_to = tupla\n",
    "    - email . date  = datetime.datetime\n",
    "    - email . date_str = Data (Ex: Tue, 03 Jan 2017 22:26:59)\n",
    "    - email . html = string (Ex:'<b>Texto</b>')\n",
    "    - email . from_values = imap_tools.emailadress\n",
    "    - email . to_values = tupla (Ex: imap_tools.EmailAdress)\n",
    "    - email . cc_values = tupla (Ex: imap_tools.EmailAdress)\n",
    "    - email . bcc_values = tupla (Ex: imap_tools.EmailAdress)\n",
    "    - email . reply_to = tupla (Ex: imap_tools.EmailAdress)\n",
    "    - EmailAdress ( name = \"nome\" , email = \"xxxx@xxx.xxx\")"
   ]
  },
  {
   "cell_type": "markdown",
   "id": "f3a12dca",
   "metadata": {},
   "source": [
    "## <u>Localizar emails com um anexo específico</u><br>\n",
    "\n",
    "### 1 - Criação de uma lista que armazenará os emails do remetente escolhido\n",
    "\n",
    "    lista_emails = meu_email.fetch(AND(from_='remetente'))\n",
    "    \n",
    "###  2 - Para cada email na lista, será verificado:\n",
    "#### a) Se existe o anexo ( len(email.attachments) > 0 )\n",
    "#### b) Caso exista, serão localizados os emails que tenham o \"Texto do anexo\" informado ( if 'Texto do anexo' in anexo.filename: print(anexo.filename) )\n",
    "#### c) Serão exibidos os nomes dos arquivos no notebook e armazenados num arquivo.txt  (with open(\"ArquivoInfoAnexo.txt\", 'wb') as arquivo_txt:) OBS: Escolha o nome do arquivo.txt >>> Substitua: ArquivoInfoAnexo\n",
    "    for email in lista_emails:\n",
    "        if len(email.attachments) > 0:\n",
    "            for anexo in email.attachments:\n",
    "                if 'Texto do anexo' in anexo.filename:\n",
    "                    print(anexo.filename)\n",
    "                    with open(\"ArquivoInfoAnexo.txt\", 'wb') as arquivo_txt:\n",
    "                        arquivo_txt.write(anexo.payload)"
   ]
  }
 ],
 "metadata": {
  "kernelspec": {
   "display_name": "Python 3 (ipykernel)",
   "language": "python",
   "name": "python3"
  },
  "language_info": {
   "codemirror_mode": {
    "name": "ipython",
    "version": 3
   },
   "file_extension": ".py",
   "mimetype": "text/x-python",
   "name": "python",
   "nbconvert_exporter": "python",
   "pygments_lexer": "ipython3",
   "version": "3.9.16"
  }
 },
 "nbformat": 4,
 "nbformat_minor": 5
}
