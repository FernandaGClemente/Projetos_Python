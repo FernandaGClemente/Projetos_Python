{
 "cells": [
  {
   "cell_type": "markdown",
   "id": "fcc045ce",
   "metadata": {},
   "source": [
    "# Criação de um sistema de gerenciamento de alunos com MySQL - Morioh\n",
    "> https://drive.google.com/drive/folders/1ox0wcIywZmJic7sqmkxa6gXjq4vsJ_0K?ref=morioh.com <br>\n",
    "> https://www.youtube.com/watch?v=FoAXWjkWvrM <br>\n",
    "\n",
    "<br>\n",
    "\n",
    "> https://www.youtube.com/watch?v=CrwobihQPHk&ab_channel=RenzyCode <br>\n",
    "> https://github.com/renzycode/student-registration-system-crud-matrix?ref=morioh.com&utm_source=morioh.com <br>\n",
    "> https://morioh.com/p/0c30c9c5d6b9?f=5ec36dddf88ed3302fc81a1a"
   ]
  }
 ],
 "metadata": {
  "kernelspec": {
   "display_name": "Python 3 (ipykernel)",
   "language": "python",
   "name": "python3"
  },
  "language_info": {
   "codemirror_mode": {
    "name": "ipython",
    "version": 3
   },
   "file_extension": ".py",
   "mimetype": "text/x-python",
   "name": "python",
   "nbconvert_exporter": "python",
   "pygments_lexer": "ipython3",
   "version": "3.9.16"
  }
 },
 "nbformat": 4,
 "nbformat_minor": 5
}
