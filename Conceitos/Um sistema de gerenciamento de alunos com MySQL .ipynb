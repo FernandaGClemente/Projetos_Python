{
 "cells": [
  {
   "cell_type": "markdown",
   "id": "fcc045ce",
   "metadata": {},
   "source": [
    "# Um sistema de gerenciamento de alunos com MySQL | Sistema de login \n",
    "https://drive.google.com/drive/folders/1ox0wcIywZmJic7sqmkxa6gXjq4vsJ_0K?ref=morioh.com <br>\n",
    "https://www.youtube.com/watch?v=FoAXWjkWvrM <br>\n",
    "https://morioh.com/p/c11a82288ad6?f=5c21fb01c16e2556b555ab32"
   ]
  }
 ],
 "metadata": {
  "kernelspec": {
   "display_name": "Python 3 (ipykernel)",
   "language": "python",
   "name": "python3"
  },
  "language_info": {
   "codemirror_mode": {
    "name": "ipython",
    "version": 3
   },
   "file_extension": ".py",
   "mimetype": "text/x-python",
   "name": "python",
   "nbconvert_exporter": "python",
   "pygments_lexer": "ipython3",
   "version": "3.9.16"
  }
 },
 "nbformat": 4,
 "nbformat_minor": 5
}
