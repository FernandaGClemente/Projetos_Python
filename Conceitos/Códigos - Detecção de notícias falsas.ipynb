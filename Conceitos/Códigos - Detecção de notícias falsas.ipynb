{
 "cells": [
  {
   "cell_type": "markdown",
   "id": "178ad0b7",
   "metadata": {},
   "source": [
    "<center><img width=\"25%\" src=\"https://www.camaramirimdoce.sc.gov.br/media/noticia/resumo-da-sessao-10-06-2019-111.png?w=848&h=450&t=P&c=f0f0f0&q=80&v=2\"></center>\n",
    "\n",
    "---\n",
    "\n",
    "<br>\n",
    "\n",
    "# Detecção de notícias falsas\n",
    "\n",
    "<br>\n",
    "\n",
    "> https://github.com/deepgupta06/fake_news <br>\n",
    "> https://www.youtube.com/watch?v=5X27excCyXk&ab_channel=yobots"
   ]
  },
  {
   "cell_type": "code",
   "execution_count": null,
   "id": "943d9b30",
   "metadata": {},
   "outputs": [],
   "source": [
    "# Importando a biblioteca necessária\n",
    "import pandas as pd\n",
    "import numpy as np\n",
    "import seaborn as sns\n",
    "import matplotlib.pyplot as plt\n",
    "from sklearn.model_selection import train_test_split\n",
    "from sklearn.metrics import accuracy_score\n",
    "from sklearn.metrics import classification_report\n",
    "import re\n",
    "import string"
   ]
  },
  {
   "cell_type": "code",
   "execution_count": null,
   "id": "1010c8f2",
   "metadata": {},
   "outputs": [],
   "source": [
    "# Inserindo conjuntos de dados falsos e reais\n",
    "df_falso = pd.read_csv(\"Fake.csv\")\n",
    "df_verdadeiro = pd.read_csv(\"True.csv\")"
   ]
  },
  {
   "cell_type": "code",
   "execution_count": null,
   "id": "f6977af5",
   "metadata": {},
   "outputs": [],
   "source": [
    "df_falso.head(5)"
   ]
  },
  {
   "cell_type": "code",
   "execution_count": null,
   "id": "990db929",
   "metadata": {},
   "outputs": [],
   "source": [
    "df_verdadeiro.head(5)"
   ]
  },
  {
   "cell_type": "code",
   "execution_count": null,
   "id": "c1ccedbf",
   "metadata": {},
   "outputs": [],
   "source": [
    "# Inserindo uma coluna chamada \"classe\" para o conjunto de dados de notícias falsas e reais nas categorias de notícias falsas e verdadeiras.\n",
    "df_falso[\"class\"] = 0\n",
    "df_verdadeiro[\"class\"] = 1"
   ]
  },
  {
   "cell_type": "code",
   "execution_count": null,
   "id": "8d902366",
   "metadata": {},
   "outputs": [],
   "source": [
    "# Removendo as últimas 10 linhas do conjunto de dados, para teste manual\n",
    "df_falso.shape, df_verdadeiro.shape"
   ]
  },
  {
   "cell_type": "code",
   "execution_count": null,
   "id": "780faa9b",
   "metadata": {},
   "outputs": [],
   "source": [
    "df_falso_manual_teste = df_falso.tail(10)\n",
    "for i in range(23480,23470,-1):\n",
    "    df_falso.drop([i], axis = 0, inplace = True)\n",
    "    \n",
    "df_verdadeiro_manual_teste = df_verdadeiro.tail(10)\n",
    "for i in range(21416,21406,-1):\n",
    "    df_verdadeiro.drop([i], axis = 0, inplace = True)"
   ]
  },
  {
   "cell_type": "code",
   "execution_count": null,
   "id": "bb02661c",
   "metadata": {},
   "outputs": [],
   "source": [
    "df_falso.shape, df_verdadeiro.shape"
   ]
  },
  {
   "cell_type": "code",
   "execution_count": null,
   "id": "a39cf097",
   "metadata": {},
   "outputs": [],
   "source": [
    "# Mesclar o dataframe de teste manual em um único conjunto de dados e salvá-lo em um arquivo csv\n",
    "df_falso_manual_teste[\"class\"] = 0\n",
    "df_verdadeiro_manual_teste[\"class\"] = 1"
   ]
  },
  {
   "cell_type": "code",
   "execution_count": null,
   "id": "ebd979ff",
   "metadata": {},
   "outputs": [],
   "source": [
    "df_falso_manual_teste.head(10)"
   ]
  },
  {
   "cell_type": "code",
   "execution_count": null,
   "id": "239e8e3b",
   "metadata": {},
   "outputs": [],
   "source": [
    "df_verdadeiro_manual_teste.head(10)"
   ]
  },
  {
   "cell_type": "code",
   "execution_count": null,
   "id": "7feb9c76",
   "metadata": {},
   "outputs": [],
   "source": [
    "df_manual_teste= pd.concat([df_falso_manual_teste,df_verdadeiro_manual_teste], axis = 0)\n",
    "df_manual_teste.to_csv(\"manual_teste.csv\")"
   ]
  },
  {
   "cell_type": "code",
   "execution_count": null,
   "id": "c5fdafc1",
   "metadata": {},
   "outputs": [],
   "source": [
    "# Mesclando o principal dataframe falso e verdadeiro\n",
    "df_juntos = pd.concat([df_falso, df_verdadeiro], axis =0 )\n",
    "df_juntos.head(10)"
   ]
  },
  {
   "cell_type": "code",
   "execution_count": null,
   "id": "d9b18717",
   "metadata": {},
   "outputs": [],
   "source": [
    "df_juntos.columns"
   ]
  },
  {
   "cell_type": "code",
   "execution_count": null,
   "id": "c79188a9",
   "metadata": {},
   "outputs": [],
   "source": [
    "# As colunas \"título\", \"assunto\" e \"data\" não são necessárias para detectar notícias falsas, então vou eliminar as colunas.\n",
    "\n",
    "df = df_juntos.drop([\"title\", \"subject\",\"date\"], axis = 1)"
   ]
  },
  {
   "cell_type": "code",
   "execution_count": null,
   "id": "e34ada30",
   "metadata": {},
   "outputs": [],
   "source": [
    "df.isnull().sum()"
   ]
  },
  {
   "cell_type": "code",
   "execution_count": null,
   "id": "af0966d5",
   "metadata": {},
   "outputs": [],
   "source": [
    "# Embaralhando aleatoriamente o dataframe\n",
    "df = df.sample(frac = 1)\n",
    "df.head()"
   ]
  },
  {
   "cell_type": "code",
   "execution_count": null,
   "id": "0448ec19",
   "metadata": {},
   "outputs": [],
   "source": [
    "df.reset_index(inplace = True)\n",
    "df.drop([\"index\"], axis = 1, inplace = True)\n",
    "df.columns"
   ]
  },
  {
   "cell_type": "code",
   "execution_count": null,
   "id": "094d4590",
   "metadata": {},
   "outputs": [],
   "source": [
    "df.head()"
   ]
  },
  {
   "cell_type": "code",
   "execution_count": null,
   "id": "13e1807a",
   "metadata": {},
   "outputs": [],
   "source": [
    "# Criando uma função para converter o texto em minúsculas, remover o espaço extra, chr especial, ulr e links.\n",
    "def converter(texto):\n",
    "    texto = texto.lower()\n",
    "    texto = re.sub('\\[.*?\\]', '', texto)\n",
    "    texto = re.sub(\"\\\\W\",\" \",texto) \n",
    "    texto = re.sub('https?://\\S+|www\\.\\S+', '', texto)\n",
    "    texto = re.sub('<.*?>+', '', texto)\n",
    "    texto = re.sub('[%s]' % re.escape(string.punctuation), '', texto)\n",
    "    texto = re.sub('\\n', '', texto)\n",
    "    texto = re.sub('\\w*\\d\\w*', '', texto)    \n",
    "    return texto"
   ]
  },
  {
   "cell_type": "code",
   "execution_count": null,
   "id": "77bfd200",
   "metadata": {},
   "outputs": [],
   "source": [
    "df[\"text\"] = df[\"text\"].apply(converter)"
   ]
  },
  {
   "cell_type": "code",
   "execution_count": null,
   "id": "b4545885",
   "metadata": {},
   "outputs": [],
   "source": [
    "# Definindo variável dependente e independente como x e y\n",
    "x = df[\"text\"]\n",
    "y = df[\"class\"]"
   ]
  },
  {
   "cell_type": "code",
   "execution_count": null,
   "id": "53b5c89a",
   "metadata": {},
   "outputs": [],
   "source": [
    "# Dividindo o conjunto de dados em conjunto de treinamento e conjunto de teste.\n",
    "x_train, x_test, y_train, y_test = train_test_split(x, y, test_size=0.25)"
   ]
  },
  {
   "cell_type": "code",
   "execution_count": null,
   "id": "e1241360",
   "metadata": {},
   "outputs": [],
   "source": [
    "# Converter texto em vetores\n",
    "from sklearn.feature_extraction.text import TfidfVectorizer\n",
    "\n",
    "vetorizacao = TfidfVectorizer()\n",
    "xv_treino = vetorizacao.fit_transform(x_train)\n",
    "xv_teste = vetorizacao.transform(x_test)"
   ]
  },
  {
   "cell_type": "code",
   "execution_count": null,
   "id": "f4abe03b",
   "metadata": {},
   "outputs": [],
   "source": [
    "# 1. Regressão Logística\n",
    "from sklearn.linear_model import LogisticRegression\n",
    "\n",
    "LR = LogisticRegression()\n",
    "\n",
    "LR.fit(xv_treino,y_train)\n",
    "\n",
    "prever_lr=LR.predict(xv_teste)\n",
    "\n",
    "LR.score(xv_teste, y_test)"
   ]
  },
  {
   "cell_type": "code",
   "execution_count": null,
   "id": "2b08e47d",
   "metadata": {},
   "outputs": [],
   "source": [
    "print(classification_report(y_test, prever_lr))"
   ]
  },
  {
   "cell_type": "code",
   "execution_count": null,
   "id": "a5f5ab1a",
   "metadata": {},
   "outputs": [],
   "source": [
    "# 2. Classificação da árvore de decisão"
   ]
  },
  {
   "cell_type": "code",
   "execution_count": null,
   "id": "7ab1560b",
   "metadata": {},
   "outputs": [],
   "source": [
    "from sklearn.tree import DecisionTreeClassifier\n",
    "\n",
    "DT = DecisionTreeClassifier()\n",
    "\n",
    "DT.fit(xv_treino, y_train)\n",
    "\n",
    "prever_dt = DT.predict(xv_teste)\n",
    "\n",
    "DT.score(xv_teste, y_test)"
   ]
  },
  {
   "cell_type": "code",
   "execution_count": null,
   "id": "ce9118a8",
   "metadata": {},
   "outputs": [],
   "source": [
    "print(classification_report(y_test, prever_dt))"
   ]
  },
  {
   "cell_type": "code",
   "execution_count": null,
   "id": "659e0721",
   "metadata": {},
   "outputs": [],
   "source": [
    "# 3. Classificador de aumento de gradiente"
   ]
  },
  {
   "cell_type": "code",
   "execution_count": null,
   "id": "8c84587b",
   "metadata": {},
   "outputs": [],
   "source": [
    "from sklearn.ensemble import GradientBoostingClassifier\n",
    "\n",
    "GBC = GradientBoostingClassifier(random_state=0)\n",
    "\n",
    "GBC.fit(xv_treino, y_train)\n",
    "\n",
    "prever_gbc = GBC.predict(xv_teste)\n",
    "\n",
    "GBC.score(xv_teste, y_test)"
   ]
  },
  {
   "cell_type": "code",
   "execution_count": null,
   "id": "c6164d29",
   "metadata": {},
   "outputs": [],
   "source": [
    "print(classification_report(y_test, prever_gbc))"
   ]
  },
  {
   "cell_type": "code",
   "execution_count": null,
   "id": "d6e1c5f8",
   "metadata": {},
   "outputs": [],
   "source": [
    "# 4. Classificador de floresta aleatório"
   ]
  },
  {
   "cell_type": "code",
   "execution_count": null,
   "id": "260a10ac",
   "metadata": {},
   "outputs": [],
   "source": [
    "from sklearn.ensemble import RandomForestClassifier\n",
    "\n",
    "RFC = RandomForestClassifier(random_state=0)\n",
    "\n",
    "RFC.fit(xv_treino, y_train)\n",
    "\n",
    "prever_rfc = RFC.predict(xv_teste)\n",
    "\n",
    "RFC.score(xv_teste, y_test)"
   ]
  },
  {
   "cell_type": "code",
   "execution_count": null,
   "id": "3d54afbc",
   "metadata": {},
   "outputs": [],
   "source": [
    "print(classification_report(y_test, prever_rfc))"
   ]
  },
  {
   "cell_type": "code",
   "execution_count": null,
   "id": "93bb1b4c",
   "metadata": {},
   "outputs": [],
   "source": [
    "# Teste de modelo com entrada manual\n",
    "\n",
    "def rotulo_saida(n):\n",
    "    if n == 0:\n",
    "        return \"Fake News\"\n",
    "    elif n == 1:\n",
    "        return \"Não é uma notícia falsa\"\n",
    "    \n",
    "def teste_manual(news):\n",
    "    noticia_teste = {\"text\":[news]}\n",
    "    df_definicao_novo_teste = pd.DataFrame(noticia_teste)\n",
    "    df_definicao_novo_teste[\"text\"] = df_definicao_novo_teste[\"text\"].apply(converter) \n",
    "    novo_x_teste = df_definicao_novo_teste[\"text\"]\n",
    "    novo_xv_teste = vetorizacao.transform(novo_x_teste)\n",
    "    prever_LR = LR.predict(novo_xv_teste)\n",
    "    prever_DT = DT.predict(novo_xv_teste)\n",
    "    prever_GBC = GBC.predict(novo_xv_teste)\n",
    "    prever_RFC = RFC.predict(novo_xv_teste)\n",
    "\n",
    "    return print(\"\\n\\nPrevisão LR: {} \\nPrevisão DT: {} \\nPrevisão GBC: {} \\nPrevisão RFC: {}\".format(rotulo_saida(prever_LR[0]), \n",
    "                                                                                                              rotulo_saida(prever_DT[0]), \n",
    "                                                                                                              rotulo_saida(prever_GBC[0]), \n",
    "                                                                                                              rotulo_saida(prever_RFC[0])))"
   ]
  },
  {
   "cell_type": "code",
   "execution_count": null,
   "id": "f1b015e7",
   "metadata": {},
   "outputs": [],
   "source": [
    "noticias = str(input())\n",
    "teste_manual(noticias)"
   ]
  }
 ],
 "metadata": {
  "kernelspec": {
   "display_name": "Python 3 (ipykernel)",
   "language": "python",
   "name": "python3"
  },
  "language_info": {
   "codemirror_mode": {
    "name": "ipython",
    "version": 3
   },
   "file_extension": ".py",
   "mimetype": "text/x-python",
   "name": "python",
   "nbconvert_exporter": "python",
   "pygments_lexer": "ipython3",
   "version": "3.9.12"
  }
 },
 "nbformat": 4,
 "nbformat_minor": 5
}
