{
 "cells": [
  {
   "cell_type": "markdown",
   "metadata": {},
   "source": [
    "<center><img width=\"25%\" src=\"https://www.camaramirimdoce.sc.gov.br/media/noticia/resumo-da-sessao-10-06-2019-111.png?w=848&h=450&t=P&c=f0f0f0&q=80&v=2\"></center>\n",
    "\n",
    "---\n",
    "\n",
    "<br>\n",
    "\n",
    "# **Estudo da Linguagem Python**\n",
    "\n",
    "<br>"
   ]
  },
  {
   "cell_type": "markdown",
   "metadata": {},
   "source": [
    "# **Sumário:**\n",
    "1. [Iteráveis](#Iteráveis)\n",
    "2. [Operadores e Comparadores](#Operadores-e-Comparadores)\n",
    "3. [Tipos de formatação para usar com o método FORMAT()](#Tipos-de-formatação-para-usar-com-o-método-FORMAT())\n",
    "4. [Outros temas importantes](#Outros-temas-importantes)\n",
    "    * Colocar aspas duplas\n",
    "    * Colocar aspas simples\n",
    "    * Colocar contra Barra\n",
    "    * Colocar nova linha\n",
    "    * Colocar TAB\n",
    "    * Pular linha\n",
    "    * Colocar títulos e subtitulos \n",
    "    * Interpolar %d e %s \n",
    "    * f-String \n",
    "    * Slicing String \n",
    "    * Alterações Incrementais \n",
    "    * Juntar objetos\n",
    "    * Unpack / Unpacking (Descompactando) \n",
    "    * Nested List (Lista dentro de uma Lista)\n",
    "    * Colocar texto em Negrito\n",
    "    * Colocar traço na tela\n",
    "    * Colocar quote\n",
    "    * Colocar texto em destaque\n",
    "    * Fazer uma tabela\n",
    "5. [Estruturas Condicionais e Estruturas de Repetições](#Estruturas-Condicionais-e-Estruturas-de-Repetições)\n",
    "6. [Transformar listas em dicionários](#Transformar-listas-em-dicionários)\n",
    "7. [Function](#Function)\n",
    "8. [Docstring e Annotation](#Docstring-e-Annotation)\n",
    "9. [Tipos de Erros e Exceções (Principais)](#Tipos-de-Erros-e-Exceções-(Principais))\n",
    "10. [Criar uma exceção](#Criar-uma-exceção)\n",
    "11. [Introdução a orientação a objetos](#Introdução-a-orientação-a-objetos)\n",
    "12. [List Comprehension](#List-Comprehension)\n",
    "13. [Lambda Expressions](#Lambda-Expressions)\n",
    "14. [Regex](#Regex)"
   ]
  },
  {
   "cell_type": "markdown",
   "metadata": {},
   "source": [
    "## **Iteráveis**\n",
    "[&#x1F53C;](#Sumário:) Clique para voltar para o sumário"
   ]
  },
  {
   "cell_type": "markdown",
   "metadata": {},
   "source": [
    "### Objetivo: É uma estrutura que armazena dados que pode ser ''Interada\", ou seja, que pode fazer um loop como um FOR dentro dela e ir passando de item a item. É como se fosse um tipo de lista de coisas que você pode ir olhando (que você pode percorrer) cada um dos elementos (itens) dentro dela e fazer alguma ação (Funções embutidas) com cada elemento (item) dentro dela. String, Lista, Tuplas, Dicionários, Range e Conjuntos são todos objetos interáveis. São contêineres interáveis dos quais pode obter um interador.Um interador é um objeto que contém um número contável de valores. Que pode ser interado, o que significa que pode percorrer todos os valores. <br>\n",
    "### a) String - São escritas dentro de ' aspas simples ';\n",
    "    Sintaxe: String = ' valor '\n",
    "### b) Lista - São escritas dentro de [ conchetes ]. São ordenadas, mutáveis, permite valores duplicados e geralmente são homogêneas. Retornam novos valores e não alteram a lista original; Para acessa-las e altera-las usando os índices (Lista [indice] e Lista [indice] = \"novo valor\");\n",
    "    Sintaxe: Listas = [ valor, valor, valor,...]\n",
    "### c) Tuplas - São escritas dentro de ( parênteses ). São ordenadas, imutáveis, permite valores duplicados e podem ser heterogêneas. Para acessa-las usamos os índices (tuplas [indices]);\n",
    "    Sintaxe: Tuplas = ( valor, valor, valor,...)\n",
    "### d) Conjuntos (Sets) - São escritos dentro de { chaves }. Não são ordenados, \"imutáveis\" (Permite remover itens e adicionar novos), não é indexados e não permite valores duplicados. Para acessa-los usamos FOR ou o operador IN; \n",
    "    Sintaxe: Conjuntos = { valor, valor, valor,...}\n",
    "### e) Dicionário - São escritos dentro de { chaves }. São ordenadas, mutáveis, não permite itens duplicados e permitem itens heterogêneos. As chaves possui \"valores\" únicos obrigatoriamente, por tanto, não devem ser usado os indices para acessar itens em uma determinada ordem e sim utilizar as chaves (dicionário [ \"Chave\" ] e dicionário [ \"Chave\" ] = \"novo valor\"); \n",
    "    Sintaxe: dicionário = { \"Chave1\" : \"Valor1\", \"Chave2\" : \"Valor2\", ... ,\"ChaveN\" : \"ValorN\" }\n",
    "<img alt=\"Colaboratory logo\" width=\"7%\" src=\"https://www.richgarcia.com.br/wp-content/uploads/2021/10/python.png\">"
   ]
  },
  {
   "cell_type": "markdown",
   "metadata": {},
   "source": [
    "## **Operadores e Comparadores**\n",
    "[&#x1F53C;](#Sumário:) Clique para voltar para o sumário"
   ]
  },
  {
   "cell_type": "markdown",
   "metadata": {},
   "source": [
    "* Soma = + \n",
    "* Subtração = - \n",
    "* Divisão = / >>> (O separador de uma divisão é o ponto e não uma virgula) \n",
    "* Multiplicação = * \n",
    "* Potência = ** >>> (2 ** 3 = 2 x 2 x 2 = 8) \n",
    "* Mode (Módulo) = % >>> (É o resto da divisão - 7 % 3 = 1) \n",
    "* Raiz Quadrada = x ** 1/y, sendo x o nº que fica dentro da raiz quadrada \n",
    "* Parte Inteira = // >>> (É a parte inteira da divisão - 7//3 = 2) \n",
    "* IN = Está contido \n",
    "* NOT IN = Não está contido \n",
    "* Índice = [nº]\n",
    "* Maior que ( > ) \n",
    "* Menos que ( < ) \n",
    "* Maior ou igual a ( > = ) \n",
    "* Menor ou igual a ( < = ) \n",
    "* Igual a ( == ) \n",
    "* Diferente ( != ) \n",
    "<img alt=\"Colaboratory logo\" width=\"7%\" src=\"https://www.richgarcia.com.br/wp-content/uploads/2021/10/python.png\">"
   ]
  },
  {
   "cell_type": "markdown",
   "metadata": {},
   "source": [
    "## **Tipos de formatação para usar com o método FORMAT()**\n",
    "[&#x1F53C;](#Sumário:) Clique para voltar para o sumário"
   ]
  },
  {
   "cell_type": "markdown",
   "metadata": {},
   "source": [
    "* { :n } - Inclui uma quantidade n de caracteres dentro do campo<br>\n",
    "* { :< } - Alinha o texto a Esquerda (Se estiver espaço para isso)<br>\n",
    "* { :> } - Alinha o texto a Direita (Se estiver espaço para isso)<br>\n",
    "* { :^ } - Alinha o texto no Centro<br>\n",
    "* { :+ } - Coloca o sinal sempre na frente do número (Independente se é positivo ou negativo)<br>\n",
    "* { :, } - Coloca a virgula como separador de milhar<br>\n",
    "* { :_ } - Coloca o underline como separador de milhar<br>\n",
    "* { :e } - Formato cientifico<br>\n",
    "* { :.nºf } - Número com quantidade fixas de casas decimais, por padrão, ou seja, se não for informado será 6<br>\n",
    "* { :x } - Formato Hex Minuscula (Para cores)<br>\n",
    "* { :X } - Formato Hex Maiuscula (Para cores)<br>\n",
    "* { :% } - Formato percentual\n",
    "<img alt=\"Colaboratory logo\" width=\"7%\" src=\"https://www.richgarcia.com.br/wp-content/uploads/2021/10/python.png\">"
   ]
  },
  {
   "cell_type": "markdown",
   "metadata": {},
   "source": [
    "## **Outros temas importantes**\n",
    "[&#x1F53C;](#Sumário:) Clique para voltar para o sumário"
   ]
  },
  {
   "cell_type": "markdown",
   "metadata": {},
   "source": [
    "#### Marcações: <br>\n",
    "##### 1) \\\" = Aspas duplas\n",
    "##### 2) \\' = Aspas simples\n",
    "##### 3) \\\\ = Contra Barra\n",
    "##### 4) \\n = Nova linha\n",
    "##### 5) \\t = TAB\n",
    "##### 6) Incluir < br > no final da frase = Pular linha\n",
    "##### 7) Texto em Negrito = ** **Texto** **\n",
    "##### 8) Traço na tela = --- \n",
    "##### 9) Colocar quote = > Texto\n",
    "> Exemplo de quote\n",
    "##### 10) Colocar texto em destaque = Colocar acento de crase no inicio e no final do texto. --- `Exemplo`\n",
    "##### 11) Fazer uma tabela =\n",
    "| **Coluna 1** | **Coluna 2** | **Coluna 3** | **Coluna 4** | **Coluna 5** | **Coluna 6** |\n",
    "|:------------:|:------------:|:------------:|:------------:|:------------:|:------------:|\n",
    "| Linha 1 x 1  | Linha 1 x 2  | Linha 1 x 3  | Linha 1 x 4  | Linha 1 x 5  | Linha 1 x 6  |\n",
    "\n",
    "##### 12) Colocar títulos e subtítulos = \n",
    "    ## - Tamanho Máximo - 2 \"Jogos da velha\"\n",
    "    ###### - Tamanho Mínimo - 6 \"Jogos da velha\"\n",
    "#### Interpolar %d e %s = \n",
    "    Sintaxe: print(' texto %s texto %d texto . ' % (Texto , Número))  \n",
    "    Substituirá o %s no texto que está sendo referenciado no parênteses \"Texto\".\n",
    "    Substituirá o %d no texto que está sendo referenciado no parênteses \"Número\".   \n",
    "#### f-String = print(f'Texto1 {parâmetro1} texto2 {parâmetro2} textoN{parâmetroN}.')\n",
    "#### Slicing String =\n",
    "    a) nº1 : nº2 - retorna o trecho do texto da posição nº1 e vai até a posição do nº2 - 1 \n",
    "    b) : nº2 - retorna o trecho do texto desde o ínicio (posição 0) e vai até a posição do nº2 - 1 \n",
    "    c) nº1 : - retorna o trecho do texto da posição nº1 e vai até o fim (posição -1) \n",
    "    d) nº1 : : nº2 - retorna o trecho do texto da posição nº e vai até o fim (posição -1), porém pulando de nº2 em nº2.\n",
    "    e) : : nº1 - retorna o trecho do texto desde o inicio até o fim, pulando de nº1 a nº1\n",
    "#### Alterações Incrementais (Objeto = Objeto + Outro Valor ou Objeto += outro valor) =\n",
    "    Variável = variável + outro valor ou variável += outro valor\n",
    "    lista = lista + outro valor ou lista += outro valor\n",
    "    tupla1 = tupla1 + tupla2 ou tupla1 += tupla2\n",
    "#### Juntar objetos =\n",
    "    Nova_Lista = Lista1 + Lista2\n",
    "    tupla3 = tupla1 + tupla2\n",
    "#### Unpack / Unpacking (Descompactando) = Objetivo: Quando criamos uma tupla, normalmente, atribuimos valores a ela. Isso é chamado de \"empacotar (Packing)\" uma tupla, mas, também, podemos extrair os valores de volta para as variáveis. Isso é chamado de \"descompactar\". O número de variáveis deve corresponder ao número de itens da Tupla, caso contrário, deve usar um asterisco ( * ) para coletar os valores restantes como uma lista.\n",
    "    Variável = ('Texto','Data','Data',Valor,'Texto')\n",
    "    nome, data_contratação, data_nascimento, salario, cargo = Variável\n",
    "    nome, data_contratação, *Outros_valores = Variável\n",
    "    nome, *datas, salario, cargo = Variável\n",
    "#### Nested List (Lista dentro de uma Lista) =\n",
    "    Sintaxe: \n",
    "    Lista3 = \n",
    "        [Lista 1a , Lista 1b]               \n",
    "        [Lista 2a , Lista 2b]\n",
    "        [Lista Na , Lista Nb]\n",
    "    \n",
    "        Variável = Lista3 [nº do índice da Lista 1, 2 ou N] [nº do índice da Lista a ou b]   \n",
    "<img alt=\"Colaboratory logo\" width=\"7%\" src=\"https://www.richgarcia.com.br/wp-content/uploads/2021/10/python.png\">"
   ]
  },
  {
   "cell_type": "markdown",
   "metadata": {},
   "source": [
    "## **Estruturas Condicionais e Estruturas de Repetições**\n",
    "[&#x1F53C;](#Sumário:) Clique para voltar para o sumário"
   ]
  },
  {
   "cell_type": "markdown",
   "metadata": {},
   "source": [
    "### <u>Estrutura IF</u> - Objetivo: É uma estrutura de condições simples que permite avaliar uma expressão e de acordo com seu resultado, executar uma determinada ação e caso contrario, não faz nada.\n",
    "    Sintaxe: (Se a condição for verdadeira faça algo, caso contrário não faça nada)\n",
    "    if \"condição\" : \n",
    "    TAB \"Ação\"\n",
    "### <u>Estrutura IF - ELSE</u> - Objetivo: Essa estrutura de condição composta que não depende do resultado para que uma determinada ação seja executada.\n",
    "    Sintaxe: (Se a condição for verdadeira faça \"Ação1\", caso contrário faça \"Ação2\")\n",
    "    if \"condição\" : \n",
    "    TAB \"Ação1\"\n",
    "    else :\n",
    "    TAB \"Ação2\" <br>\n",
    "### <u>Estrutura IF - ELIF - ELSE </u> - Objetivo: Adicionalmente, se existir mais de uma condição alternativa que precisa ser verificada, devemos utilizar o ELIF para avaliar as expressões intermerdiárias antes de usar o ELSE. É uma estrutura de condição Aninhada.\n",
    "    Sintaxe: (Se a condição for verdadeira faça \"Ação1\", caso contrário faça \"Ação2\", caso contrario faça \"Ação3\"...\"AçãoN\")\n",
    "    if \"condição\" : \n",
    "    TAB \"Ação1\"\n",
    "    elif ''condição\":\n",
    "    TAB \"Ação2\"\n",
    "    else :\n",
    "    TAB \"Ação3\"\n",
    "### <u>Estrutura AND e OR</u> - Objetivo: Quando temos várias comparações, ao invés de criarmos IF dentro de IF podemos usar os operadores AND e OR para tratar essas condições.<br>\n",
    "#### 1 - AND = Vai ser executado se as duas condições forem verdadeiras ao mesmo tempo.\n",
    "    Sintaxe: \n",
    "    IF \"Condição1\" and \"Condição2\":\n",
    "    TAB Ação\n",
    "### 2 - OR = Vai ser executado se pelo menos uma das condições forem verdadeiras.\n",
    "    Sintaxe:\n",
    "    IF \"Condição1\" or \"Condição2\":\n",
    "    TAB Ação\n",
    "### <u>FOR \"EACH\"</u> - Para cada (FOR) \"item\" dentro da (IN) \"Objeto\" faça algo (:) - Percorre cada item de uma lista/string/dicionário; \n",
    "    Sintaxe: \n",
    "    for \"item\" in \"Objeto\": \n",
    "    TAB código \n",
    "### <u>Função RANGE()</u> - Retorna uma sequência de números, começando com 0, por padrão e incrementa em 1, por padrão e pará antes de um número especificado. \n",
    "    Sintaxe: \n",
    "    for \"variável\" in range( \"Start\", \"Stop = N\" , \"Step\"):\n",
    "    TAB repetir código N vezes\n",
    "        - Sendo STAR (opcional) = Começa com X, em vez de 0.\n",
    "        - Sendo STOP = Antes de chegar a X, pare.\n",
    "        - Sendo STEP (opcional) = Incremente de X em X, em vez de 1 em 1.   \n",
    "### <u>FOR dentro da estrutura do IF</u>\n",
    "    Sintaxe:\n",
    "    for \"item\" in \"Lista\":\n",
    "    TAB if \"condição é verdadeira\":\n",
    "    TAB TAB código\n",
    "    TAB else (condição é falsa):\n",
    "    TAB TAB código \n",
    "### <u>FOR dentro de FOR</u> - Conhecido como Loop Aninhados\n",
    "    Sintaxe:\n",
    "    for \"item\" in \"Lista\":\n",
    "    TAB for \"item2\" in \"Lista2\":\n",
    "    TAB TAB código\n",
    "### <u>Declaração de Passe - PASS </u> - Objetivo: Deve ser usada sempre que o programa requisitar sintaticamente que se preencha uma lacuna, mas não requer nenhuma ação.\n",
    "### <u>Declaração de Pausa - BREAK </u> - Objetivo: Interrompe e finaliza o FOR\n",
    "### <u>Declaração de Continuidade - CONTINUE</u> - Objetivo: Interrompe e vai para o próximo item do FOR.\n",
    "### <u>Estrutura de Repetição (Loop) - WHILE (Enquanto)</u> - Objetivo: Usamos o WHILE quando queremos repetir um código de forma indeterminada até que uma condição se torna verdadeira ou falsa. A lógica é enquanto a condição for verdadeira, o WHILE executa o código.\n",
    "    Sintaxe: \n",
    "    while \"condição\":\n",
    "    TAB repete o código\n",
    "### Estrutura TRY (Experimentar) / EXCEPT (Exceto):\n",
    "    try:\n",
    "    TAB Bloco de código\n",
    "    except:\n",
    "    print ('O item não existe') ou coloque a palavra PASS\n",
    "<img alt=\"Colaboratory logo\" width=\"7%\" src=\"https://www.richgarcia.com.br/wp-content/uploads/2021/10/python.png\">"
   ]
  },
  {
   "cell_type": "markdown",
   "metadata": {},
   "source": [
    "## **Transformar listas em dicionários**\n",
    "[&#x1F53C;](#Sumário:) Clique para voltar para o sumário"
   ]
  },
  {
   "cell_type": "markdown",
   "metadata": {},
   "source": [
    "### a) Dicionário com valores padrões.\n",
    "    Sintaxe: dicionário = dict.fromkey (lista_chaves, valor padrão)\n",
    "### b) Dicionário a partir de lista de tuplas.\n",
    "    Sintaxe: dicionário = dict (lista_tuplas) \n",
    "### c) Dicionário a partir de 2 listas.\n",
    "    1º Passo: Transformar listas em lista de tuplas com método ZIP\n",
    "    2º Passo: Transformar lista de tuplas em dicionário.\n",
    "<img alt=\"Colaboratory logo\" width=\"7%\" src=\"https://www.richgarcia.com.br/wp-content/uploads/2021/10/python.png\">"
   ]
  },
  {
   "cell_type": "markdown",
   "metadata": {},
   "source": [
    "## **Diferença entre método e função**\n",
    "[&#x1F53C;](#Sumário:) Clique para voltar para o sumário"
   ]
  },
  {
   "cell_type": "markdown",
   "metadata": {},
   "source": [
    "### <u>Função:</u> É um bloco de código e é chamado por seu nome (independente). \n",
    "#### A função pode ter parâmetros diferentes ou não ter nenhum.\n",
    "#### Se algum dado (parâmetro) for passado, ele será passado explicitamente.\n",
    "#### Função não lida com classe e seu conceito de instância.<br><br>\n",
    "### <u>Método:</u> É chamado pelo nome, mas está associado a um objeto (dependente).\n",
    "#### Um método é transmitido implicitamente ao objeto no qual é chamado.\n",
    "#### Um método pode operar nos dados (Variáveis de instância) que estão contidos na classe correspondente, ou seja, o método é definido dentro de uma classe.\n",
    "<img alt=\"Colaboratory logo\" width=\"7%\" src=\"https://www.richgarcia.com.br/wp-content/uploads/2021/10/python.png\">"
   ]
  },
  {
   "cell_type": "markdown",
   "metadata": {},
   "source": [
    "## **Function**\n",
    "[&#x1F53C;](#Sumário:) Clique para voltar para o sumário"
   ]
  },
  {
   "cell_type": "markdown",
   "metadata": {},
   "source": [
    "### É um bloco de código que só é executado quando é chamado e tem como propósito fazer uma ação específica. Pode passar argumentos, conhecidos como parâmetros, para uma função e uma função pode retornar dados como resultados. Para permitir que uma função retorne um valor, use a instrução RETURN. O return, se for executado, encerra a função mesmo que dentro dela haja um loop.\n",
    "    Sintaxe: \n",
    "    def nome_função ( N parâmetros, parâmentro = padrão ):\n",
    "    TAB Bloco de código\n",
    "    TAB return valor_final\n",
    "### <u>Chamar a função:</u> \n",
    "### Use o nome da função seguindo de parênteses. \n",
    "    Sintaxe: nome_função ( argumentos )\n",
    "### <u>Para saber a estrutura de uma função é so clicar no SHIFT + TAB quando o cursor estiver dentro do parênteses da função.</u><br>\n",
    "### Caso a função tenha mais de 1 argumento e existe 2 formas de passar o argumento para uma função.\n",
    "### 1) Em ordem - Positional argument (Argumento de posição)\n",
    "### 2) Com o nome do argumento - Keyword argument (Argumento de palavras chaves)\n",
    "    Sintaxe: Key = Value (Chave = Valor) - OBS: Dessa forma, a ordem dos argumentos não importam.\n",
    "### <u>Argumentos Arbitrários:</u>\n",
    "### Se não souber quantos argumentos serão passados para a sua função, adicione um * antes do nome do parâmetro na definição da função. Dessa forma, a função receberá uma tupla de argumentos e poderá acessar os itens.\n",
    "    Sintaxe:\n",
    "    def nome_função ( * Args):\n",
    "    TAB Bloco de códigos\n",
    "### Se não souber quantos argumentos de palavra-chave serão passados para sua função, adicione dois ** antes do nome do parâmetro na definição da função. Desta forma a função receberá um dicionário de argumentos, podendo acessar seus itens.\n",
    "    Sintaxe:\n",
    "    def nome_função ( ** Kwargs):\n",
    "    TAB Bloco de códigos\n",
    "### <u>Ordem dos argumentos:</u><br> \n",
    "### 1) Sempre os argumentos posicionais (N args e * args) vêm primeiro e depois os argumentos de palavras chaves (kN = kwargN e **kwargs) \n",
    "### 2) Sempre os argumentos \"individuais\" vêm primeiro e depois os \"Multiplos\".\n",
    "    Sintaxe: def nome_função ( arg1, arg2, argN, * arg, k1=kwarg1, k2=kwarg2, kN = kwargN, **kwargs):\n",
    "<img alt=\"Colaboratory logo\" width=\"7%\" src=\"https://www.richgarcia.com.br/wp-content/uploads/2021/10/python.png\">"
   ]
  },
  {
   "cell_type": "markdown",
   "metadata": {},
   "source": [
    "## **Docstring e Annotation**\n",
    "[&#x1F53C;](#Sumário:) Clique para voltar para o sumário"
   ]
  },
  {
   "cell_type": "markdown",
   "metadata": {},
   "source": [
    "### <u>Docstring:</u> Diz o que a função faz, quais valores tem como argumento e o que significa cada valor.\n",
    "    Sintaxe:\n",
    "    def nome_função (arg1, arg2, argN):\n",
    "        ''' O que a função faz -> Descrição\n",
    "    \n",
    "        Parameters:\n",
    "            arg 1 (tipo do objeto): O que é o argumento 1\n",
    "            arg 2 (tipo do objeto): O que é o argumento 2\n",
    "            arg N (tipo do objeto): O que é o argumento N\n",
    "    \n",
    "        Returns:\n",
    "            texto(tipo do objeto): O que a função retorna como resposta -> Descrição\n",
    "        '''\n",
    "        Bloco de código\n",
    "        return valor_final\n",
    "### <u>Annotation:</u> Diz o que devem ser os argumentos e o que a função retorna.\n",
    "    Sintaxe:\n",
    "    def nome_função (arg1: \"explicação\", arg2: \"explicação\", argN: \"explicação\") -> tipo do objeto: (O que a função retorna)\n",
    "        Bloco de código\n",
    "    TAB return valor_final<br>\n",
    "<img alt=\"Colaboratory logo\" width=\"7%\" src=\"https://www.richgarcia.com.br/wp-content/uploads/2021/10/python.png\">"
   ]
  },
  {
   "cell_type": "markdown",
   "metadata": {},
   "source": [
    "## **Tipos de Erros e Exceções (Principais)**\n",
    "[&#x1F53C;](#Sumário:) Clique para voltar para o sumário"
   ]
  },
  {
   "cell_type": "markdown",
   "metadata": {},
   "source": [
    "### Utilizamos a estrutura TRY / EXCEPT / ELSE / FINALLY  junto com RAISE para printar o erro em uma função e tratarmos de uma forma completa.\n",
    "    Sintaxe:\n",
    "    try:\n",
    "        Tenta fazer o Bloco de códigos\n",
    "    ----------------------------------------------------------------------------------------------------------------------\n",
    "    except \"Nome do Erro Expecifico\":\n",
    "        Ocorreu o erro expecífico lide dessa forma (Bloco de código ou mensagem de erro)\n",
    "    ------------------------------------------------------ou--------------------------------------------------------------\n",
    "    except:\n",
    "        raise \"Tipo_Erro\" (\"Mensagem de erro\").\n",
    "    ----------------------------------------------------------------------------------------------------------------------\n",
    "    else:\n",
    "        Caso não dê o erro específico lide dessa forma (Bloco de código ou mensagem de erro)\n",
    "    finally:\n",
    "        Independente de ter gerado um erro, faça (Bloco de código ou mensagem).\n",
    "<img alt=\"Colaboratory logo\" width=\"7%\" src=\"https://www.richgarcia.com.br/wp-content/uploads/2021/10/python.png\">"
   ]
  },
  {
   "cell_type": "markdown",
   "metadata": {},
   "source": [
    "## **Criar uma exceção**\n",
    "[&#x1F53C;](#Sumário:) Clique para voltar para o sumário"
   ]
  },
  {
   "cell_type": "markdown",
   "metadata": {},
   "source": [
    "### Pode optar por informar uma exceção se ocorrer uma condição usando a palavra chave \"Raise\" para lançar o tipo de exceção e o texto a ser impresso para o usuário.<br>\n",
    "### <u>Tipos de erros:</u> raise \"Tipo_Erro\" (\"Mensagem de erro\") ou raise exception(\"Mensagem de erro\")\n",
    "* Raise ZeroDivisionError - Quando tentamos dividir um número por zero.\n",
    "* Raize IndexError ou KeyError - Quando tentamos pegar um indice que não existe em uma lista ou uma chave que não existe em um dicionário.\n",
    "* Raize TypeError ou AttributeError - Quando tentamos atribuir um parâmetro para um função que não tem parâmetros ou que não possui aquele parâmetro específico ou algum outro erro no parâmetro passado a função.\n",
    "* Raize ImportError ou ModuleNotFoundError - Quando tentamos importar um módulo não instalado no nosso computador ou algum objeto / função de um módulo que não existe.\n",
    "* Raize NameError - Quando tentamos usar uma variável que não existe / não foi iniciada.\n",
    "* Raize SyntaxError - Quando fizemos algum erro de escrita no código (Deixamos de fechar algum parêntese, conchetes ou chaves), escrevemos algo que não pode ser escrito ou escrevemos de forma errada. \n",
    "* Raize IndentationError ou TabError - Quando damos mais ou menos vezes tab do que deveria em algumas linhas de código (Mais ou menos indentação)\n",
    "* Raize TypeError - Quando tentamos fazer uma operação com um tipo de variável que não pode ser feito nela.\n",
    "* Raize UnicodeError - Quando o programa não consegue usar o método de encoding correto. Normalmente isso sinaliza a existencia de algum caractere especial como ~, ç, etc. Que está atrapalhando o código.\n",
    "* Raize ValueError - Quando passamos um valor que não pode ser passado para uma função ou método.\n",
    "* Raize ArithmeticError - Gerado quando ocorre um erro em cálculos matemáticos. \n",
    "* Raize AssertionError - Gerado quando uma instrução assertiva falha.\n",
    "* Raize EofError - Gerado quando o método input atinge uma condição de \"Fim de arquivo\" (EOF).\n",
    "* Raize FloatingPointError - Gerado quando um cálculo de ponto flutuante falha.\n",
    "* Raize GeneratorExit - Gerado quando um gerador é fechado (com Método close()).\n",
    "* Raize KeyBoardInterrupt - Gerado quando o usuário pressiona CTRL + C, CTRL + Z ou Delete. \n",
    "* Raize LookUpError - Gerado quando os erros gerados não podem ser encontrados.\n",
    "* Raize MemoryError - Gerado quando um programa fica sem memória. \n",
    "* Raize NotImplementedError - Gerado quando um método abtrado requer uma classe herdada para substituir o método.\n",
    "* Raize OsError - Gerado quando uma operção relacionada ao sistema causa um erro.\n",
    "* Raize OverFlowError - Gerado quando o resultado de um calculo numerico é muito grande.\n",
    "* Raize ReferenceError - Gerado quando um obejto de referencia fraco não existe.\n",
    "* Raize RunTimeError - Gerado quando ocorre um erro que não pertence a nenhuma expectativa especifica.\n",
    "* Raize StopInteration - Gerado quando o método next() de um interado não tem mais valores.\n",
    "* Raize SystemError - Gerado quando ocorre um erro do sistema.\n",
    "* Raize SystemExit - Gerado quando a função sys.exist() é chamada.\n",
    "* Raize UnBoundLocalError - Gerado quando uma variável local é referenciada antes da atribuição.\n",
    "* Raize UnicodeEncodeError - Gerado quando ocorre um problema de codificação Unicode.\n",
    "* Raize UnicodeDecodeError - Gerado quando ocorre um problema de decodificação Unicode.\n",
    "* Raize UnicodeTranslateError - Gerado quando ocorre um problema de tradução Unicode.\n",
    "<img alt=\"Colaboratory logo\" width=\"7%\" src=\"https://www.richgarcia.com.br/wp-content/uploads/2021/10/python.png\">"
   ]
  },
  {
   "cell_type": "markdown",
   "metadata": {},
   "source": [
    "## **Introdução a orientação a objetos**\n",
    "[&#x1F53C;](#Sumário:) Clique para voltar para o sumário"
   ]
  },
  {
   "cell_type": "markdown",
   "metadata": {},
   "source": [
    "#### PIP é um gerenciador de módulos / pacotes / bibliotecas que ajuda a instalar, atualizar e desinstalar novos módulos.\n",
    "    Sintaxe:\n",
    "    1) import \"módulo\" ou import \"módulo\" AS \"novo nome do módulo\"\n",
    "    2) Escrever na anaconda prompt >>>> pip install \"módulo\" para instalar o módulo e pip uninstall \"módulo\" e depois clicar \" Y \" para desinstalar o módulo.\n",
    "### <u>Acessar uma função num módulo:</u> Depois que importar o módulo, chame a função.\n",
    "    Sintaxe: nome_modulo.nome_função\n",
    "### <u>Importar parte de um módulo:</u> Pode optar por importar apenas partes de um módulo, usando a palavra-chave FROM.\n",
    "    Sintaxe: from nome_modulo import nome_função\n",
    "#### OBS: Ao importar usando a palavra chave From, não use o nome do módulo ao fazer a referência aos elementos do módulo.\n",
    "#### Exemplo: print ( função [ Valor ] ) e não print ( modulo . função [ Valor ])<br>\n",
    "### <u>Criar um módulo:</u> Para criar basta salvar o código desejado em um arquivo de extensão.py\n",
    "### Caminho >>> File > Download as > Python.py<br>\n",
    "### Função dir(): É uma função interna que lista todos os nomes de funções ou variáveis em um módulo. \n",
    "    Sintaxe: dir(módulo)\n",
    "<img alt=\"Colaboratory logo\" width=\"7%\" src=\"https://www.richgarcia.com.br/wp-content/uploads/2021/10/python.png\">"
   ]
  },
  {
   "cell_type": "markdown",
   "metadata": {},
   "source": [
    "## **List Comprehension**\n",
    "[&#x1F53C;](#Sumário:) Clique para voltar para o sumário"
   ]
  },
  {
   "cell_type": "markdown",
   "metadata": {},
   "source": [
    "### Em resumo, é como se fizesse um \"FOR\" em uma linha de código.\n",
    "    Sintaxe: Lista = [ expressão for item in iterable] >>>> Para cada item dentro do iterável faça a expressão.\n",
    "### Usar IF para \"Filtrar\" itens:\n",
    "    Sintaxe: Lista = [ expressão for item in iterable if condições] >>>> Para cada item dentro da iterável faça a expressão, se a condição for verdadeira.\n",
    "### Com IF para \"Escolher\" o resultado final:\n",
    "    Sintaxe: Lista = [ item if condicao else outro_resultado for item in iterable] >>>> Para cada item dentro da iterável, a lista atribui um valor para cada item, se a condição for verdadeira, caso contrario, será atribuido outro valor para cada item.\n",
    "<img alt=\"Colaboratory logo\" width=\"7%\" src=\"https://www.richgarcia.com.br/wp-content/uploads/2021/10/python.png\">"
   ]
  },
  {
   "cell_type": "markdown",
   "metadata": {},
   "source": [
    "## **Cores no terminal**\n",
    "[&#x1F53C;](#Sumário:) Clique para voltar para o sumário"
   ]
  },
  {
   "cell_type": "markdown",
   "metadata": {},
   "source": [
    "    Sintaxe:\\033[ Cor_Estilo : Cor_Texto : Cor_Fundo m\n",
    "### <u>Códigos de estilos:</u>\n",
    "    0 = Sem estilo (None)\n",
    "    1 = Em negrito (Bold)\n",
    "    4 = Sublinhado (Underline)\n",
    "    7 = Negativo (Inverte a cor do texto com a cor do fundo)\n",
    "### <u>Códigos de texto:</u>\n",
    "    30 = Branco\n",
    "    31 = Vermelho\n",
    "    32 = Verde\n",
    "    33 = Amarelo\n",
    "    34 = Azul\n",
    "    35 = Lilas\n",
    "    36 = Azul esverdiado\n",
    "    37 = Cinza\n",
    "### <u>Código de Fundo:</u>\n",
    "    40 = Branco\n",
    "    41 = Vermelho\n",
    "    42 = Verde\n",
    "    43 = Amarelo\n",
    "    44 = Azul\n",
    "    45 = Lilas\n",
    "    46 = Azul esverdiado\n",
    "    47 = Cinza\n",
    "#### OBS: Padrão = Fundo Preto + Texto Branco = \\033[m\n",
    "#### Inverso do Padrão = Fundo Branco + Texto Preto = \\033[7:30m<br>\n",
    "<img alt=\"Colaboratory logo\" width=\"7%\" src=\"https://www.richgarcia.com.br/wp-content/uploads/2021/10/python.png\">"
   ]
  },
  {
   "cell_type": "markdown",
   "metadata": {},
   "source": [
    "## **Lambda Expressions**\n",
    "[&#x1F53C;](#Sumário:) Clique para voltar para o sumário"
   ]
  },
  {
   "cell_type": "markdown",
   "metadata": {},
   "source": [
    "### São funções anônimas (sem nome) que tem uma linha de código e são atribuidas a uma variável.\n",
    "    Sintaxe: Variável = Lambda parâmetros : expressão\n",
    "#### OBS: Usadas principalmente dentro de métodos como argumentos, para não precisarmos criar uma função só para isso. \n",
    "    Sintaxe: \n",
    "    def nome_função ():\n",
    "    return Lambda parâmetros : expressão\n",
    "    \n",
    "    variável = nome_função ()\n",
    "<img alt=\"Colaboratory logo\" width=\"7%\" src=\"https://www.richgarcia.com.br/wp-content/uploads/2021/10/python.png\">"
   ]
  },
  {
   "cell_type": "markdown",
   "metadata": {},
   "source": [
    "## **Regex**\n",
    "[&#x1F53C;](#Sumário:) Clique para voltar para o sumário"
   ]
  },
  {
   "cell_type": "markdown",
   "metadata": {},
   "source": [
    "https://regex101.com/"
   ]
  }
 ],
 "metadata": {
  "kernelspec": {
   "display_name": "Python 3 (ipykernel)",
   "language": "python",
   "name": "python3"
  },
  "language_info": {
   "codemirror_mode": {
    "name": "ipython",
    "version": 3
   },
   "file_extension": ".py",
   "mimetype": "text/x-python",
   "name": "python",
   "nbconvert_exporter": "python",
   "pygments_lexer": "ipython3",
   "version": "3.9.16"
  }
 },
 "nbformat": 4,
 "nbformat_minor": 4
}
