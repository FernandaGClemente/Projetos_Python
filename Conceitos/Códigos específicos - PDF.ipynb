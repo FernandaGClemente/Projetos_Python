{
 "cells": [
  {
   "cell_type": "markdown",
   "id": "bebe459c",
   "metadata": {},
   "source": [
    "\n",
    "<center><img width=\"25%\" src=\"https://www.camaramirimdoce.sc.gov.br/media/noticia/resumo-da-sessao-10-06-2019-111.png?w=848&h=450&t=P&c=f0f0f0&q=80&v=2\"></center>\n",
    "\n",
    "---\n",
    "\n",
    "<br>\n",
    "\n",
    "# **Códigos - PDF**\n",
    "\n",
    "<br>"
   ]
  },
  {
   "cell_type": "markdown",
   "id": "311e27a8",
   "metadata": {},
   "source": [
    "# **Sumário:**\n",
    "1. [Crie um arquivo PDF](#Crie-um-arquivo-PDF)\n",
    "2. [Converter PDF em Word](#Converter-PDF-em-Word)"
   ]
  },
  {
   "cell_type": "markdown",
   "id": "cf3a3de4",
   "metadata": {},
   "source": [
    "## **Crie um arquivo PDF**\n",
    "[(Voltar para o sumário)](#Sumário:)\n",
    "> https://www.reportlab.com/docs/reportlab-userguide.pdf"
   ]
  },
  {
   "cell_type": "code",
   "execution_count": 2,
   "id": "4996c6a7",
   "metadata": {},
   "outputs": [],
   "source": [
    "# Importação da biblioteca\n",
    "from reportlab.pdfgen import canvas\n",
    "\n",
    "# Para criar o novo arquivo PDF\n",
    "arquivo_pdf = canvas.Canvas('Exemplo.pdf')\n",
    "\n",
    "# Para adicionar os textos no arquivo em PDF\n",
    "arquivo_pdf.drawString(72,720,\"Título: Olá, Mundo\")\n",
    "arquivo_pdf.drawString(72,700,\"Parágrafo: Exemplo de criação de um arquivo em PDF usando Python\")\n",
    "arquivo_pdf.drawString(72,680,\"Parágrafo: Arquivo criado no dia 02/04/2023.\")\n",
    "arquivo_pdf.drawString(72,660,\"Parágrafo: Faz parte do estudo de Python.\")\n",
    "arquivo_pdf.drawString(72,640,\"Parágrafo: :) \")\n",
    "\n",
    "# Salvar o arquivo em PDF\n",
    "arquivo_pdf.save()"
   ]
  },
  {
   "cell_type": "markdown",
   "id": "563603ec",
   "metadata": {},
   "source": [
    "<img width=\"50%\" src=\"_imagens/ExemploPDF.png\">"
   ]
  },
  {
   "cell_type": "markdown",
   "id": "db8b29b8",
   "metadata": {},
   "source": [
    "## **Converter PDF em Word**\n",
    "[(Voltar para o sumário)](#Sumário:)"
   ]
  },
  {
   "cell_type": "code",
   "execution_count": 3,
   "id": "c7d418db",
   "metadata": {},
   "outputs": [
    {
     "name": "stderr",
     "output_type": "stream",
     "text": [
      "[INFO] Start to convert Exemplo.pdf\n",
      "[INFO] \u001b[1;36m[1/4] Opening document...\u001b[0m\n",
      "[INFO] \u001b[1;36m[2/4] Analyzing document...\u001b[0m\n",
      "[INFO] \u001b[1;36m[3/4] Parsing pages...\u001b[0m\n",
      "[INFO] (1/1) Page 1\n",
      "[INFO] \u001b[1;36m[4/4] Creating pages...\u001b[0m\n",
      "[INFO] (1/1) Page 1\n",
      "[INFO] Terminated in 0.18s.\n"
     ]
    },
    {
     "name": "stdout",
     "output_type": "stream",
     "text": [
      "Concluído com sucesso\n"
     ]
    }
   ],
   "source": [
    "# Importação da biblioteca\n",
    "from pdf2docx import Converter\n",
    "\n",
    "# Armazenando os arquivos\n",
    "arquivo_pdf = \"Exemplo.pdf\"\n",
    "arquivo_word = \"Exemplo.docx\"\n",
    "conversor = Converter(arquivo_pdf)\n",
    "conversor.convert(arquivo_word)\n",
    "conversor.close()\n",
    "print('Concluído com sucesso')"
   ]
  },
  {
   "cell_type": "markdown",
   "id": "5c7b7bd2",
   "metadata": {},
   "source": [
    "<img width=\"50%\" src=\"_imagens/ExemploWord.png\">"
   ]
  }
 ],
 "metadata": {
  "kernelspec": {
   "display_name": "Python 3 (ipykernel)",
   "language": "python",
   "name": "python3"
  },
  "language_info": {
   "codemirror_mode": {
    "name": "ipython",
    "version": 3
   },
   "file_extension": ".py",
   "mimetype": "text/x-python",
   "name": "python",
   "nbconvert_exporter": "python",
   "pygments_lexer": "ipython3",
   "version": "3.9.16"
  }
 },
 "nbformat": 4,
 "nbformat_minor": 5
}
