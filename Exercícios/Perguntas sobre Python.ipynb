{
 "cells": [
  {
   "cell_type": "markdown",
   "id": "fe346a41",
   "metadata": {},
   "source": [
    "<img  width=\"30%\" src=\"https://miro.medium.com/v2/resize:fit:1400/1*ycIMlwgwicqlO6PcFRA-Iw.png\">\n",
    "\n",
    "---\n",
    "\n",
    "<br>\n",
    "\n",
    "# Perguntas sobre Python\n",
    "\n",
    "<br>"
   ]
  },
  {
   "cell_type": "markdown",
   "id": "dae7ae2e",
   "metadata": {},
   "source": [
    "# **<u>Sumário:</u>**\n",
    "1. [O que é Python? Quais são os benefícios de usar o Python?](#1.-O-que-é-Python?-Quais-são-os-benefícios-de-usar-o-Python?)\n",
    "2. [O que é uma linguagem de tipagem dinâmica?](#2.-O-que-é-uma-linguagem-de-tipagem-dinâmica?)\n",
    "3. [O que é uma língua interpretada?](#3.-O-que-é-uma-língua-interpretada?)\n",
    "4. [O que é PEP 8 e por que é importante?](#4.-O-que-é-PEP-8-e-por-que-é-importante?)\n",
    "5. [O que é escopo em Python?](#5.-O-que-é-escopo-em-Python?)\n",
    "6. [O que são listas e tuplas? Qual é a principal diferença entre os dois?](#6.-O-que-são-listas-e-tuplas?-Qual-é-a-principal-diferença-entre-os-dois?)\n",
    "7. [Quais são os tipos de dados internos comuns em Python?](#7.-Quais-são-os-tipos-de-dados-internos-comuns-em-Python?)\n",
    "8. [O que é PASS em Python?](#8.-O-que-é-PASS-em-Python?)\n",
    "9. [O que são módulos e pacotes em Python?](#9.-O-que-são-módulos-e-pacotes-em-Python?)\n",
    "10. [O que são atributos globais, protegidos e privados em Python?](#10.-O-que-são-atributos-globais,-protegidos-e-privados-em-Python?)\n",
    "11. [Qual é a utilidade de self em Python?](#11.-Qual-é-a-utilidade-de-self-em-Python?)\n",
    "12. [O que é init?](#12.-O-que-é-init?)\n",
    "13. [O que é break, continue e pass em Python?](#13.-O-que-é-break,-continue-e-pass-em-Python?)\n",
    "14. [O que são testes de unidade em Python?](#14.-O-que-são-testes-de-unidade-em-Python?)\n",
    "15. [O que é docstring em Python?](#15.-O-que-é-docstring-em-Python?)\n",
    "16. [O que é fatiar em Python?](#16.-O-que-é-fatiar-em-Python?)\n",
    "17. [Explique como pode tornar um script Python executável no Unix?](#17.-Explique-como-pode-tornar-um-script-Python-executável-no-Unix?)\n",
    "18. [Qual a diferença entre arrays e listas em Python?](#18.-Qual-a-diferença-entre-arrays-e-listas-em-Python?)\n",
    "19. [Como a memória é gerenciada em Python?](#19.-Como-a-memória-é-gerenciada-em-Python?)\n",
    "20. [O que são namespaces Python? Por que eles são usados?](#20.-O-que-são-namespaces-Python?-Por-que-eles-são-usados?)\n",
    "21. [O que é resolução de escopo em Python?](#21.-O-que-é-resolução-de-escopo-em-Python?)\n",
    "22. [O que são decoradores em Python?](#22.-O-que-são-decoradores-em-Python?)\n",
    "23. [O que são as compreensões Dict e List?](#23.-O-que-são-as-compreensões-Dict-e-List?)\n",
    "24. [O que é lambda em Python? Por que é usado?](#24.-O-que-é-lambda-em-Python?-Por-que-é-usado?)\n",
    "25. [Como você copia um objeto em Python?](#25.-Como-você-copia-um-objeto-em-Python?)\n",
    "26. [O que é Pickling e Unpickling?](#26.-O-que-é-Pickling-e-Unpickling?)\n",
    "27. [O que são geradores em Python?](#27.-O-que-são-geradores-em-Python?)\n",
    "28. [O que é PYTHONPATH em Python?](#28.-O-que-é-PYTHONPATH-em-Python?)\n",
    "29. [Para que servem as funções help() e dir()?](#29.-Para-que-servem-as-funções-help()-e-dir()?)\n",
    "30. [Qual é a diferença entre arquivos .py e .pyc?](#30.-Qual-é-a-diferença-entre-arquivos-py-e-pyc?)"
   ]
  },
  {
   "cell_type": "markdown",
   "id": "fe6d0f33",
   "metadata": {},
   "source": [
    "## 1. O que é Python? Quais são os benefícios de usar o Python? \n",
    "[&#x1F53C;](#Sumário:) Clique para voltar para o sumário"
   ]
  },
  {
   "cell_type": "markdown",
   "id": "dd12fc73",
   "metadata": {},
   "source": [
    "### Python é uma linguagem de programação interpretada de alto nível com semântica dinâmica. Seus benefícios incluem simplicidade, facilidade de uso, disponibilidade de bibliotecas de terceiros e ampla gama de aplicativos em campos como desenvolvimento web, análise de dados e computação científica."
   ]
  },
  {
   "cell_type": "markdown",
   "id": "dce1422c",
   "metadata": {},
   "source": [
    "## 2. O que é uma linguagem de tipagem dinâmica?\n",
    "[&#x1F53C;](#Sumário:) Clique para voltar para o sumário"
   ]
  },
  {
   "cell_type": "markdown",
   "id": "2a00a32d",
   "metadata": {},
   "source": [
    "### Uma linguagem de tipagem dinâmica é uma linguagem de programação na qual as variáveis não são vinculadas a um tipo de dados específico em tempo de compilação, mas, em vez disso, o tipo de dados é determinado em tempo de execução."
   ]
  },
  {
   "cell_type": "markdown",
   "id": "0baaa31c",
   "metadata": {},
   "source": [
    "## 3. O que é uma língua interpretada? \n",
    "[&#x1F53C;](#Sumário:) Clique para voltar para o sumário"
   ]
  },
  {
   "cell_type": "markdown",
   "id": "f26ee380",
   "metadata": {},
   "source": [
    "### Uma linguagem interpretada é uma linguagem de programação na qual o código-fonte é executado linha por linha em tempo de execução, sem primeiro ser compilado em código de máquina."
   ]
  },
  {
   "cell_type": "markdown",
   "id": "45730d05",
   "metadata": {},
   "source": [
    "## 4. O que é PEP 8 e por que é importante? \n",
    "[&#x1F53C;](#Sumário:) Clique para voltar para o sumário"
   ]
  },
  {
   "cell_type": "markdown",
   "id": "c62963b8",
   "metadata": {},
   "source": [
    "### PEP 8 é um conjunto de convenções de codificação para a linguagem Python que fornece diretrizes sobre como escrever código Python mais legível e consistente. É importante porque promove consistência no código, o que o torna mais fácil de ler e manter."
   ]
  },
  {
   "cell_type": "markdown",
   "id": "7fde53d0",
   "metadata": {},
   "source": [
    "## 5. O que é escopo em Python? \n",
    "[&#x1F53C;](#Sumário:) Clique para voltar para o sumário"
   ]
  },
  {
   "cell_type": "markdown",
   "id": "c04a256b",
   "metadata": {},
   "source": [
    "### Em Python, escopo refere-se à região de um programa onde uma determinada variável pode ser acessada. Python tem quatro níveis de escopo: local, envolvente, global e integrado."
   ]
  },
  {
   "cell_type": "markdown",
   "id": "b5aac747",
   "metadata": {},
   "source": [
    "## 6. O que são listas e tuplas? Qual é a principal diferença entre os dois? \n",
    "[&#x1F53C;](#Sumário:) Clique para voltar para o sumário"
   ]
  },
  {
   "cell_type": "markdown",
   "id": "a0dc33a2",
   "metadata": {},
   "source": [
    "### Listas e tuplas são tipos de estruturas de dados que podem armazenar vários itens. A principal diferença é que as listas são mutáveis, enquanto as tuplas são imutáveis."
   ]
  },
  {
   "cell_type": "markdown",
   "id": "79abc003",
   "metadata": {},
   "source": [
    "## 7. Quais são os tipos de dados internos comuns em Python? \n",
    "[&#x1F53C;](#Sumário:) Clique para voltar para o sumário"
   ]
  },
  {
   "cell_type": "markdown",
   "id": "f41405ad",
   "metadata": {},
   "source": [
    "### Os tipos de dados integrados comuns incluem números inteiros, flutuantes, booleanos, strings, listas, tuplas e dicionários."
   ]
  },
  {
   "cell_type": "markdown",
   "id": "2251313c",
   "metadata": {},
   "source": [
    "## 8. O que é PASS em Python? \n",
    "[&#x1F53C;](#Sumário:) Clique para voltar para o sumário"
   ]
  },
  {
   "cell_type": "markdown",
   "id": "64e0cf9f",
   "metadata": {},
   "source": [
    "### Em Python, pass é uma instrução nula que não faz nada. Ele é usado como um espaço reservado em situações em que a sintaxe requer uma instrução, mas nenhuma ação é necessária."
   ]
  },
  {
   "cell_type": "markdown",
   "id": "4fed72fb",
   "metadata": {},
   "source": [
    "## 9. O que são módulos e pacotes em Python? \n",
    "[&#x1F53C;](#Sumário:) Clique para voltar para o sumário"
   ]
  },
  {
   "cell_type": "markdown",
   "id": "ab50b7f4",
   "metadata": {},
   "source": [
    "### Módulos são unidades de código reutilizáveis em Python que podem ser importadas e usadas em outros scripts Python. Pacotes são coleções de módulos relacionados que são organizados hierarquicamente."
   ]
  },
  {
   "cell_type": "markdown",
   "id": "56442505",
   "metadata": {},
   "source": [
    "## 10. O que são atributos globais, protegidos e privados em Python? \n",
    "[&#x1F53C;](#Sumário:) Clique para voltar para o sumário"
   ]
  },
  {
   "cell_type": "markdown",
   "id": "f10888ff",
   "metadata": {},
   "source": [
    "### Os atributos globais são acessíveis de qualquer lugar em um programa Python, enquanto os atributos protegidos só podem ser acessados dentro da classe ou de suas subclasses, e os atributos privados só podem ser acessados dentro da classe."
   ]
  },
  {
   "cell_type": "markdown",
   "id": "2b4e7a0c",
   "metadata": {},
   "source": [
    "## 11. Qual é a utilidade de self em Python? \n",
    "[&#x1F53C;](#Sumário:) Clique para voltar para o sumário"
   ]
  },
  {
   "cell_type": "markdown",
   "id": "960f6a09",
   "metadata": {},
   "source": [
    "### Em Python, self refere-se à instância da classe na qual um método é chamado. É uma referência ao objeto ao qual o método pertence."
   ]
  },
  {
   "cell_type": "markdown",
   "id": "1cca6604",
   "metadata": {},
   "source": [
    "## 12. O que é init? \n",
    "[&#x1F53C;](#Sumário:) Clique para voltar para o sumário"
   ]
  },
  {
   "cell_type": "markdown",
   "id": "db5a656c",
   "metadata": {},
   "source": [
    "### init é um método especial em Python que é chamado automaticamente quando um objeto é criado. É usado para inicializar os atributos do objeto."
   ]
  },
  {
   "cell_type": "markdown",
   "id": "ce882777",
   "metadata": {},
   "source": [
    "## 13. O que é break, continue e pass em Python? \n",
    "[&#x1F53C;](#Sumário:) Clique para voltar para o sumário"
   ]
  },
  {
   "cell_type": "markdown",
   "id": "0e2ac794",
   "metadata": {},
   "source": [
    "### Break é usado para sair de um loop prematuramente, continue é usado para pular para a próxima iteração de um loop e pass é usado como um espaço reservado para o código que ainda não foi escrito."
   ]
  },
  {
   "cell_type": "markdown",
   "id": "edcb7c06",
   "metadata": {},
   "source": [
    "## 14. O que são testes de unidade em Python? \n",
    "[&#x1F53C;](#Sumário:) Clique para voltar para o sumário"
   ]
  },
  {
   "cell_type": "markdown",
   "id": "862455ac",
   "metadata": {},
   "source": [
    "### Testes de unidade em Python são testes automatizados projetados para testar unidades individuais de código, como funções ou métodos."
   ]
  },
  {
   "cell_type": "markdown",
   "id": "181a9ea9",
   "metadata": {},
   "source": [
    "## 15. O que é docstring em Python? \n",
    "[&#x1F53C;](#Sumário:) Clique para voltar para o sumário"
   ]
  },
  {
   "cell_type": "markdown",
   "id": "3de1130b",
   "metadata": {},
   "source": [
    "### Docstrings em Python são strings de documentação usadas para documentar funções, classes e módulos. Eles estão entre aspas triplas e podem ser acessados usando a função help()."
   ]
  },
  {
   "cell_type": "markdown",
   "id": "f4ee02f1",
   "metadata": {},
   "source": [
    "## 16. O que é fatiar em Python? \n",
    "[&#x1F53C;](#Sumário:) Clique para voltar para o sumário"
   ]
  },
  {
   "cell_type": "markdown",
   "id": "482a5965",
   "metadata": {},
   "source": [
    "### Fatiar em Python é uma maneira de acessar um subconjunto específico de elementos em uma sequência, como uma lista ou string."
   ]
  },
  {
   "cell_type": "markdown",
   "id": "332a6fe8",
   "metadata": {},
   "source": [
    "## 17. Explique como pode tornar um script Python executável no Unix? \n",
    "[&#x1F53C;](#Sumário:) Clique para voltar para o sumário"
   ]
  },
  {
   "cell_type": "markdown",
   "id": "43067289",
   "metadata": {},
   "source": [
    "### Para tornar um script Python executável no Unix, você deve primeiro adicionar uma linha shebang ao topo do script, que especifica a localização do interpretador Python. Você também deve definir as permissões de arquivo para permitir a execução."
   ]
  },
  {
   "cell_type": "markdown",
   "id": "7006e8a0",
   "metadata": {},
   "source": [
    "## 18. Qual a diferença entre arrays e listas em Python? \n",
    "[&#x1F53C;](#Sumário:) Clique para voltar para o sumário"
   ]
  },
  {
   "cell_type": "markdown",
   "id": "ee469df0",
   "metadata": {},
   "source": [
    "### Arrays e listas são usados para armazenar coleções de dados em Python, mas existem algumas diferenças entre eles. Uma matriz é uma coleção de elementos do mesmo tipo de dados, enquanto uma lista pode conter elementos de diferentes tipos de dados. Arrays são mais eficientes em termos de armazenamento e tempo de acesso, mas listas oferecem mais flexibilidade e funcionalidade."
   ]
  },
  {
   "cell_type": "markdown",
   "id": "eb90bfab",
   "metadata": {},
   "source": [
    "## 19. Como a memória é gerenciada em Python? \n",
    "[&#x1F53C;](#Sumário:) Clique para voltar para o sumário"
   ]
  },
  {
   "cell_type": "markdown",
   "id": "1a2b8871",
   "metadata": {},
   "source": [
    "### O gerenciamento de memória em Python é feito automaticamente por meio de um mecanismo chamado contagem de referência. Cada objeto em Python tem uma contagem de referência que controla o número de referências a ele. Quando a contagem de referência de um objeto chega a zero, ele é excluído da memória automaticamente pelo coletor de lixo. O Python também usa uma técnica chamada \"pooling de memória\" para otimizar o uso da memória reutilizando blocos de memória para objetos do mesmo tamanho."
   ]
  },
  {
   "cell_type": "markdown",
   "id": "b5623680",
   "metadata": {},
   "source": [
    "## 20. O que são namespaces Python? Por que eles são usados? \n",
    "[&#x1F53C;](#Sumário:) Clique para voltar para o sumário"
   ]
  },
  {
   "cell_type": "markdown",
   "id": "4ec5783c",
   "metadata": {},
   "source": [
    "### Um namespace em Python é um mapeamento entre nomes (variáveis, funções, classes, etc.) e objetos. Os namespaces são usados para evitar conflitos de nomenclatura e para organizar o código em unidades lógicas. Python tem vários namespaces integrados, incluindo o namespace global, o namespace local de uma função ou módulo e o namespace integrado."
   ]
  },
  {
   "cell_type": "markdown",
   "id": "d7457a1d",
   "metadata": {},
   "source": [
    "## 21. O que é resolução de escopo em Python? \n",
    "[&#x1F53C;](#Sumário:) Clique para voltar para o sumário"
   ]
  },
  {
   "cell_type": "markdown",
   "id": "0e5d6d78",
   "metadata": {},
   "source": [
    "### A resolução de escopo em Python refere-se ao processo de determinar a qual namespace um nome pertence. Quando um nome é usado em um programa Python, Python primeiro o procura no namespace local da função ou módulo atual, depois no namespace global e, finalmente, no namespace integrado. Se o nome não for encontrado em nenhum desses namespaces, um NameError será gerado."
   ]
  },
  {
   "cell_type": "markdown",
   "id": "616fa42b",
   "metadata": {},
   "source": [
    "## 22. O que são decoradores em Python? \n",
    "[&#x1F53C;](#Sumário:) Clique para voltar para o sumário"
   ]
  },
  {
   "cell_type": "markdown",
   "id": "f8667827",
   "metadata": {},
   "source": [
    "### Os decoradores em Python são uma forma de modificar ou estender o comportamento de uma função ou classe sem alterar seu código-fonte. Um decorador é uma função que recebe outra função como argumento e retorna uma nova função que envolve a função original. Os decoradores geralmente são usados para adicionar funcionalidades como cache, log ou tratamento de erros a uma função ou classe."
   ]
  },
  {
   "cell_type": "markdown",
   "id": "8c2593f4",
   "metadata": {},
   "source": [
    "## 23. O que são as compreensões Dict e List? \n",
    "[&#x1F53C;](#Sumário:) Clique para voltar para o sumário"
   ]
  },
  {
   "cell_type": "markdown",
   "id": "24294649",
   "metadata": {},
   "source": [
    "### As compreensões de lista e dicionário são uma maneira concisa de criar listas e dicionários em Python. Uma compreensão de lista é uma maneira compacta de criar uma nova lista aplicando uma expressão a cada elemento de uma lista existente ou iterável. Uma compreensão de dicionário é uma construção semelhante que cria um novo dicionário a partir de um dicionário existente ou iterável."
   ]
  },
  {
   "cell_type": "markdown",
   "id": "b464b669",
   "metadata": {},
   "source": [
    "## 24. O que é lambda em Python? Por que é usado? \n",
    "[&#x1F53C;](#Sumário:) Clique para voltar para o sumário"
   ]
  },
  {
   "cell_type": "markdown",
   "id": "e3d6f29d",
   "metadata": {},
   "source": [
    "### As funções Lambda em Python são funções anônimas que são definidas dinamicamente e podem ser usadas como argumentos para funções de ordem superior ou em construções de programação funcional, como mapear, filtrar e reduzir. As funções Lambda são usadas quando uma função é necessária apenas por um curto período de tempo e seria inconveniente defini-la como uma função nomeada."
   ]
  },
  {
   "cell_type": "markdown",
   "id": "26718bd6",
   "metadata": {},
   "source": [
    "## 25. Como você copia um objeto em Python? \n",
    "[&#x1F53C;](#Sumário:) Clique para voltar para o sumário"
   ]
  },
  {
   "cell_type": "markdown",
   "id": "4ede0945",
   "metadata": {},
   "source": [
    "### Existem diferentes maneiras de copiar um objeto em Python, dependendo do tipo de objeto e do comportamento desejado. Para objetos mutáveis, como listas ou dicionários, uma cópia superficial pode ser criada usando o método copy() ou as funções internas list() ou dict(). Uma cópia profunda pode ser criada usando a função deepcopy() do módulo de cópia. Para objetos imutáveis, como números ou strings, uma instrução de atribuição simples cria uma nova referência ao mesmo objeto, o que efetivamente cria uma cópia."
   ]
  },
  {
   "cell_type": "markdown",
   "id": "00475838",
   "metadata": {},
   "source": [
    "## 26. O que é Pickling e Unpickling? \n",
    "[&#x1F53C;](#Sumário:) Clique para voltar para o sumário"
   ]
  },
  {
   "cell_type": "markdown",
   "id": "3217b06b",
   "metadata": {},
   "source": [
    "### Pickling e unpickling são métodos de serialização e desserialização de objetos Python. Pickling refere-se ao processo de conversão de um objeto em um fluxo de bytes, que pode ser salvo em um arquivo ou enviado por uma rede. Unpickling é o processo inverso de converter um fluxo de bytes de volta em um objeto. O módulo pickle em Python fornece funções para decapagem e decapagem de objetos."
   ]
  },
  {
   "cell_type": "markdown",
   "id": "5075bea3",
   "metadata": {},
   "source": [
    "## 27. O que são geradores em Python? \n",
    "[&#x1F53C;](#Sumário:) Clique para voltar para o sumário"
   ]
  },
  {
   "cell_type": "markdown",
   "id": "68d3aa17",
   "metadata": {},
   "source": [
    "### Geradores em Python são uma maneira de criar iteradores que produzem uma sequência de valores em tempo real. Uma função geradora é um tipo especial de função que usa a palavra-chave yield para produzir um valor e suspende temporariamente sua execução, preservando seu estado local. Quando o próximo valor é solicitado, a função retoma a execução de onde parou até atingir outra instrução yield ou o final da função."
   ]
  },
  {
   "cell_type": "markdown",
   "id": "bad05c9b",
   "metadata": {},
   "source": [
    "## 28. O que é PYTHONPATH em Python? \n",
    "[&#x1F53C;](#Sumário:) Clique para voltar para o sumário"
   ]
  },
  {
   "cell_type": "markdown",
   "id": "8a673102",
   "metadata": {},
   "source": [
    "### PYTHON PATH é uma variável de ambiente que contém uma lista de diretórios separados por dois pontos (em sistemas baseados em Unix) ou ponto e vírgula (em Windows) que o Python usa para procurar módulos ao importá-los. Quando um módulo é importado, o Python procura por ele nos diretórios listados em PYTHONPATH na ordem em que aparecem."
   ]
  },
  {
   "cell_type": "markdown",
   "id": "13217acd",
   "metadata": {},
   "source": [
    "## 29. Para que servem as funções help() e dir()? \n",
    "[&#x1F53C;](#Sumário:) Clique para voltar para o sumário"
   ]
  },
  {
   "cell_type": "markdown",
   "id": "6da769bd",
   "metadata": {},
   "source": [
    "### help() e dir() são funções internas em Python que são usadas para obter informações sobre um objeto ou módulo.\n",
    "* help() exibe a documentação sobre o objeto ou módulo especificado. Por exemplo, help(list) exibirá informações sobre o tipo de dados da lista em Python.\n",
    "* dir() retorna uma lista de atributos e métodos válidos para o objeto especificado. Por exemplo, dir(list) retornará uma lista de atributos e métodos que podem ser usados com listas em Python."
   ]
  },
  {
   "cell_type": "markdown",
   "id": "ccb6d248",
   "metadata": {},
   "source": [
    "## 30. Qual é a diferença entre arquivos py e pyc? \n",
    "[&#x1F53C;](#Sumário:) Clique para voltar para o sumário"
   ]
  },
  {
   "cell_type": "markdown",
   "id": "bb763813",
   "metadata": {},
   "source": [
    "### Arquivos .py são arquivos de código-fonte Python, enquanto arquivos .pyc são arquivos bytecode compilados. Quando um módulo Python é importado, o interpretador primeiro verifica se existe um arquivo .pyc correspondente. Se o arquivo .pyc for mais recente que o arquivo .py ou se não houver arquivo .py, o interpretador usará o arquivo .pyc. Se o arquivo .pyc não existir ou for mais antigo que o arquivo .py, o interpretador irá compilar o código-fonte e criar um novo arquivo .pyc. Os arquivos .pyc são criados para acelerar o processo de importação de módulos, pois o bytecode pode ser carregado mais rapidamente do que a análise do código-fonte cada vez que o módulo é importado."
   ]
  }
 ],
 "metadata": {
  "kernelspec": {
   "display_name": "Python 3 (ipykernel)",
   "language": "python",
   "name": "python3"
  },
  "language_info": {
   "codemirror_mode": {
    "name": "ipython",
    "version": 3
   },
   "file_extension": ".py",
   "mimetype": "text/x-python",
   "name": "python",
   "nbconvert_exporter": "python",
   "pygments_lexer": "ipython3",
   "version": "3.9.16"
  }
 },
 "nbformat": 4,
 "nbformat_minor": 5
}
